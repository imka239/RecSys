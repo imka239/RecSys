{
 "cells": [
  {
   "cell_type": "markdown",
   "metadata": {
    "id": "vwb3uQUnuSMg"
   },
   "source": [
    "### Матричные факторизации"
   ]
  },
  {
   "cell_type": "code",
   "execution_count": null,
   "metadata": {
    "colab": {
     "base_uri": "https://localhost:8080/"
    },
    "id": "6vBXBHckuSMl",
    "outputId": "6eec6114-1600-442f-fc2c-99ca5fe0b0eb"
   },
   "outputs": [],
   "source": []
  },
  {
   "cell_type": "markdown",
   "metadata": {
    "id": "NFWgFw5OuSMm"
   },
   "source": [
    "В данной работе вам предстоит познакомиться с практической стороной матричных разложений.\n",
    "Работа поделена на 4 задания:\n",
    "1. Вам необходимо реализовать SVD разложения используя SGD на explicit данных\n",
    "2. Вам необходимо реализовать матричное разложения используя ALS на implicit данных\n",
    "3. Вам необходимо реализовать матричное разложения используя BPR(pair-wise loss) на implicit данных\n",
    "4. Вам необходимо реализовать матричное разложения используя WARP(list-wise loss) на implicit данных\n"
   ]
  },
  {
   "cell_type": "code",
   "execution_count": 1,
   "metadata": {
    "colab": {
     "base_uri": "https://localhost:8080/",
     "height": 381
    },
    "id": "cP4dc6IhuSMo",
    "outputId": "2ea34361-9540-47bc-95c4-a4bb39894cd2"
   },
   "outputs": [
    {
     "name": "stderr",
     "output_type": "stream",
     "text": [
      "C:\\Users\\ASUS\\anaconda3\\lib\\site-packages\\lightfm\\_lightfm_fast.py:10: UserWarning: LightFM was compiled without OpenMP support. Only a single thread will be used.\n",
      "  \"LightFM was compiled without OpenMP support. \"\n"
     ]
    }
   ],
   "source": [
    "\n",
    "import implicit\n",
    "import pandas as pd\n",
    "import numpy as np\n",
    "import scipy.sparse as sp\n",
    "\n",
    "from lightfm.datasets import fetch_movielens"
   ]
  },
  {
   "cell_type": "markdown",
   "metadata": {
    "id": "eFhlgsQ8uSMp"
   },
   "source": [
    "В данной работе мы будем работать с explicit датасетом movieLens, в котором представленны пары user_id movie_id и rating выставленный пользователем фильму\n",
    "\n",
    "Скачать датасет можно по ссылке https://grouplens.org/datasets/movielens/1m/"
   ]
  },
  {
   "cell_type": "code",
   "execution_count": 2,
   "metadata": {
    "colab": {
     "base_uri": "https://localhost:8080/",
     "height": 221
    },
    "id": "0aDnNnsQuSMq",
    "outputId": "cb4546f3-46b8-42eb-f94a-0a9a9146061f"
   },
   "outputs": [
    {
     "data": {
      "text/html": [
       "<div>\n",
       "<style scoped>\n",
       "    .dataframe tbody tr th:only-of-type {\n",
       "        vertical-align: middle;\n",
       "    }\n",
       "\n",
       "    .dataframe tbody tr th {\n",
       "        vertical-align: top;\n",
       "    }\n",
       "\n",
       "    .dataframe thead th {\n",
       "        text-align: right;\n",
       "    }\n",
       "</style>\n",
       "<table border=\"1\" class=\"dataframe\">\n",
       "  <thead>\n",
       "    <tr style=\"text-align: right;\">\n",
       "      <th></th>\n",
       "      <th>user_id</th>\n",
       "      <th>movie_id</th>\n",
       "      <th>rating</th>\n",
       "    </tr>\n",
       "  </thead>\n",
       "  <tbody>\n",
       "    <tr>\n",
       "      <th>0</th>\n",
       "      <td>1</td>\n",
       "      <td>1193</td>\n",
       "      <td>5</td>\n",
       "    </tr>\n",
       "    <tr>\n",
       "      <th>1</th>\n",
       "      <td>1</td>\n",
       "      <td>661</td>\n",
       "      <td>3</td>\n",
       "    </tr>\n",
       "    <tr>\n",
       "      <th>2</th>\n",
       "      <td>1</td>\n",
       "      <td>914</td>\n",
       "      <td>3</td>\n",
       "    </tr>\n",
       "    <tr>\n",
       "      <th>3</th>\n",
       "      <td>1</td>\n",
       "      <td>3408</td>\n",
       "      <td>4</td>\n",
       "    </tr>\n",
       "    <tr>\n",
       "      <th>4</th>\n",
       "      <td>1</td>\n",
       "      <td>2355</td>\n",
       "      <td>5</td>\n",
       "    </tr>\n",
       "    <tr>\n",
       "      <th>...</th>\n",
       "      <td>...</td>\n",
       "      <td>...</td>\n",
       "      <td>...</td>\n",
       "    </tr>\n",
       "    <tr>\n",
       "      <th>1000204</th>\n",
       "      <td>6040</td>\n",
       "      <td>1091</td>\n",
       "      <td>1</td>\n",
       "    </tr>\n",
       "    <tr>\n",
       "      <th>1000205</th>\n",
       "      <td>6040</td>\n",
       "      <td>1094</td>\n",
       "      <td>5</td>\n",
       "    </tr>\n",
       "    <tr>\n",
       "      <th>1000206</th>\n",
       "      <td>6040</td>\n",
       "      <td>562</td>\n",
       "      <td>5</td>\n",
       "    </tr>\n",
       "    <tr>\n",
       "      <th>1000207</th>\n",
       "      <td>6040</td>\n",
       "      <td>1096</td>\n",
       "      <td>4</td>\n",
       "    </tr>\n",
       "    <tr>\n",
       "      <th>1000208</th>\n",
       "      <td>6040</td>\n",
       "      <td>1097</td>\n",
       "      <td>4</td>\n",
       "    </tr>\n",
       "  </tbody>\n",
       "</table>\n",
       "<p>1000209 rows × 3 columns</p>\n",
       "</div>"
      ],
      "text/plain": [
       "         user_id  movie_id  rating\n",
       "0              1      1193       5\n",
       "1              1       661       3\n",
       "2              1       914       3\n",
       "3              1      3408       4\n",
       "4              1      2355       5\n",
       "...          ...       ...     ...\n",
       "1000204     6040      1091       1\n",
       "1000205     6040      1094       5\n",
       "1000206     6040       562       5\n",
       "1000207     6040      1096       4\n",
       "1000208     6040      1097       4\n",
       "\n",
       "[1000209 rows x 3 columns]"
      ]
     },
     "execution_count": 2,
     "metadata": {},
     "output_type": "execute_result"
    }
   ],
   "source": [
    "ratings = pd.read_csv('ratings.dat', delimiter='::', header=None, \n",
    "        names=['user_id', 'movie_id', 'rating', 'timestamp'], \n",
    "        usecols=['user_id', 'movie_id', 'rating'], engine='python')\n",
    "ratings"
   ]
  },
  {
   "cell_type": "code",
   "execution_count": 3,
   "metadata": {
    "id": "AxlkI6gYuSMr"
   },
   "outputs": [],
   "source": [
    "movie_info = pd.read_csv('movies.dat', delimiter='::', header=None, \n",
    "        names=['movie_id', 'name', 'category'], engine='python')"
   ]
  },
  {
   "cell_type": "markdown",
   "metadata": {
    "id": "QFeD-DwHuSMr"
   },
   "source": [
    "Explicit данные"
   ]
  },
  {
   "cell_type": "code",
   "execution_count": 4,
   "metadata": {
    "id": "P3P-T0B-uSMs"
   },
   "outputs": [
    {
     "data": {
      "text/html": [
       "<div>\n",
       "<style scoped>\n",
       "    .dataframe tbody tr th:only-of-type {\n",
       "        vertical-align: middle;\n",
       "    }\n",
       "\n",
       "    .dataframe tbody tr th {\n",
       "        vertical-align: top;\n",
       "    }\n",
       "\n",
       "    .dataframe thead th {\n",
       "        text-align: right;\n",
       "    }\n",
       "</style>\n",
       "<table border=\"1\" class=\"dataframe\">\n",
       "  <thead>\n",
       "    <tr style=\"text-align: right;\">\n",
       "      <th></th>\n",
       "      <th>user_id</th>\n",
       "      <th>movie_id</th>\n",
       "      <th>rating</th>\n",
       "    </tr>\n",
       "  </thead>\n",
       "  <tbody>\n",
       "    <tr>\n",
       "      <th>0</th>\n",
       "      <td>1</td>\n",
       "      <td>1193</td>\n",
       "      <td>5</td>\n",
       "    </tr>\n",
       "    <tr>\n",
       "      <th>1</th>\n",
       "      <td>1</td>\n",
       "      <td>661</td>\n",
       "      <td>3</td>\n",
       "    </tr>\n",
       "    <tr>\n",
       "      <th>2</th>\n",
       "      <td>1</td>\n",
       "      <td>914</td>\n",
       "      <td>3</td>\n",
       "    </tr>\n",
       "    <tr>\n",
       "      <th>3</th>\n",
       "      <td>1</td>\n",
       "      <td>3408</td>\n",
       "      <td>4</td>\n",
       "    </tr>\n",
       "    <tr>\n",
       "      <th>4</th>\n",
       "      <td>1</td>\n",
       "      <td>2355</td>\n",
       "      <td>5</td>\n",
       "    </tr>\n",
       "    <tr>\n",
       "      <th>5</th>\n",
       "      <td>1</td>\n",
       "      <td>1197</td>\n",
       "      <td>3</td>\n",
       "    </tr>\n",
       "    <tr>\n",
       "      <th>6</th>\n",
       "      <td>1</td>\n",
       "      <td>1287</td>\n",
       "      <td>5</td>\n",
       "    </tr>\n",
       "    <tr>\n",
       "      <th>7</th>\n",
       "      <td>1</td>\n",
       "      <td>2804</td>\n",
       "      <td>5</td>\n",
       "    </tr>\n",
       "    <tr>\n",
       "      <th>8</th>\n",
       "      <td>1</td>\n",
       "      <td>594</td>\n",
       "      <td>4</td>\n",
       "    </tr>\n",
       "    <tr>\n",
       "      <th>9</th>\n",
       "      <td>1</td>\n",
       "      <td>919</td>\n",
       "      <td>4</td>\n",
       "    </tr>\n",
       "  </tbody>\n",
       "</table>\n",
       "</div>"
      ],
      "text/plain": [
       "   user_id  movie_id  rating\n",
       "0        1      1193       5\n",
       "1        1       661       3\n",
       "2        1       914       3\n",
       "3        1      3408       4\n",
       "4        1      2355       5\n",
       "5        1      1197       3\n",
       "6        1      1287       5\n",
       "7        1      2804       5\n",
       "8        1       594       4\n",
       "9        1       919       4"
      ]
     },
     "execution_count": 4,
     "metadata": {},
     "output_type": "execute_result"
    }
   ],
   "source": [
    "ratings.head(10)"
   ]
  },
  {
   "cell_type": "markdown",
   "metadata": {
    "id": "7Fs78gm3uSMt"
   },
   "source": [
    "Для того, чтобы преобразовать текущий датасет в Implicit, давайте считать что позитивная оценка это оценка >=4"
   ]
  },
  {
   "cell_type": "code",
   "execution_count": 5,
   "metadata": {
    "id": "0jmZqLAzuSMt"
   },
   "outputs": [],
   "source": [
    "implicit_ratings = ratings.loc[(ratings['rating'] >= 4)]"
   ]
  },
  {
   "cell_type": "code",
   "execution_count": 6,
   "metadata": {
    "id": "PCiDOfMpuSMu"
   },
   "outputs": [
    {
     "data": {
      "text/html": [
       "<div>\n",
       "<style scoped>\n",
       "    .dataframe tbody tr th:only-of-type {\n",
       "        vertical-align: middle;\n",
       "    }\n",
       "\n",
       "    .dataframe tbody tr th {\n",
       "        vertical-align: top;\n",
       "    }\n",
       "\n",
       "    .dataframe thead th {\n",
       "        text-align: right;\n",
       "    }\n",
       "</style>\n",
       "<table border=\"1\" class=\"dataframe\">\n",
       "  <thead>\n",
       "    <tr style=\"text-align: right;\">\n",
       "      <th></th>\n",
       "      <th>user_id</th>\n",
       "      <th>movie_id</th>\n",
       "      <th>rating</th>\n",
       "    </tr>\n",
       "  </thead>\n",
       "  <tbody>\n",
       "    <tr>\n",
       "      <th>0</th>\n",
       "      <td>1</td>\n",
       "      <td>1193</td>\n",
       "      <td>5</td>\n",
       "    </tr>\n",
       "    <tr>\n",
       "      <th>3</th>\n",
       "      <td>1</td>\n",
       "      <td>3408</td>\n",
       "      <td>4</td>\n",
       "    </tr>\n",
       "    <tr>\n",
       "      <th>4</th>\n",
       "      <td>1</td>\n",
       "      <td>2355</td>\n",
       "      <td>5</td>\n",
       "    </tr>\n",
       "    <tr>\n",
       "      <th>6</th>\n",
       "      <td>1</td>\n",
       "      <td>1287</td>\n",
       "      <td>5</td>\n",
       "    </tr>\n",
       "    <tr>\n",
       "      <th>7</th>\n",
       "      <td>1</td>\n",
       "      <td>2804</td>\n",
       "      <td>5</td>\n",
       "    </tr>\n",
       "    <tr>\n",
       "      <th>8</th>\n",
       "      <td>1</td>\n",
       "      <td>594</td>\n",
       "      <td>4</td>\n",
       "    </tr>\n",
       "    <tr>\n",
       "      <th>9</th>\n",
       "      <td>1</td>\n",
       "      <td>919</td>\n",
       "      <td>4</td>\n",
       "    </tr>\n",
       "    <tr>\n",
       "      <th>10</th>\n",
       "      <td>1</td>\n",
       "      <td>595</td>\n",
       "      <td>5</td>\n",
       "    </tr>\n",
       "    <tr>\n",
       "      <th>11</th>\n",
       "      <td>1</td>\n",
       "      <td>938</td>\n",
       "      <td>4</td>\n",
       "    </tr>\n",
       "    <tr>\n",
       "      <th>12</th>\n",
       "      <td>1</td>\n",
       "      <td>2398</td>\n",
       "      <td>4</td>\n",
       "    </tr>\n",
       "  </tbody>\n",
       "</table>\n",
       "</div>"
      ],
      "text/plain": [
       "    user_id  movie_id  rating\n",
       "0         1      1193       5\n",
       "3         1      3408       4\n",
       "4         1      2355       5\n",
       "6         1      1287       5\n",
       "7         1      2804       5\n",
       "8         1       594       4\n",
       "9         1       919       4\n",
       "10        1       595       5\n",
       "11        1       938       4\n",
       "12        1      2398       4"
      ]
     },
     "execution_count": 6,
     "metadata": {},
     "output_type": "execute_result"
    }
   ],
   "source": [
    "implicit_ratings.head(10)"
   ]
  },
  {
   "cell_type": "markdown",
   "metadata": {
    "id": "QRMA1PeTuSMv"
   },
   "source": [
    "Удобнее работать с sparse матричками, давайте преобразуем DataFrame в CSR матрицы"
   ]
  },
  {
   "cell_type": "code",
   "execution_count": 7,
   "metadata": {
    "id": "uWexXohMuSMv"
   },
   "outputs": [],
   "source": [
    "users = implicit_ratings[\"user_id\"]\n",
    "movies = implicit_ratings[\"movie_id\"]\n",
    "user_item = sp.coo_matrix((np.ones_like(users), (users, movies)))\n",
    "user_item_t_csr = user_item.T.tocsr()\n",
    "user_item_csr = user_item.tocsr()"
   ]
  },
  {
   "cell_type": "markdown",
   "metadata": {
    "id": "oBE9FRzOuSMw"
   },
   "source": [
    "В качестве примера воспользуемся ALS разложением из библиотеки implicit\n",
    "\n",
    "Зададим размерность латентного пространства равным 64, это же определяет размер user/item эмбедингов"
   ]
  },
  {
   "cell_type": "code",
   "execution_count": 9,
   "metadata": {
    "id": "KKfXUy3_uSMw"
   },
   "outputs": [
    {
     "name": "stderr",
     "output_type": "stream",
     "text": [
      "WARNING:root:OpenBLAS detected. Its highly recommend to set the environment variable 'export OPENBLAS_NUM_THREADS=1' to disable its internal multithreading\n"
     ]
    }
   ],
   "source": [
    "model = implicit.als.AlternatingLeastSquares(factors=64, iterations=100, calculate_training_loss=True)"
   ]
  },
  {
   "cell_type": "markdown",
   "metadata": {
    "id": "jRBJ6t-PuSMx"
   },
   "source": [
    "В качестве loss здесь всеми любимый RMSE"
   ]
  },
  {
   "cell_type": "code",
   "execution_count": 10,
   "metadata": {
    "id": "VBXoHxM-uSMx"
   },
   "outputs": [
    {
     "data": {
      "application/vnd.jupyter.widget-view+json": {
       "model_id": "643f68343ff5405197df1a1d597becfb",
       "version_major": 2,
       "version_minor": 0
      },
      "text/plain": [
       "HBox(children=(FloatProgress(value=0.0), HTML(value='')))"
      ]
     },
     "metadata": {},
     "output_type": "display_data"
    },
    {
     "name": "stdout",
     "output_type": "stream",
     "text": [
      "\n"
     ]
    }
   ],
   "source": [
    "model.fit(user_item_t_csr)"
   ]
  },
  {
   "cell_type": "markdown",
   "metadata": {
    "id": "G1Xc5AmTuSMy"
   },
   "source": [
    "Построим похожие фильмы по 1 movie_id = Истории игрушек"
   ]
  },
  {
   "cell_type": "code",
   "execution_count": 11,
   "metadata": {
    "id": "PFB6JDXzuSMy"
   },
   "outputs": [
    {
     "data": {
      "text/html": [
       "<div>\n",
       "<style scoped>\n",
       "    .dataframe tbody tr th:only-of-type {\n",
       "        vertical-align: middle;\n",
       "    }\n",
       "\n",
       "    .dataframe tbody tr th {\n",
       "        vertical-align: top;\n",
       "    }\n",
       "\n",
       "    .dataframe thead th {\n",
       "        text-align: right;\n",
       "    }\n",
       "</style>\n",
       "<table border=\"1\" class=\"dataframe\">\n",
       "  <thead>\n",
       "    <tr style=\"text-align: right;\">\n",
       "      <th></th>\n",
       "      <th>movie_id</th>\n",
       "      <th>name</th>\n",
       "      <th>category</th>\n",
       "    </tr>\n",
       "  </thead>\n",
       "  <tbody>\n",
       "    <tr>\n",
       "      <th>0</th>\n",
       "      <td>1</td>\n",
       "      <td>Toy Story (1995)</td>\n",
       "      <td>Animation|Children's|Comedy</td>\n",
       "    </tr>\n",
       "    <tr>\n",
       "      <th>1</th>\n",
       "      <td>2</td>\n",
       "      <td>Jumanji (1995)</td>\n",
       "      <td>Adventure|Children's|Fantasy</td>\n",
       "    </tr>\n",
       "    <tr>\n",
       "      <th>2</th>\n",
       "      <td>3</td>\n",
       "      <td>Grumpier Old Men (1995)</td>\n",
       "      <td>Comedy|Romance</td>\n",
       "    </tr>\n",
       "    <tr>\n",
       "      <th>3</th>\n",
       "      <td>4</td>\n",
       "      <td>Waiting to Exhale (1995)</td>\n",
       "      <td>Comedy|Drama</td>\n",
       "    </tr>\n",
       "    <tr>\n",
       "      <th>4</th>\n",
       "      <td>5</td>\n",
       "      <td>Father of the Bride Part II (1995)</td>\n",
       "      <td>Comedy</td>\n",
       "    </tr>\n",
       "  </tbody>\n",
       "</table>\n",
       "</div>"
      ],
      "text/plain": [
       "   movie_id                                name                      category\n",
       "0         1                    Toy Story (1995)   Animation|Children's|Comedy\n",
       "1         2                      Jumanji (1995)  Adventure|Children's|Fantasy\n",
       "2         3             Grumpier Old Men (1995)                Comedy|Romance\n",
       "3         4            Waiting to Exhale (1995)                  Comedy|Drama\n",
       "4         5  Father of the Bride Part II (1995)                        Comedy"
      ]
     },
     "execution_count": 11,
     "metadata": {},
     "output_type": "execute_result"
    }
   ],
   "source": [
    "movie_info.head(5)"
   ]
  },
  {
   "cell_type": "code",
   "execution_count": 12,
   "metadata": {
    "id": "cxq1dmk8uSMz"
   },
   "outputs": [],
   "source": [
    "get_similars = lambda item_id, model : [movie_info[movie_info[\"movie_id\"] == x[0]][\"name\"].to_string() \n",
    "                                        for x in model.similar_items(item_id)]"
   ]
  },
  {
   "cell_type": "markdown",
   "metadata": {
    "id": "BsWDYsiiuSMz"
   },
   "source": [
    "Как мы видим, симилары действительно оказались симиларами.\n",
    "\n",
    "Качество симиларов часто является хорошим способом проверить качество алгоритмов.\n",
    "\n",
    "P.S. Если хочется поглубже разобраться в том как разные алгоритмы формируют разные латентные пространства, рекомендую загружать полученные вектора в tensorBoard и смотреть на сформированное пространство"
   ]
  },
  {
   "cell_type": "code",
   "execution_count": 13,
   "metadata": {
    "id": "XG-KEUnGuSM0"
   },
   "outputs": [
    {
     "data": {
      "text/plain": [
       "['0    Toy Story (1995)',\n",
       " '3045    Toy Story 2 (1999)',\n",
       " \"2286    Bug's Life, A (1998)\",\n",
       " '33    Babe (1995)',\n",
       " '584    Aladdin (1992)',\n",
       " '2315    Babe: Pig in the City (1998)',\n",
       " '360    Lion King, The (1994)',\n",
       " '1838    Mulan (1998)',\n",
       " '2618    Tarzan (1999)',\n",
       " '1526    Hercules (1997)']"
      ]
     },
     "execution_count": 13,
     "metadata": {},
     "output_type": "execute_result"
    }
   ],
   "source": [
    "get_similars(1, model)"
   ]
  },
  {
   "cell_type": "markdown",
   "metadata": {
    "id": "d50ddheEuSM0"
   },
   "source": [
    "Давайте теперь построим рекомендации для юзеров\n",
    "\n",
    "Как мы видим юзеру нравится фантастика, значит и в рекомендациях ожидаем увидеть фантастику"
   ]
  },
  {
   "cell_type": "code",
   "execution_count": 8,
   "metadata": {
    "id": "XGshZYRHuSM1"
   },
   "outputs": [],
   "source": [
    "get_user_history = lambda user_id, implicit_ratings : [movie_info[movie_info[\"movie_id\"] == x][\"name\"].to_string() \n",
    "                                            for x in implicit_ratings[implicit_ratings[\"user_id\"] == user_id][\"movie_id\"]]"
   ]
  },
  {
   "cell_type": "code",
   "execution_count": 15,
   "metadata": {
    "id": "xJtJtFuquSM1"
   },
   "outputs": [
    {
     "data": {
      "text/plain": [
       "['3399    Hustler, The (1961)',\n",
       " '2882    Fistful of Dollars, A (1964)',\n",
       " '1196    Alien (1979)',\n",
       " '1023    Die Hard (1988)',\n",
       " '257    Star Wars: Episode IV - A New Hope (1977)',\n",
       " '1959    Saving Private Ryan (1998)',\n",
       " '476    Jurassic Park (1993)',\n",
       " '1180    Raiders of the Lost Ark (1981)',\n",
       " '1885    Rocky (1976)',\n",
       " '1081    E.T. the Extra-Terrestrial (1982)',\n",
       " '3349    Thelma & Louise (1991)',\n",
       " '3633    Mad Max (1979)',\n",
       " '2297    King Kong (1933)',\n",
       " '1366    Jaws (1975)',\n",
       " '1183    Good, The Bad and The Ugly, The (1966)',\n",
       " '2623    Run Lola Run (Lola rennt) (1998)',\n",
       " '2878    Goldfinger (1964)',\n",
       " '1220    Terminator, The (1984)']"
      ]
     },
     "execution_count": 15,
     "metadata": {},
     "output_type": "execute_result"
    }
   ],
   "source": [
    "get_user_history(4, implicit_ratings)"
   ]
  },
  {
   "cell_type": "markdown",
   "metadata": {
    "id": "oTah-XK2uSM2"
   },
   "source": [
    "Получилось! \n",
    "\n",
    "Мы действительно порекомендовали пользователю фантастику и боевики, более того встречаются продолжения тех фильмов, которые он высоко оценил"
   ]
  },
  {
   "cell_type": "code",
   "execution_count": 16,
   "metadata": {
    "id": "3a653ZMkuSM3"
   },
   "outputs": [],
   "source": [
    "get_recommendations = lambda user_id, model : [movie_info[movie_info[\"movie_id\"] == x[0]][\"name\"].to_string() \n",
    "                                               for x in model.recommend(user_id, user_item_csr)]"
   ]
  },
  {
   "cell_type": "code",
   "execution_count": 17,
   "metadata": {
    "id": "3pGX5qP6uSM4"
   },
   "outputs": [
    {
     "data": {
      "text/plain": [
       "['585    Terminator 2: Judgment Day (1991)',\n",
       " '1271    Indiana Jones and the Last Crusade (1989)',\n",
       " '2502    Matrix, The (1999)',\n",
       " '1182    Aliens (1986)',\n",
       " '1284    Butch Cassidy and the Sundance Kid (1969)',\n",
       " '1178    Star Wars: Episode V - The Empire Strikes Back...',\n",
       " '847    Godfather, The (1972)',\n",
       " '3402    Close Encounters of the Third Kind (1977)',\n",
       " '1892    Rain Man (1988)',\n",
       " '453    Fugitive, The (1993)']"
      ]
     },
     "execution_count": 17,
     "metadata": {},
     "output_type": "execute_result"
    }
   ],
   "source": [
    "get_recommendations(4, model)"
   ]
  },
  {
   "cell_type": "code",
   "execution_count": null,
   "metadata": {
    "id": "ScS4z4WIuSM5"
   },
   "outputs": [],
   "source": []
  },
  {
   "cell_type": "markdown",
   "metadata": {
    "id": "1_JgH1jwuSM6"
   },
   "source": [
    "Теперь ваша очередь реализовать самые популярные алгоритмы матричных разложений\n",
    "\n",
    "Что будет оцениваться:\n",
    "1. Корректность алгоритма\n",
    "2. Качество получившихся симиларов\n",
    "3. Качество итоговых рекомендаций для юзера"
   ]
  },
  {
   "cell_type": "markdown",
   "metadata": {
    "id": "_09e4MBfuSM7"
   },
   "source": [
    "Сделаем сначала с рейтингом тоже самое что и с implicit данными (для rmse)"
   ]
  },
  {
   "cell_type": "code",
   "execution_count": 9,
   "metadata": {
    "id": "VKGX36E5uSM8"
   },
   "outputs": [],
   "source": [
    "users = ratings[\"user_id\"]\n",
    "movies = ratings[\"movie_id\"]\n",
    "user_item_exp = sp.coo_matrix((ratings[\"rating\"], (users, movies)))"
   ]
  },
  {
   "cell_type": "markdown",
   "metadata": {
    "id": "IVJLwdSRuSM8"
   },
   "source": [
    "Задание состоит в разделении матрицы на две - юзеры и фильмы, чтобы рекомендовать и находить похожие, мне удобно будет сделать класс, от которого 4 раза можно отнаследоваться"
   ]
  },
  {
   "cell_type": "markdown",
   "metadata": {
    "id": "H6q2WljquSM9"
   },
   "source": [
    "Очевидно нам понадобится rmse и 2 предсказателя"
   ]
  },
  {
   "cell_type": "code",
   "execution_count": 10,
   "metadata": {
    "id": "DkYKRywEuSM-"
   },
   "outputs": [],
   "source": [
    "from tqdm import tqdm\n",
    "from sklearn import metrics\n",
    "from sklearn.metrics.pairwise import cosine_similarity\n",
    "import math\n",
    "class Base:\n",
    "    def __init__(self, matrix, ratings, k, amount_of_users, amount_of_movies, start):\n",
    "        self.ratings = ratings\n",
    "        self.amount_of_users = amount_of_users\n",
    "        self.amount_of_movies = amount_of_movies\n",
    "        self.matrix = matrix\n",
    "        self.k = k\n",
    "        self.U = np.random.uniform(0, start / math.sqrt(k), (amount_of_users, k))\n",
    "        self.M = np.random.uniform(0, start / math.sqrt(k), (k, amount_of_movies))\n",
    "        self.B_u = np.random.uniform(0, start / math.sqrt(k), (amount_of_users, 1))\n",
    "        self.B_m = np.random.uniform(0, start / math.sqrt(k), (1, amount_of_movies))\n",
    "        self.mu = ratings.rating.mean() \n",
    "    \n",
    "    def rmse(self):\n",
    "        ans = self.ratings\n",
    "        matr2 = (self.U @ self.M)[ans[\"user_id\"], ans[\"movie_id\"]]\n",
    "        return metrics.mean_squared_error(self.ratings[\"rating\"], matr2, squared=True)\n",
    "    def make_recomendation(self, u_id):\n",
    "        print('User films')\n",
    "        print()\n",
    "        u_films = get_user_history(u_id, ratings)[:10]\n",
    "        print(*u_films, sep='\\n')\n",
    "        print()\n",
    "        print('Recomendation')\n",
    "        print()\n",
    "        prediction = self.U @ self.M\n",
    "        rating = np.argsort(prediction[u_id])[::-1]\n",
    "        return rating\n",
    "        \n",
    "    \n",
    "    def make_recomendation(self, u_id):\n",
    "        print('User films')\n",
    "        print()\n",
    "        u_films = get_user_history(u_id, self.ratings)[:10]\n",
    "        print(*u_films, sep='\\n')\n",
    "        print()\n",
    "        print('Recomendation')\n",
    "        print()\n",
    "        prediction = self.U @ self.M\n",
    "        rating = np.argsort(prediction[u_id])[::-1]\n",
    "        for i in rating[:10]:\n",
    "            print(*movie_info[movie_info['movie_id'] == i][['name', 'category']].values)\n",
    "        return\n",
    "\n",
    "    def find_similar1(self, m_id):\n",
    "        print('Film', movie_info[movie_info['movie_id'] == m_id][['name', 'category']].to_string())\n",
    "        similarity = np.dot(self.M[:,m_id], self.M) / np.sqrt((self.M * self.M).sum(axis=0)) / np.sqrt((self.M[:,m_id] ** 2).sum())\n",
    "        recomend = np.argsort(similarity)[::-1]\n",
    "        for i in recomend[:10]:\n",
    "            print(movie_info[movie_info['movie_id'] == i][['name', 'category']].values)\n",
    "        return\n",
    "        \n",
    "    def find_similar2(self, m_id):\n",
    "        movies = self.M.T\n",
    "        print('Film', movie_info[movie_info['movie_id'] == m_id][['name', 'category']].to_string())\n",
    "        matr1 = movies[m_id]\n",
    "        matr2 = movies\n",
    "        similarity = cosine_similarity(np.expand_dims(matr1, axis=0), self.M.T)[0]\n",
    "        similarity = np.argsort(similarity)[::-1]\n",
    "        #similarity = np.dot(self.M[:,m_id], self.M) / np.sqrt((self.M * self.M).sum(axis=0)) / np.sqrt((self.M[:,m_id] ** 2).sum())\n",
    "        for i in similarity[:10]:\n",
    "            print(movie_info[movie_info['movie_id'] == i][['name', 'category']].values)\n",
    "        return"
   ]
  },
  {
   "cell_type": "markdown",
   "metadata": {
    "id": "ujQCY1vGuSNA"
   },
   "source": [
    "### Задание 1. Не использую готовые решения, реализовать SVD разложение используя SGD на explicit данных"
   ]
  },
  {
   "cell_type": "markdown",
   "metadata": {
    "id": "EnvbLuTzuSNB"
   },
   "source": [
    "Делаем все по презентации, добавляя Баеса"
   ]
  },
  {
   "cell_type": "code",
   "execution_count": 11,
   "metadata": {
    "id": "CpofjXlcuSNB"
   },
   "outputs": [],
   "source": [
    "class SVD(Base):\n",
    "    def __init__(self, matrix, ratings, k, amount_of_users, amount_of_movies, start):\n",
    "        super().__init__(matrix, ratings, k, amount_of_users, amount_of_movies, start)\n",
    "    def fit(self, ops, learning_rate = 0.01, regular = 0.001):\n",
    "        inds = [i for i in range(len(self.ratings))]\n",
    "        np.random.shuffle(inds)        \n",
    "        for i in range(ops):\n",
    "            ind = inds[i % len(self.ratings)]\n",
    "            u_id = self.ratings.loc[ind]['user_id']\n",
    "            m_id = self.ratings.loc[ind]['movie_id']\n",
    "            rat = self.ratings.loc[ind]['rating']\n",
    "            error = self.U[u_id] @ self.M[:,m_id] - rat #+ self.B_u[u_id] + self.B_m[:,m_id]\n",
    "            self.U[u_id], self.M[:,m_id] = self.U[u_id] - learning_rate * (error * (self.M[:,m_id]).T + regular * self.U[u_id]), self.M[:,m_id] - learning_rate * (error * (self.U[u_id]).T + regular * self.M[:,m_id]) \n",
    "            self.B_u[u_id] = self.B_u[u_id] - learning_rate * (error + regular * self.B_u[u_id])\n",
    "            self.B_m[:,m_id] = self.B_m[:,m_id] - learning_rate * (error + regular * self.B_m[:, m_id])\n",
    "            self.mu -= learning_rate * error\n",
    "            if (i % 100000 == 99999):\n",
    "                print(self.rmse())"
   ]
  },
  {
   "cell_type": "code",
   "execution_count": 302,
   "metadata": {
    "id": "ROvnnx64uSND"
   },
   "outputs": [
    {
     "name": "stdout",
     "output_type": "stream",
     "text": [
      "1.4128963404981347\n",
      "1.0868766707104816\n",
      "0.9775460609909443\n",
      "0.9275856565687423\n",
      "0.8986398142055274\n",
      "0.8792319339929933\n",
      "0.8677322446597712\n",
      "0.8581926130376459\n",
      "0.8525012260632937\n",
      "0.8450313521729542\n",
      "0.8420397953520407\n",
      "0.8394254121171557\n",
      "0.8337618316382864\n",
      "0.8318608394286806\n",
      "0.8287541845753974\n",
      "0.8251606270435216\n",
      "0.823212611841964\n",
      "0.8200079106385986\n",
      "0.8187264198032734\n",
      "0.8137080389456107\n",
      "0.811870070872488\n",
      "0.8097394786117421\n",
      "0.8037800580142801\n",
      "0.8013109202649075\n",
      "0.797141218441623\n",
      "0.792195974186747\n",
      "0.7882977429941315\n",
      "0.7834697484894592\n",
      "0.7802587371175377\n",
      "0.7732088675187098\n",
      "0.7688988314179441\n",
      "0.7643972575124304\n",
      "0.75660567133915\n",
      "0.7520774977256613\n",
      "0.7461186045957932\n",
      "0.7397728022053589\n",
      "0.7346449551586416\n",
      "0.7283286316091647\n",
      "0.724337824020763\n",
      "0.7164768617595103\n",
      "0.7114943922240705\n",
      "0.7062546983710112\n",
      "0.6983822668254513\n",
      "0.6937066968528035\n",
      "0.6872495449007521\n",
      "0.6811944827384131\n",
      "0.6761587252714077\n",
      "0.6697822122636249\n",
      "0.6657229753560518\n",
      "0.6580722641776798\n",
      "0.6530984726276434\n",
      "0.6480883585604486\n",
      "0.6407504864614714\n",
      "0.6362719312802515\n",
      "0.6302420501481573\n",
      "0.6248000425815542\n",
      "0.6205113703514357\n",
      "0.6147448548030803\n",
      "0.6107994098251994\n",
      "0.6037956416152209\n",
      "0.5993621325426589\n",
      "0.5950790566733766\n",
      "0.5885462512344429\n",
      "0.5845025895342696\n",
      "0.5794015595793773\n",
      "0.5747482630817833\n",
      "0.5709795028532503\n",
      "0.5662905860827578\n",
      "0.5627238174120549\n",
      "0.5567988281482802\n",
      "0.5527781249411813\n",
      "0.5493618054091155\n",
      "0.5437541978764455\n",
      "0.5404159297643998\n",
      "0.536086205677393\n",
      "0.5322526143200502\n",
      "0.5291161140094173\n",
      "0.5253341518295391\n",
      "0.5221307282378945\n",
      "0.517331709764611\n",
      "0.5138917565027281\n",
      "0.5112212844468337\n",
      "0.5064226775212789\n",
      "0.5036396879327089\n",
      "0.5002207355384044\n",
      "0.4971424064493539\n",
      "0.4945487990677355\n",
      "0.4914136219820011\n",
      "0.488727394527434\n",
      "0.4848292800061079\n",
      "0.4817639585022785\n",
      "0.47980225805989224\n",
      "0.4756415723250802\n",
      "0.47346979661279015\n",
      "0.47064591768145964\n",
      "0.4683180517189129\n",
      "0.4661564059701292\n",
      "0.4635185143939782\n",
      "0.46127151471500233\n",
      "0.45818025534665136\n",
      "0.4554079170574409\n",
      "0.45413265521874946\n",
      "0.45048809987336585\n",
      "0.4486683509817182\n",
      "0.4464912076696351\n",
      "0.44457048383187575\n",
      "0.4427396916621532\n",
      "0.4403995844464309\n",
      "0.43864633449498935\n",
      "0.4361826038922987\n",
      "0.4336600896599459\n",
      "0.43294305103297626\n",
      "0.4295379867182946\n",
      "0.42807753759046696\n",
      "0.4262169106244609\n",
      "0.4248111199625871\n",
      "0.4231665802118435\n",
      "0.4212885354732817\n",
      "0.4197217601757178\n",
      "0.4177035928084518\n",
      "0.4154338805893642\n",
      "0.4151393827986247\n",
      "0.4119595317102416\n",
      "0.41071249439949187\n",
      "0.40919862283609476\n",
      "0.4080816981382313\n",
      "0.40680787623023884\n",
      "0.4049981288937518\n",
      "0.40377619899592554\n",
      "0.4020531834887438\n",
      "0.39997720613154325\n",
      "0.4000158448442438\n",
      "0.39705524032152395\n",
      "0.395935771146817\n",
      "0.39475390711415886\n",
      "0.3938925988786115\n",
      "0.39270801740443856\n",
      "0.3911178580700292\n",
      "0.390101238847467\n",
      "0.38869071084814216\n",
      "0.3867557226706453\n",
      "0.3869773019938336\n",
      "0.3842816454991911\n",
      "0.38324497963698273\n",
      "0.3822424195968185\n",
      "0.3815941312133056\n",
      "0.38059181633932104\n",
      "0.37906205205119076\n",
      "0.3782757560010825\n",
      "0.37703815422766646\n",
      "0.3753362533472633\n",
      "0.37564825154502873\n",
      "0.3731395227681576\n",
      "0.3722001815956448\n",
      "0.37145466124454984\n",
      "0.3708916307541727\n",
      "0.37005486205057947\n",
      "0.36854368158531414\n",
      "0.3679592850264396\n",
      "0.3669424326904032\n",
      "0.3652747628987681\n",
      "0.3657806235162089\n",
      "0.3634009456384287\n",
      "0.36262874245885474\n",
      "0.3618670214142105\n",
      "0.36157119617874983\n",
      "0.3608670396431632\n",
      "0.35928487168045703\n",
      "0.3589623841416461\n",
      "0.35810113629724694\n",
      "0.356454030642155\n",
      "0.3570863298124755\n",
      "0.3547643351207479\n",
      "0.3542553993860372\n",
      "0.35344253024971944\n",
      "0.3532427324050655\n",
      "0.35277331176142884\n",
      "0.35111351531292323\n",
      "0.35093021569878136\n",
      "0.35025469866536185\n",
      "0.3487488073492849\n",
      "0.34938339925096845\n",
      "0.3471344780820898\n",
      "0.3466946268992813\n",
      "0.3459960027037521\n",
      "0.34589815776638183\n",
      "0.345565382170888\n",
      "0.3438698572844766\n",
      "0.34388845020720804\n",
      "0.34316440356331324\n",
      "0.34176412298419084\n",
      "0.3423702521035629\n",
      "0.3403853227889024\n",
      "0.33992144325731033\n",
      "0.3392821451352073\n",
      "0.33925869371531103\n",
      "0.3390288979252673\n",
      "0.33736779354686985\n",
      "0.33740076502780997\n",
      "0.3369747749515656\n",
      "0.3355796216494347\n",
      "0.33611317575644817\n",
      "0.3343639532673739\n",
      "0.3339273431392382\n",
      "0.333422569618755\n",
      "0.3334972754208405\n",
      "0.3332042231182425\n",
      "0.33157824752907394\n",
      "0.33165298991521863\n",
      "0.33130141284191883\n",
      "0.33003424472717\n",
      "0.3305142273168968\n",
      "0.3288179235225674\n",
      "0.3285191928360639\n",
      "0.32792973939986947\n",
      "0.3280850855613452\n",
      "0.32790908168006966\n",
      "0.3263516712495771\n",
      "0.3264078954092668\n",
      "0.3260812837236619\n",
      "0.32495719340016116\n",
      "0.3253219735420694\n",
      "0.32399353516245416\n",
      "0.32359447568589245\n",
      "0.32304216003373804\n",
      "0.3232932392243205\n",
      "0.32310778856762296\n",
      "0.3215830297804288\n",
      "0.3216398895928156\n",
      "0.32144790877264023\n",
      "0.3203595323235012\n",
      "0.3206497087896159\n",
      "0.31951729265402884\n",
      "0.3190497301389777\n",
      "0.3184548318622211\n",
      "0.31879464492279846\n",
      "0.31869649014189455\n",
      "0.31723000888339603\n",
      "0.3172965461226606\n",
      "0.31730481770870517\n",
      "0.31616224196419895\n",
      "0.31642211342683113\n",
      "0.3153397550623137\n",
      "0.31496499305032194\n",
      "0.31443244752402605\n",
      "0.31478614402617094\n",
      "0.31461336158867376\n",
      "0.3132916926716943\n",
      "0.31333905073018287\n",
      "0.3133310085876778\n",
      "0.3122579623488421\n",
      "0.31250438103845957\n",
      "0.31160801315976744\n",
      "0.31133832499357256\n",
      "0.3106400801941689\n",
      "0.3111902127966049\n",
      "0.31089252589527083\n",
      "0.3097120847462473\n",
      "0.30976336445562075\n",
      "0.3097349743251683\n",
      "0.3086854246286632\n",
      "0.3089560850876776\n",
      "0.3081878260282986\n",
      "0.30788633056643055\n",
      "0.30713877832061137\n",
      "0.307792818373097\n",
      "0.3074611144291308\n",
      "0.30643272981147723\n",
      "0.30642983682834346\n",
      "0.3064460605078191\n",
      "0.3055167631008928\n",
      "0.3056630269642757\n",
      "0.30497594448916593\n",
      "0.30470035099250287\n",
      "0.30397493310964446\n",
      "0.3046306320902197\n",
      "0.30440049122112567\n",
      "0.30334434112558134\n",
      "0.30331523390961534\n",
      "0.3034299156069549\n",
      "0.30249482185722465\n",
      "0.30256656351082944\n",
      "0.30196438405428827\n",
      "0.3017457131560353\n",
      "0.3010684067236805\n",
      "0.3017444733420242\n",
      "0.3015065371160476\n",
      "0.30047666697875863\n",
      "0.3004160877841908\n",
      "0.30060949653613867\n",
      "0.2996905128714629\n",
      "0.2997055940985573\n",
      "0.2992167274652044\n",
      "0.2989927000455818\n",
      "0.2983058748426952\n",
      "0.2990823685324973\n",
      "0.2987931303662068\n",
      "0.29781757725435926\n",
      "0.2977500210767538\n",
      "0.2979681500166876\n",
      "0.29704712300720865\n",
      "0.2970901242751899\n",
      "0.2967736155689967\n",
      "0.29630989882424413\n",
      "0.2956746556138613\n",
      "0.29666477250591383\n",
      "0.296209748411188\n",
      "0.29526875460581364\n",
      "0.2953336541517402\n",
      "0.29567087641768774\n",
      "0.29462801487908263\n",
      "0.2946331950043105\n",
      "0.29435583193163967\n",
      "0.2940104977957704\n",
      "0.29345979170176256\n",
      "0.29436597466014264\n",
      "0.29381857203290285\n",
      "0.2928761840157627\n",
      "0.29291503299097277\n",
      "0.2933367387109449\n",
      "0.29243348678608666\n",
      "0.2923972114399455\n",
      "0.2920755410737784\n",
      "0.29179312518493206\n",
      "0.29128903350535107\n",
      "0.29218161549344196\n",
      "0.2915607786756622\n",
      "0.2907030097630553\n",
      "0.29080346816479413\n",
      "0.2911890037625566\n",
      "0.2902836877673983\n",
      "0.29029879472415904\n",
      "0.2899925786973167\n",
      "0.2897428013912517\n",
      "0.2892473688483737\n",
      "0.2902212451993973\n",
      "0.2895367652354622\n",
      "0.2886521378757199\n",
      "0.2886746266141274\n",
      "0.28915436278322815\n",
      "0.2883376636640166\n",
      "0.28816694913391\n",
      "0.2880950445523359\n",
      "0.28785168096127933\n",
      "0.28729101401565127\n",
      "0.2882340908538401\n",
      "0.2876161894080345\n",
      "0.2868350149746985\n",
      "0.28666844069277725\n",
      "0.28727132510880077\n",
      "0.28633218237293045\n",
      "0.28623028853100996\n",
      "0.28625720818483474\n",
      "0.28616071567793233\n",
      "0.28545195956789593\n",
      "0.2864015701429457\n",
      "0.2857510894184488\n",
      "0.28501392553976035\n",
      "0.28494393263214324\n",
      "0.2854619236992154\n",
      "0.2845214936582152\n",
      "0.2844095658257983\n",
      "0.2846282957535879\n",
      "0.28438545885872374\n",
      "0.28366875420448034\n",
      "0.28467043987125557\n",
      "0.2840030419988524\n",
      "0.28335530764211264\n",
      "0.2833148290360725\n",
      "0.28385260146124147\n",
      "0.28286012620094775\n",
      "0.2827604024160153\n",
      "0.2830071488158908\n",
      "0.2828249085983294\n",
      "0.28194845162161414\n",
      "0.2830775498402224\n",
      "0.28242752841075613\n",
      "0.2817291117169323\n",
      "0.28170126555372704\n",
      "0.28221802134024604\n",
      "0.28131822703288967\n",
      "0.28123926974207425\n",
      "0.2814609793134368\n",
      "0.28120019203625235\n",
      "0.280472626792106\n",
      "0.2815547112656957\n",
      "0.28094438611007083\n",
      "0.28017700255136896\n",
      "0.28014526881961505\n",
      "0.2807451437153764\n",
      "0.27982620993306995\n",
      "0.2797088977205798\n",
      "0.27996961329613274\n",
      "0.27963465701357765\n",
      "0.27907315702451035\n",
      "0.2800203823384278\n",
      "0.279398133049854\n",
      "0.27872276459693524\n",
      "0.2786690282393167\n",
      "0.27929806986491673\n",
      "0.2783596617333377\n",
      "0.2782410059981931\n",
      "0.27860106495019893\n",
      "0.2782665997327945\n",
      "0.2776580282491349\n",
      "0.2785790521936024\n",
      "0.27805384936229943\n",
      "0.27734967790030873\n",
      "0.27731458799618214\n",
      "0.27805470937732024\n",
      "0.27699333348124744\n",
      "0.2767864953566614\n",
      "0.27724434593102565\n",
      "0.27695790150399674\n",
      "0.2763541666896801\n",
      "0.27723041823121775\n",
      "0.276757039908607\n",
      "0.2760310740618921\n",
      "0.2758913248724279\n",
      "0.27674162221807813\n",
      "0.27568772069606334\n",
      "0.2755200521296459\n",
      "0.2759590276812792\n",
      "0.27563457821250187\n",
      "0.2750896372403377\n"
     ]
    },
    {
     "name": "stdout",
     "output_type": "stream",
     "text": [
      "0.27590657307824673\n",
      "0.27549608664716413\n",
      "0.27484988230001944\n",
      "0.27455551141440915\n",
      "0.27551339000809266\n",
      "0.2745040328625396\n",
      "0.2742569531170587\n",
      "0.27471187075772696\n",
      "0.274430329558199\n",
      "0.27388882810400966\n",
      "0.27472197842972446\n",
      "0.27431656550123823\n",
      "0.2736024637351518\n",
      "0.2733244805851374\n",
      "0.274285475325391\n",
      "0.273245881233942\n",
      "0.273062765531401\n",
      "0.27356348969000616\n",
      "0.27330845185794167\n",
      "0.2726369022780409\n",
      "0.27359337923719956\n",
      "0.27311907726424006\n",
      "0.2724496625560224\n",
      "0.2721785368647946\n",
      "0.27320721560621475\n",
      "0.2720970474419242\n",
      "0.272006759162663\n",
      "0.2724317137680978\n",
      "0.2720489879124747\n",
      "0.2715771486490969\n",
      "0.2724613147060326\n",
      "0.27195631376010704\n",
      "0.2714028712499662\n",
      "0.2711449123362482\n",
      "0.27210494657275636\n",
      "0.2709908733783047\n",
      "0.2709452541138962\n",
      "0.2713291590680737\n",
      "0.2710056809190486\n",
      "0.270563981431629\n",
      "0.27134040775093765\n",
      "0.2709767196036578\n",
      "0.27035607410126766\n",
      "0.2700676777406297\n",
      "0.27100371288959896\n",
      "0.26996385227378844\n",
      "0.26991895893755713\n",
      "0.2702983665846162\n",
      "0.27001675092897953\n",
      "0.2695265031621916\n",
      "0.2703269640675227\n",
      "0.2699560582098764\n",
      "0.2693905110854263\n",
      "0.26902884787417647\n",
      "0.2699273589343914\n",
      "0.26905773975945696\n",
      "0.26894291054364644\n",
      "0.2693227359459114\n",
      "0.2691013537451729\n",
      "0.2685953712285768\n",
      "0.26939861303882057\n",
      "0.26897460750944374\n",
      "0.26846020327527226\n",
      "0.2680366219911217\n",
      "0.2688767468197454\n",
      "0.26809345632860476\n",
      "0.2681014969957934\n",
      "0.2683291741945962\n",
      "0.26805604273039074\n",
      "0.267611778664704\n",
      "0.2684526776957592\n",
      "0.2679751295448908\n",
      "0.26754458446774\n",
      "0.2670712140863237\n",
      "0.2679203680193562\n"
     ]
    }
   ],
   "source": [
    "model1 = SVD(user_item_exp, ratings, 64, max(np.unique(ratings['user_id'])) + 1, max(np.unique(ratings['movie_id'])) + 1, np.sqrt(5))\n",
    "model1.fit(50000000)"
   ]
  },
  {
   "cell_type": "markdown",
   "metadata": {
    "id": "uI1zC6rKbwoa"
   },
   "source": [
    "Пора получать рекомендации и находить похожее"
   ]
  },
  {
   "cell_type": "code",
   "execution_count": null,
   "metadata": {
    "id": "5JEqXrSkuSNF"
   },
   "outputs": [],
   "source": [
    "model1.fit(1000000)"
   ]
  },
  {
   "cell_type": "code",
   "execution_count": null,
   "metadata": {
    "id": "86QXivQxJyll"
   },
   "outputs": [],
   "source": []
  },
  {
   "cell_type": "code",
   "execution_count": 304,
   "metadata": {
    "id": "ZoQ4THe7uSNG"
   },
   "outputs": [
    {
     "name": "stdout",
     "output_type": "stream",
     "text": [
      "User films\n",
      "\n",
      "3399    Hustler, The (1961)\n",
      "1192    Star Wars: Episode VI - Return of the Jedi (1983)\n",
      "2882    Fistful of Dollars, A (1964)\n",
      "1196    Alien (1979)\n",
      "1023    Die Hard (1988)\n",
      "257    Star Wars: Episode IV - A New Hope (1977)\n",
      "1959    Saving Private Ryan (1998)\n",
      "476    Jurassic Park (1993)\n",
      "1178    Star Wars: Episode V - The Empire Strikes Back...\n",
      "1180    Raiders of the Lost Ark (1981)\n",
      "\n",
      "Recomendation\n",
      "\n",
      "['Gay Divorcee, The (1934)' 'Comedy|Musical|Romance']\n",
      "['Double Indemnity (1944)' 'Crime|Film-Noir']\n",
      "['Godfather, The (1972)' 'Action|Crime|Drama']\n",
      "['Next Stop, Wonderland (1998)' 'Comedy|Drama|Romance']\n",
      "['Citizen Kane (1941)' 'Drama']\n",
      "['Lone Star (1996)' 'Drama|Mystery']\n",
      "['Casablanca (1942)' 'Drama|Romance|War']\n",
      "['Lord of the Flies (1963)' 'Adventure|Drama|Thriller']\n",
      "['Life Is Beautiful (La Vita и bella) (1997)' 'Comedy|Drama']\n",
      "[\"One Flew Over the Cuckoo's Nest (1975)\" 'Drama']\n"
     ]
    }
   ],
   "source": [
    "model1.make_recomendation(4)"
   ]
  },
  {
   "cell_type": "markdown",
   "metadata": {},
   "source": []
  },
  {
   "cell_type": "code",
   "execution_count": 305,
   "metadata": {
    "id": "TG8sDKlEuSNH"
   },
   "outputs": [
    {
     "name": "stdout",
     "output_type": "stream",
     "text": [
      "Film                name                     category\n",
      "0  Toy Story (1995)  Animation|Children's|Comedy\n",
      "[['Toy Story (1995)' \"Animation|Children's|Comedy\"]]\n",
      "[['Toy Story 2 (1999)' \"Animation|Children's|Comedy\"]]\n",
      "[[\"Bug's Life, A (1998)\" \"Animation|Children's|Comedy\"]]\n",
      "[['Wrong Trousers, The (1993)' 'Animation|Comedy']]\n",
      "[['Apollo 13 (1995)' 'Drama']]\n",
      "[['Line King: Al Hirschfeld, The (1996)' 'Documentary']]\n",
      "[]\n",
      "[['Close Shave, A (1995)' 'Animation|Comedy|Thriller']]\n",
      "[['Gate of Heavenly Peace, The (1995)' 'Documentary']]\n",
      "[['Aladdin (1992)' \"Animation|Children's|Comedy|Musical\"]]\n"
     ]
    }
   ],
   "source": [
    "model1.find_similar1(1)"
   ]
  },
  {
   "cell_type": "markdown",
   "metadata": {},
   "source": [
    "Почти все мультики)"
   ]
  },
  {
   "cell_type": "code",
   "execution_count": 306,
   "metadata": {
    "id": "P5__P5A9uSNH"
   },
   "outputs": [
    {
     "name": "stdout",
     "output_type": "stream",
     "text": [
      "Film                name                   category\n",
      "9  GoldenEye (1995)  Action|Adventure|Thriller\n",
      "[['GoldenEye (1995)' 'Action|Adventure|Thriller']]\n",
      "[['Tomorrow Never Dies (1997)' 'Action|Romance|Thriller']]\n",
      "[['World Is Not Enough, The (1999)' 'Action|Thriller']]\n",
      "[['Man with the Golden Gun, The (1974)' 'Action']]\n",
      "[['Goldfinger (1964)' 'Action']]\n",
      "[['Spy Who Loved Me, The (1977)' 'Action']]\n",
      "[['Live and Let Die (1973)' 'Action']]\n",
      "[['For Your Eyes Only (1981)' 'Action']]\n",
      "[['View to a Kill, A (1985)' 'Action']]\n",
      "[['Dr. No (1962)' 'Action']]\n"
     ]
    }
   ],
   "source": [
    "model1.find_similar2(10)"
   ]
  },
  {
   "cell_type": "markdown",
   "metadata": {},
   "source": [
    "Мега крутые похожие фильмы (несколько бондиан и индиана джонс)"
   ]
  },
  {
   "cell_type": "markdown",
   "metadata": {
    "id": "b1-y0Jb5uSNI"
   },
   "source": [
    "### Задание 2. Не использую готовые решения, реализовать матричное разложение используя ALS на implicit данных"
   ]
  },
  {
   "cell_type": "markdown",
   "metadata": {},
   "source": [
    "Используем статью http://yifanhu.net/PUB/cf.pdf"
   ]
  },
  {
   "cell_type": "code",
   "execution_count": 11,
   "metadata": {
    "id": "WL6ghuiLuSNJ"
   },
   "outputs": [],
   "source": [
    "class ALS(Base):\n",
    "    def __init__(self, matrix, ratings, k, amount_of_users, amount_of_movies, start):\n",
    "        super().__init__(matrix, ratings, k, amount_of_users, amount_of_movies, start)\n",
    "        self.M = self.M.T\n",
    "        self.C = self.matrix.toarray() * 0.01\n",
    "        self.C = self.C + 1\n",
    "    def fit(self, ops):\n",
    "        for i in range(ops):\n",
    "            if (i % 2 == 0):\n",
    "                self.M = model.step(self.U, self.C.T, self.matrix.T)\n",
    "            else:\n",
    "                self.U = model.step(self.M, self.C, self.matrix)\n",
    "            print(self.my_rmse())\n",
    "    def step(self, matr, C_to_use, rate, learning_rate = 0.01):\n",
    "        ans = np.zeros((len(C_to_use), self.k))\n",
    "        for i in range(len(C_to_use)):\n",
    "            bracket = np.linalg.inv(matr.T @ np.diag(C_to_use[i]) @ matr + learning_rate * np.eye(matr.shape[1]))\n",
    "            #print(bracket.shape)\n",
    "            bracket = bracket @ matr.T @ np.diag(C_to_use[i])\n",
    "            ans[i] = (bracket @ rate[i].T).T\n",
    "        return ans\n",
    "        \n",
    "        \n",
    "    def my_rmse(self):\n",
    "        ans = ratings\n",
    "        matr2 = ((self.U @ self.M.T))[ans[\"user_id\"], ans[\"movie_id\"]]\n",
    "        matr1 = self.matrix[ans[\"user_id\"], ans[\"movie_id\"]]\n",
    "        matr1 = np.squeeze(np.asarray(matr1))\n",
    "        #print(matr1)\n",
    "        #print(matr2)\n",
    "        #print(np.squeeze(self.matrix[ans[\"user_id\"], ans[\"movie_id\"]]))\n",
    "        return metrics.mean_squared_error(matr1, matr2, squared=True)"
   ]
  },
  {
   "cell_type": "code",
   "execution_count": 283,
   "metadata": {
    "id": "zpWNaycjuSNK"
   },
   "outputs": [
    {
     "name": "stdout",
     "output_type": "stream",
     "text": [
      "0.455701184373924\n",
      "0.3189876222076632\n",
      "0.276442639871987\n",
      "0.26368995632453907\n",
      "0.2593893417743478\n",
      "0.2567223388694169\n",
      "0.2555222963371137\n",
      "0.25455406588747614\n",
      "0.25406650825405225\n",
      "0.25360578433482406\n",
      "0.25337037458614653\n",
      "0.253114626146948\n",
      "0.252989130716757\n",
      "0.2528317016296451\n",
      "0.2527591642380387\n",
      "0.25265454001304594\n",
      "0.2526091785070115\n",
      "0.25253542346448976\n",
      "0.2525049139341488\n",
      "0.2524504411880954\n"
     ]
    }
   ],
   "source": [
    "model2 = ALS(user_item_csr, implicit_ratings, 64, max(np.unique(ratings['user_id'])) + 1, max(np.unique(ratings['movie_id'])) + 1, 1)\n",
    "model2.fit(20)"
   ]
  },
  {
   "cell_type": "markdown",
   "metadata": {
    "id": "a1oUXDQEuSNM"
   },
   "source": [
    "Пора делать рекомендации (транспонируем так как в Базе другая размерность)"
   ]
  },
  {
   "cell_type": "code",
   "execution_count": 284,
   "metadata": {
    "id": "M5DSub3_uSNN"
   },
   "outputs": [
    {
     "name": "stdout",
     "output_type": "stream",
     "text": [
      "User films\n",
      "\n",
      "3399    Hustler, The (1961)\n",
      "2882    Fistful of Dollars, A (1964)\n",
      "1196    Alien (1979)\n",
      "1023    Die Hard (1988)\n",
      "257    Star Wars: Episode IV - A New Hope (1977)\n",
      "1959    Saving Private Ryan (1998)\n",
      "476    Jurassic Park (1993)\n",
      "1180    Raiders of the Lost Ark (1981)\n",
      "1885    Rocky (1976)\n",
      "1081    E.T. the Extra-Terrestrial (1982)\n",
      "\n",
      "Recomendation\n",
      "\n",
      "['Raiders of the Lost Ark (1981)' 'Action|Adventure']\n",
      "['Star Wars: Episode IV - A New Hope (1977)'\n",
      " 'Action|Adventure|Fantasy|Sci-Fi']\n",
      "['Jaws (1975)' 'Action|Horror']\n",
      "['E.T. the Extra-Terrestrial (1982)' \"Children's|Drama|Fantasy|Sci-Fi\"]\n",
      "['Saving Private Ryan (1998)' 'Action|Drama|War']\n",
      "['Terminator, The (1984)' 'Action|Sci-Fi|Thriller']\n",
      "['Alien (1979)' 'Action|Horror|Sci-Fi|Thriller']\n",
      "['Die Hard (1988)' 'Action|Thriller']\n",
      "['Terminator 2: Judgment Day (1991)' 'Action|Sci-Fi|Thriller']\n",
      "['Rocky (1976)' 'Action|Drama']\n"
     ]
    }
   ],
   "source": [
    "model2.M = model2.M.T\n",
    "model2.make_recomendation(4)\n",
    "model2.M = model2.M.T"
   ]
  },
  {
   "cell_type": "code",
   "execution_count": 285,
   "metadata": {
    "id": "g0GWyJUjuSNN"
   },
   "outputs": [
    {
     "name": "stdout",
     "output_type": "stream",
     "text": [
      "Film                name                     category\n",
      "0  Toy Story (1995)  Animation|Children's|Comedy\n",
      "[['Toy Story (1995)' \"Animation|Children's|Comedy\"]]\n",
      "[['Toy Story 2 (1999)' \"Animation|Children's|Comedy\"]]\n",
      "[['Babe (1995)' \"Children's|Comedy|Drama\"]]\n",
      "[[\"Bug's Life, A (1998)\" \"Animation|Children's|Comedy\"]]\n",
      "[['Aladdin (1992)' \"Animation|Children's|Comedy|Musical\"]]\n",
      "[['Babe: Pig in the City (1998)' \"Children's|Comedy\"]]\n",
      "[['Pleasantville (1998)' 'Comedy']]\n",
      "[['Tarzan (1999)' \"Animation|Children's\"]]\n",
      "[['Lion King, The (1994)' \"Animation|Children's|Musical\"]]\n",
      "[['Hercules (1997)' \"Adventure|Animation|Children's|Comedy|Musical\"]]\n"
     ]
    }
   ],
   "source": [
    "model2.M = model2.M.T\n",
    "model2.find_similar2(1)\n",
    "model2.M = model2.M.T"
   ]
  },
  {
   "cell_type": "code",
   "execution_count": 286,
   "metadata": {
    "id": "LAQkPC3LuSNO"
   },
   "outputs": [
    {
     "name": "stdout",
     "output_type": "stream",
     "text": [
      "Film                name                   category\n",
      "9  GoldenEye (1995)  Action|Adventure|Thriller\n",
      "[['GoldenEye (1995)' 'Action|Adventure|Thriller']]\n",
      "[['Tomorrow Never Dies (1997)' 'Action|Romance|Thriller']]\n",
      "[['World Is Not Enough, The (1999)' 'Action|Thriller']]\n",
      "[['Rush Hour (1998)' 'Action|Thriller']]\n",
      "[['Die Hard: With a Vengeance (1995)' 'Action|Thriller']]\n",
      "[['Licence to Kill (1989)' 'Action']]\n",
      "[['View to a Kill, A (1985)' 'Action']]\n",
      "[[\"Jackie Chan's First Strike (1996)\" 'Action']]\n",
      "[['Man with the Golden Gun, The (1974)' 'Action']]\n",
      "[['For Your Eyes Only (1981)' 'Action']]\n"
     ]
    }
   ],
   "source": [
    "model2.M = model2.M.T\n",
    "model2.find_similar2(10)\n",
    "model2.M = model2.M.T"
   ]
  },
  {
   "cell_type": "markdown",
   "metadata": {},
   "source": [
    "Получилось!!!"
   ]
  },
  {
   "cell_type": "markdown",
   "metadata": {
    "id": "yO2lIHA3uSNP"
   },
   "source": [
    "### Задание 3. Не использую готовые решения, реализовать матричное разложение BPR на implicit данных"
   ]
  },
  {
   "cell_type": "markdown",
   "metadata": {
    "id": "K9RtriWTuSNP"
   },
   "source": [
    "https://arxiv.org/ftp/arxiv/papers/1205/1205.2618.pdf"
   ]
  },
  {
   "cell_type": "code",
   "execution_count": null,
   "metadata": {},
   "outputs": [],
   "source": []
  },
  {
   "cell_type": "code",
   "execution_count": 21,
   "metadata": {},
   "outputs": [],
   "source": [
    "class BPR(ALS):\n",
    "    def __init__(self, matrix, ratings, k, amount_of_users, amount_of_movies, start):\n",
    "        super().__init__(matrix, ratings, k, amount_of_users, amount_of_movies, start)\n",
    "    def sigmoid(self, values):\n",
    "        return 1 / (1 + np.exp(-values))\n",
    "    def fit(self, ops, learning_rate=0.01):\n",
    "        ans = ratings\n",
    "        matr1 = self.matrix[ans[\"user_id\"], ans[\"movie_id\"]]\n",
    "        loss = []\n",
    "        for i in range(ops):\n",
    "            for u_id in range(self.amount_of_users):\n",
    "                all_rates = ratings[ratings[\"user_id\"] == u_id]\n",
    "                bad_rates = all_rates[all_rates[\"rating\"] < 4].values\n",
    "                good_rates = all_rates[all_rates[\"rating\"] > 3].values\n",
    "                if (bad_rates.shape[0] == 0 or good_rates.shape[0] == 0):\n",
    "                    continue\n",
    "                np.random.shuffle(good_rates)\n",
    "                np.random.shuffle(bad_rates)\n",
    "                bad_rates = bad_rates[:1][:, 1]\n",
    "                good_rate = good_rates[:1][:, 1]\n",
    "                bad_matrix = self.M[bad_rates]\n",
    "                good_matrix = self.M[good_rate]\n",
    "                values = self.U[u_id] @ good_matrix.T - self.U[u_id] @ bad_matrix.T\n",
    "                loss.append(values)\n",
    "                self.U[u_id] += ((self.sigmoid(values).sum() * (good_matrix * bad_matrix.shape[0] - bad_matrix.sum(axis=0)) - 0.001 * self.U[u_id]) * learning_rate)[0]\n",
    "                self.M[good_rate] += (self.sigmoid(values).sum() * self.U[u_id] - 0.001 * self.M[good_rate]) * learning_rate\n",
    "                for x in range(bad_rates.shape[0]):\n",
    "                    self.M[bad_rates[x]] -= (self.sigmoid(values)[x] * self.U[u_id] - 0.001 * self.M[bad_rates[x]]) * learning_rate\n",
    "            print(np.mean(loss))\n",
    "            loss = []\n",
    "                "
   ]
  },
  {
   "cell_type": "code",
   "execution_count": 22,
   "metadata": {},
   "outputs": [
    {
     "name": "stdout",
     "output_type": "stream",
     "text": [
      "0.0015062527291793866\n",
      "0.0058714854928497645\n",
      "0.01080490526871097\n",
      "0.015340618231616717\n",
      "0.0211020392784494\n",
      "0.0242889081776889\n",
      "0.0291582772545619\n",
      "0.03577757723719308\n",
      "0.04018588124104806\n",
      "0.046294738474854276\n",
      "0.04933250013211945\n",
      "0.057614244933809296\n",
      "0.0628842049017209\n",
      "0.0690586060233449\n",
      "0.07553654006236182\n",
      "0.08477707338074908\n",
      "0.0876726831032754\n",
      "0.09246266530721274\n",
      "0.10626087538263267\n",
      "0.10863651940060971\n",
      "0.11889150049485465\n",
      "0.12308548000846029\n",
      "0.13762715660402947\n",
      "0.13450945878035916\n",
      "0.15076874894280032\n",
      "0.15606984075968797\n",
      "0.17257642435257395\n",
      "0.17990222689918628\n",
      "0.1961887297123002\n",
      "0.20133808843657416\n",
      "0.22434691871786447\n",
      "0.21621163061783796\n",
      "0.2281378482497392\n",
      "0.24150346911712742\n",
      "0.25570229954904294\n",
      "0.265619772701185\n",
      "0.29093284294063954\n",
      "0.32450533537490217\n",
      "0.3026868711759487\n",
      "0.3457520667666115\n",
      "0.37295713147470666\n",
      "0.3956367245877424\n",
      "0.4048117501928546\n",
      "0.41036636685052724\n",
      "0.4494638283306213\n",
      "0.5172844709570991\n",
      "0.5142216712340747\n",
      "0.5361531123504402\n",
      "0.5799112698627432\n",
      "0.6020783379045845\n",
      "0.6345702664864651\n",
      "0.6955228027451904\n",
      "0.7041504635831942\n",
      "0.8014659833639289\n",
      "0.8333567939177673\n",
      "0.8126858135052385\n",
      "0.8950446939750414\n",
      "1.015670058570039\n",
      "0.9705338588102904\n",
      "1.0977182291790146\n",
      "1.1130205314794228\n",
      "1.2248699499649442\n",
      "1.275117856795603\n",
      "1.3823731284898741\n",
      "1.3946440922981949\n",
      "1.5585262374382376\n",
      "1.6522798634950244\n",
      "1.8173840341980012\n",
      "1.7922301838050556\n",
      "1.9004876044623993\n",
      "1.8918942301402653\n",
      "2.2454875439304005\n",
      "2.189083373048711\n",
      "2.3166450396943015\n",
      "2.678006272255918\n",
      "2.7992058660612287\n",
      "2.952079887115579\n",
      "3.0848817713160335\n",
      "3.6357920894897724\n",
      "3.525867575174527\n",
      "4.100279612343412\n",
      "4.151800667106363\n",
      "4.628307061314506\n",
      "4.510804659167611\n",
      "4.755393649279824\n",
      "5.33152909129669\n",
      "5.968349596850652\n",
      "6.222591140418624\n",
      "6.5863044727243\n",
      "6.52679751605529\n",
      "7.165905859893113\n",
      "8.341698962681825\n",
      "8.665875066094689\n",
      "9.185385276909807\n",
      "9.53280630907362\n",
      "10.495003170332224\n",
      "10.820630604761265\n",
      "11.862996796397823\n",
      "12.08727331839517\n",
      "13.368671851332284\n"
     ]
    }
   ],
   "source": [
    "model3 = BPR(user_item_csr, implicit_ratings, 64, max(np.unique(ratings['user_id'])) + 1, max(np.unique(ratings['movie_id'])) + 1, 1)\n",
    "model3.fit(100)"
   ]
  },
  {
   "cell_type": "code",
   "execution_count": 23,
   "metadata": {},
   "outputs": [],
   "source": [
    "model3.fit(100)"
   ]
  },
  {
   "cell_type": "code",
   "execution_count": 24,
   "metadata": {
    "scrolled": false
   },
   "outputs": [
    {
     "name": "stdout",
     "output_type": "stream",
     "text": [
      "User films\n",
      "\n",
      "3399    Hustler, The (1961)\n",
      "2882    Fistful of Dollars, A (1964)\n",
      "1196    Alien (1979)\n",
      "1023    Die Hard (1988)\n",
      "257    Star Wars: Episode IV - A New Hope (1977)\n",
      "1959    Saving Private Ryan (1998)\n",
      "476    Jurassic Park (1993)\n",
      "1180    Raiders of the Lost Ark (1981)\n",
      "1885    Rocky (1976)\n",
      "1081    E.T. the Extra-Terrestrial (1982)\n",
      "\n",
      "Recomendation\n",
      "\n",
      "['American Beauty (1999)' 'Comedy|Drama']\n",
      "['Star Wars: Episode IV - A New Hope (1977)'\n",
      " 'Action|Adventure|Fantasy|Sci-Fi']\n",
      "['Saving Private Ryan (1998)' 'Action|Drama|War']\n",
      "['Silence of the Lambs, The (1991)' 'Drama|Thriller']\n",
      "['Star Wars: Episode V - The Empire Strikes Back (1980)'\n",
      " 'Action|Adventure|Drama|Sci-Fi|War']\n",
      "['Sixth Sense, The (1999)' 'Thriller']\n",
      "[\"Schindler's List (1993)\" 'Drama|War']\n",
      "['Raiders of the Lost Ark (1981)' 'Action|Adventure']\n",
      "['Braveheart (1995)' 'Action|Drama|War']\n",
      "['Star Wars: Episode VI - Return of the Jedi (1983)'\n",
      " 'Action|Adventure|Romance|Sci-Fi|War']\n"
     ]
    }
   ],
   "source": [
    "model3.M = model3.M.T\n",
    "model3.make_recomendation(4)\n",
    "model3.M = model3.M.T"
   ]
  },
  {
   "cell_type": "code",
   "execution_count": 25,
   "metadata": {},
   "outputs": [
    {
     "name": "stdout",
     "output_type": "stream",
     "text": [
      "Film                name                     category\n",
      "0  Toy Story (1995)  Animation|Children's|Comedy\n",
      "[['Toy Story (1995)' \"Animation|Children's|Comedy\"]]\n",
      "[['Matrix, The (1999)' 'Action|Sci-Fi|Thriller']]\n",
      "[['Saving Private Ryan (1998)' 'Action|Drama|War']]\n",
      "[['Shawshank Redemption, The (1994)' 'Drama']]\n",
      "[['Star Wars: Episode V - The Empire Strikes Back (1980)'\n",
      "  'Action|Adventure|Drama|Sci-Fi|War']]\n",
      "[['Shakespeare in Love (1998)' 'Comedy|Romance']]\n",
      "[['Sixth Sense, The (1999)' 'Thriller']]\n",
      "[['American Beauty (1999)' 'Comedy|Drama']]\n",
      "[['Braveheart (1995)' 'Action|Drama|War']]\n",
      "[['Terminator 2: Judgment Day (1991)' 'Action|Sci-Fi|Thriller']]\n"
     ]
    }
   ],
   "source": [
    "model3.M = model3.M.T\n",
    "model3.find_similar2(1)\n",
    "model3.M = model3.M.T"
   ]
  },
  {
   "cell_type": "code",
   "execution_count": 26,
   "metadata": {},
   "outputs": [
    {
     "name": "stdout",
     "output_type": "stream",
     "text": [
      "Film                name                   category\n",
      "9  GoldenEye (1995)  Action|Adventure|Thriller\n",
      "[['GoldenEye (1995)' 'Action|Adventure|Thriller']]\n",
      "[['Con Air (1997)' 'Action|Adventure|Thriller']]\n",
      "[['Star Trek: Insurrection (1998)' 'Action|Sci-Fi']]\n",
      "[['Cruel Intentions (1999)' 'Drama']]\n",
      "[['Clueless (1995)' 'Comedy|Romance']]\n",
      "[['Crying Game, The (1992)' 'Drama|Romance|War']]\n",
      "[['Poseidon Adventure, The (1972)' 'Action|Adventure']]\n",
      "[['Escape from the Planet of the Apes (1971)' 'Action|Sci-Fi']]\n",
      "[['Antz (1998)' \"Animation|Children's\"]]\n",
      "[['Thelma & Louise (1991)' 'Action|Drama']]\n"
     ]
    }
   ],
   "source": [
    "model3.M = model3.M.T\n",
    "model3.find_similar2(10)\n",
    "model3.M = model3.M.T"
   ]
  },
  {
   "cell_type": "code",
   "execution_count": null,
   "metadata": {
    "scrolled": false
   },
   "outputs": [],
   "source": []
  },
  {
   "cell_type": "markdown",
   "metadata": {
    "id": "JKO9lc9NuSNQ"
   },
   "source": [
    "### Задание 4. Не использую готовые решения, реализовать матричное разложение WARP на implicit данных"
   ]
  },
  {
   "cell_type": "code",
   "execution_count": null,
   "metadata": {
    "id": "TvUgcm0FuSNQ"
   },
   "outputs": [],
   "source": []
  }
 ],
 "metadata": {
  "accelerator": "GPU",
  "colab": {
   "collapsed_sections": [],
   "name": "Rec.ipynb",
   "provenance": []
  },
  "kernelspec": {
   "display_name": "Python 3",
   "language": "python",
   "name": "python3"
  },
  "language_info": {
   "codemirror_mode": {
    "name": "ipython",
    "version": 3
   },
   "file_extension": ".py",
   "mimetype": "text/x-python",
   "name": "python",
   "nbconvert_exporter": "python",
   "pygments_lexer": "ipython3",
   "version": "3.7.6"
  }
 },
 "nbformat": 4,
 "nbformat_minor": 1
}
