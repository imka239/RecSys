{
 "cells": [
  {
   "cell_type": "markdown",
   "metadata": {
    "id": "vwb3uQUnuSMg"
   },
   "source": [
    "### Матричные факторизации"
   ]
  },
  {
   "cell_type": "code",
   "execution_count": null,
   "metadata": {
    "colab": {
     "base_uri": "https://localhost:8080/"
    },
    "id": "6vBXBHckuSMl",
    "outputId": "6eec6114-1600-442f-fc2c-99ca5fe0b0eb"
   },
   "outputs": [],
   "source": []
  },
  {
   "cell_type": "markdown",
   "metadata": {
    "id": "NFWgFw5OuSMm"
   },
   "source": [
    "В данной работе вам предстоит познакомиться с практической стороной матричных разложений.\n",
    "Работа поделена на 4 задания:\n",
    "1. Вам необходимо реализовать SVD разложения используя SGD на explicit данных\n",
    "2. Вам необходимо реализовать матричное разложения используя ALS на implicit данных\n",
    "3. Вам необходимо реализовать матричное разложения используя BPR(pair-wise loss) на implicit данных\n",
    "4. Вам необходимо реализовать матричное разложения используя WARP(list-wise loss) на implicit данных\n"
   ]
  },
  {
   "cell_type": "code",
   "execution_count": 1,
   "metadata": {
    "colab": {
     "base_uri": "https://localhost:8080/",
     "height": 381
    },
    "id": "cP4dc6IhuSMo",
    "outputId": "2ea34361-9540-47bc-95c4-a4bb39894cd2"
   },
   "outputs": [
    {
     "name": "stderr",
     "output_type": "stream",
     "text": [
      "C:\\Users\\ASUS\\anaconda3\\lib\\site-packages\\lightfm\\_lightfm_fast.py:10: UserWarning: LightFM was compiled without OpenMP support. Only a single thread will be used.\n",
      "  \"LightFM was compiled without OpenMP support. \"\n"
     ]
    }
   ],
   "source": [
    "\n",
    "import implicit\n",
    "import pandas as pd\n",
    "import numpy as np\n",
    "import scipy.sparse as sp\n",
    "\n",
    "from lightfm.datasets import fetch_movielens"
   ]
  },
  {
   "cell_type": "markdown",
   "metadata": {
    "id": "eFhlgsQ8uSMp"
   },
   "source": [
    "В данной работе мы будем работать с explicit датасетом movieLens, в котором представленны пары user_id movie_id и rating выставленный пользователем фильму\n",
    "\n",
    "Скачать датасет можно по ссылке https://grouplens.org/datasets/movielens/1m/"
   ]
  },
  {
   "cell_type": "code",
   "execution_count": 2,
   "metadata": {
    "colab": {
     "base_uri": "https://localhost:8080/",
     "height": 221
    },
    "id": "0aDnNnsQuSMq",
    "outputId": "cb4546f3-46b8-42eb-f94a-0a9a9146061f"
   },
   "outputs": [
    {
     "data": {
      "text/html": [
       "<div>\n",
       "<style scoped>\n",
       "    .dataframe tbody tr th:only-of-type {\n",
       "        vertical-align: middle;\n",
       "    }\n",
       "\n",
       "    .dataframe tbody tr th {\n",
       "        vertical-align: top;\n",
       "    }\n",
       "\n",
       "    .dataframe thead th {\n",
       "        text-align: right;\n",
       "    }\n",
       "</style>\n",
       "<table border=\"1\" class=\"dataframe\">\n",
       "  <thead>\n",
       "    <tr style=\"text-align: right;\">\n",
       "      <th></th>\n",
       "      <th>user_id</th>\n",
       "      <th>movie_id</th>\n",
       "      <th>rating</th>\n",
       "    </tr>\n",
       "  </thead>\n",
       "  <tbody>\n",
       "    <tr>\n",
       "      <th>0</th>\n",
       "      <td>1</td>\n",
       "      <td>1193</td>\n",
       "      <td>5</td>\n",
       "    </tr>\n",
       "    <tr>\n",
       "      <th>1</th>\n",
       "      <td>1</td>\n",
       "      <td>661</td>\n",
       "      <td>3</td>\n",
       "    </tr>\n",
       "    <tr>\n",
       "      <th>2</th>\n",
       "      <td>1</td>\n",
       "      <td>914</td>\n",
       "      <td>3</td>\n",
       "    </tr>\n",
       "    <tr>\n",
       "      <th>3</th>\n",
       "      <td>1</td>\n",
       "      <td>3408</td>\n",
       "      <td>4</td>\n",
       "    </tr>\n",
       "    <tr>\n",
       "      <th>4</th>\n",
       "      <td>1</td>\n",
       "      <td>2355</td>\n",
       "      <td>5</td>\n",
       "    </tr>\n",
       "    <tr>\n",
       "      <th>...</th>\n",
       "      <td>...</td>\n",
       "      <td>...</td>\n",
       "      <td>...</td>\n",
       "    </tr>\n",
       "    <tr>\n",
       "      <th>1000204</th>\n",
       "      <td>6040</td>\n",
       "      <td>1091</td>\n",
       "      <td>1</td>\n",
       "    </tr>\n",
       "    <tr>\n",
       "      <th>1000205</th>\n",
       "      <td>6040</td>\n",
       "      <td>1094</td>\n",
       "      <td>5</td>\n",
       "    </tr>\n",
       "    <tr>\n",
       "      <th>1000206</th>\n",
       "      <td>6040</td>\n",
       "      <td>562</td>\n",
       "      <td>5</td>\n",
       "    </tr>\n",
       "    <tr>\n",
       "      <th>1000207</th>\n",
       "      <td>6040</td>\n",
       "      <td>1096</td>\n",
       "      <td>4</td>\n",
       "    </tr>\n",
       "    <tr>\n",
       "      <th>1000208</th>\n",
       "      <td>6040</td>\n",
       "      <td>1097</td>\n",
       "      <td>4</td>\n",
       "    </tr>\n",
       "  </tbody>\n",
       "</table>\n",
       "<p>1000209 rows × 3 columns</p>\n",
       "</div>"
      ],
      "text/plain": [
       "         user_id  movie_id  rating\n",
       "0              1      1193       5\n",
       "1              1       661       3\n",
       "2              1       914       3\n",
       "3              1      3408       4\n",
       "4              1      2355       5\n",
       "...          ...       ...     ...\n",
       "1000204     6040      1091       1\n",
       "1000205     6040      1094       5\n",
       "1000206     6040       562       5\n",
       "1000207     6040      1096       4\n",
       "1000208     6040      1097       4\n",
       "\n",
       "[1000209 rows x 3 columns]"
      ]
     },
     "execution_count": 2,
     "metadata": {},
     "output_type": "execute_result"
    }
   ],
   "source": [
    "ratings = pd.read_csv('ratings.dat', delimiter='::', header=None, \n",
    "        names=['user_id', 'movie_id', 'rating', 'timestamp'], \n",
    "        usecols=['user_id', 'movie_id', 'rating'], engine='python')\n",
    "ratings"
   ]
  },
  {
   "cell_type": "code",
   "execution_count": 3,
   "metadata": {
    "id": "AxlkI6gYuSMr"
   },
   "outputs": [],
   "source": [
    "movie_info = pd.read_csv('movies.dat', delimiter='::', header=None, \n",
    "        names=['movie_id', 'name', 'category'], engine='python')"
   ]
  },
  {
   "cell_type": "markdown",
   "metadata": {
    "id": "QFeD-DwHuSMr"
   },
   "source": [
    "Explicit данные"
   ]
  },
  {
   "cell_type": "code",
   "execution_count": 4,
   "metadata": {
    "id": "P3P-T0B-uSMs"
   },
   "outputs": [
    {
     "data": {
      "text/html": [
       "<div>\n",
       "<style scoped>\n",
       "    .dataframe tbody tr th:only-of-type {\n",
       "        vertical-align: middle;\n",
       "    }\n",
       "\n",
       "    .dataframe tbody tr th {\n",
       "        vertical-align: top;\n",
       "    }\n",
       "\n",
       "    .dataframe thead th {\n",
       "        text-align: right;\n",
       "    }\n",
       "</style>\n",
       "<table border=\"1\" class=\"dataframe\">\n",
       "  <thead>\n",
       "    <tr style=\"text-align: right;\">\n",
       "      <th></th>\n",
       "      <th>user_id</th>\n",
       "      <th>movie_id</th>\n",
       "      <th>rating</th>\n",
       "    </tr>\n",
       "  </thead>\n",
       "  <tbody>\n",
       "    <tr>\n",
       "      <th>0</th>\n",
       "      <td>1</td>\n",
       "      <td>1193</td>\n",
       "      <td>5</td>\n",
       "    </tr>\n",
       "    <tr>\n",
       "      <th>1</th>\n",
       "      <td>1</td>\n",
       "      <td>661</td>\n",
       "      <td>3</td>\n",
       "    </tr>\n",
       "    <tr>\n",
       "      <th>2</th>\n",
       "      <td>1</td>\n",
       "      <td>914</td>\n",
       "      <td>3</td>\n",
       "    </tr>\n",
       "    <tr>\n",
       "      <th>3</th>\n",
       "      <td>1</td>\n",
       "      <td>3408</td>\n",
       "      <td>4</td>\n",
       "    </tr>\n",
       "    <tr>\n",
       "      <th>4</th>\n",
       "      <td>1</td>\n",
       "      <td>2355</td>\n",
       "      <td>5</td>\n",
       "    </tr>\n",
       "    <tr>\n",
       "      <th>5</th>\n",
       "      <td>1</td>\n",
       "      <td>1197</td>\n",
       "      <td>3</td>\n",
       "    </tr>\n",
       "    <tr>\n",
       "      <th>6</th>\n",
       "      <td>1</td>\n",
       "      <td>1287</td>\n",
       "      <td>5</td>\n",
       "    </tr>\n",
       "    <tr>\n",
       "      <th>7</th>\n",
       "      <td>1</td>\n",
       "      <td>2804</td>\n",
       "      <td>5</td>\n",
       "    </tr>\n",
       "    <tr>\n",
       "      <th>8</th>\n",
       "      <td>1</td>\n",
       "      <td>594</td>\n",
       "      <td>4</td>\n",
       "    </tr>\n",
       "    <tr>\n",
       "      <th>9</th>\n",
       "      <td>1</td>\n",
       "      <td>919</td>\n",
       "      <td>4</td>\n",
       "    </tr>\n",
       "  </tbody>\n",
       "</table>\n",
       "</div>"
      ],
      "text/plain": [
       "   user_id  movie_id  rating\n",
       "0        1      1193       5\n",
       "1        1       661       3\n",
       "2        1       914       3\n",
       "3        1      3408       4\n",
       "4        1      2355       5\n",
       "5        1      1197       3\n",
       "6        1      1287       5\n",
       "7        1      2804       5\n",
       "8        1       594       4\n",
       "9        1       919       4"
      ]
     },
     "execution_count": 4,
     "metadata": {},
     "output_type": "execute_result"
    }
   ],
   "source": [
    "ratings.head(10)"
   ]
  },
  {
   "cell_type": "markdown",
   "metadata": {
    "id": "7Fs78gm3uSMt"
   },
   "source": [
    "Для того, чтобы преобразовать текущий датасет в Implicit, давайте считать что позитивная оценка это оценка >=4"
   ]
  },
  {
   "cell_type": "code",
   "execution_count": 5,
   "metadata": {
    "id": "0jmZqLAzuSMt"
   },
   "outputs": [],
   "source": [
    "implicit_ratings = ratings.loc[(ratings['rating'] >= 4)]"
   ]
  },
  {
   "cell_type": "code",
   "execution_count": 6,
   "metadata": {
    "id": "PCiDOfMpuSMu"
   },
   "outputs": [
    {
     "data": {
      "text/html": [
       "<div>\n",
       "<style scoped>\n",
       "    .dataframe tbody tr th:only-of-type {\n",
       "        vertical-align: middle;\n",
       "    }\n",
       "\n",
       "    .dataframe tbody tr th {\n",
       "        vertical-align: top;\n",
       "    }\n",
       "\n",
       "    .dataframe thead th {\n",
       "        text-align: right;\n",
       "    }\n",
       "</style>\n",
       "<table border=\"1\" class=\"dataframe\">\n",
       "  <thead>\n",
       "    <tr style=\"text-align: right;\">\n",
       "      <th></th>\n",
       "      <th>user_id</th>\n",
       "      <th>movie_id</th>\n",
       "      <th>rating</th>\n",
       "    </tr>\n",
       "  </thead>\n",
       "  <tbody>\n",
       "    <tr>\n",
       "      <th>0</th>\n",
       "      <td>1</td>\n",
       "      <td>1193</td>\n",
       "      <td>5</td>\n",
       "    </tr>\n",
       "    <tr>\n",
       "      <th>3</th>\n",
       "      <td>1</td>\n",
       "      <td>3408</td>\n",
       "      <td>4</td>\n",
       "    </tr>\n",
       "    <tr>\n",
       "      <th>4</th>\n",
       "      <td>1</td>\n",
       "      <td>2355</td>\n",
       "      <td>5</td>\n",
       "    </tr>\n",
       "    <tr>\n",
       "      <th>6</th>\n",
       "      <td>1</td>\n",
       "      <td>1287</td>\n",
       "      <td>5</td>\n",
       "    </tr>\n",
       "    <tr>\n",
       "      <th>7</th>\n",
       "      <td>1</td>\n",
       "      <td>2804</td>\n",
       "      <td>5</td>\n",
       "    </tr>\n",
       "    <tr>\n",
       "      <th>8</th>\n",
       "      <td>1</td>\n",
       "      <td>594</td>\n",
       "      <td>4</td>\n",
       "    </tr>\n",
       "    <tr>\n",
       "      <th>9</th>\n",
       "      <td>1</td>\n",
       "      <td>919</td>\n",
       "      <td>4</td>\n",
       "    </tr>\n",
       "    <tr>\n",
       "      <th>10</th>\n",
       "      <td>1</td>\n",
       "      <td>595</td>\n",
       "      <td>5</td>\n",
       "    </tr>\n",
       "    <tr>\n",
       "      <th>11</th>\n",
       "      <td>1</td>\n",
       "      <td>938</td>\n",
       "      <td>4</td>\n",
       "    </tr>\n",
       "    <tr>\n",
       "      <th>12</th>\n",
       "      <td>1</td>\n",
       "      <td>2398</td>\n",
       "      <td>4</td>\n",
       "    </tr>\n",
       "  </tbody>\n",
       "</table>\n",
       "</div>"
      ],
      "text/plain": [
       "    user_id  movie_id  rating\n",
       "0         1      1193       5\n",
       "3         1      3408       4\n",
       "4         1      2355       5\n",
       "6         1      1287       5\n",
       "7         1      2804       5\n",
       "8         1       594       4\n",
       "9         1       919       4\n",
       "10        1       595       5\n",
       "11        1       938       4\n",
       "12        1      2398       4"
      ]
     },
     "execution_count": 6,
     "metadata": {},
     "output_type": "execute_result"
    }
   ],
   "source": [
    "implicit_ratings.head(10)"
   ]
  },
  {
   "cell_type": "markdown",
   "metadata": {
    "id": "QRMA1PeTuSMv"
   },
   "source": [
    "Удобнее работать с sparse матричками, давайте преобразуем DataFrame в CSR матрицы"
   ]
  },
  {
   "cell_type": "code",
   "execution_count": 7,
   "metadata": {
    "id": "uWexXohMuSMv"
   },
   "outputs": [],
   "source": [
    "users = implicit_ratings[\"user_id\"]\n",
    "movies = implicit_ratings[\"movie_id\"]\n",
    "user_item = sp.coo_matrix((np.ones_like(users), (users, movies)))\n",
    "user_item_t_csr = user_item.T.tocsr()\n",
    "user_item_csr = user_item.tocsr()"
   ]
  },
  {
   "cell_type": "markdown",
   "metadata": {
    "id": "oBE9FRzOuSMw"
   },
   "source": [
    "В качестве примера воспользуемся ALS разложением из библиотеки implicit\n",
    "\n",
    "Зададим размерность латентного пространства равным 64, это же определяет размер user/item эмбедингов"
   ]
  },
  {
   "cell_type": "code",
   "execution_count": 9,
   "metadata": {
    "id": "KKfXUy3_uSMw"
   },
   "outputs": [
    {
     "name": "stderr",
     "output_type": "stream",
     "text": [
      "WARNING:root:OpenBLAS detected. Its highly recommend to set the environment variable 'export OPENBLAS_NUM_THREADS=1' to disable its internal multithreading\n"
     ]
    }
   ],
   "source": [
    "model = implicit.als.AlternatingLeastSquares(factors=64, iterations=100, calculate_training_loss=True)"
   ]
  },
  {
   "cell_type": "markdown",
   "metadata": {
    "id": "jRBJ6t-PuSMx"
   },
   "source": [
    "В качестве loss здесь всеми любимый RMSE"
   ]
  },
  {
   "cell_type": "code",
   "execution_count": 10,
   "metadata": {
    "id": "VBXoHxM-uSMx"
   },
   "outputs": [
    {
     "data": {
      "application/vnd.jupyter.widget-view+json": {
       "model_id": "643f68343ff5405197df1a1d597becfb",
       "version_major": 2,
       "version_minor": 0
      },
      "text/plain": [
       "HBox(children=(FloatProgress(value=0.0), HTML(value='')))"
      ]
     },
     "metadata": {},
     "output_type": "display_data"
    },
    {
     "name": "stdout",
     "output_type": "stream",
     "text": [
      "\n"
     ]
    }
   ],
   "source": [
    "model.fit(user_item_t_csr)"
   ]
  },
  {
   "cell_type": "markdown",
   "metadata": {
    "id": "G1Xc5AmTuSMy"
   },
   "source": [
    "Построим похожие фильмы по 1 movie_id = Истории игрушек"
   ]
  },
  {
   "cell_type": "code",
   "execution_count": 11,
   "metadata": {
    "id": "PFB6JDXzuSMy"
   },
   "outputs": [
    {
     "data": {
      "text/html": [
       "<div>\n",
       "<style scoped>\n",
       "    .dataframe tbody tr th:only-of-type {\n",
       "        vertical-align: middle;\n",
       "    }\n",
       "\n",
       "    .dataframe tbody tr th {\n",
       "        vertical-align: top;\n",
       "    }\n",
       "\n",
       "    .dataframe thead th {\n",
       "        text-align: right;\n",
       "    }\n",
       "</style>\n",
       "<table border=\"1\" class=\"dataframe\">\n",
       "  <thead>\n",
       "    <tr style=\"text-align: right;\">\n",
       "      <th></th>\n",
       "      <th>movie_id</th>\n",
       "      <th>name</th>\n",
       "      <th>category</th>\n",
       "    </tr>\n",
       "  </thead>\n",
       "  <tbody>\n",
       "    <tr>\n",
       "      <th>0</th>\n",
       "      <td>1</td>\n",
       "      <td>Toy Story (1995)</td>\n",
       "      <td>Animation|Children's|Comedy</td>\n",
       "    </tr>\n",
       "    <tr>\n",
       "      <th>1</th>\n",
       "      <td>2</td>\n",
       "      <td>Jumanji (1995)</td>\n",
       "      <td>Adventure|Children's|Fantasy</td>\n",
       "    </tr>\n",
       "    <tr>\n",
       "      <th>2</th>\n",
       "      <td>3</td>\n",
       "      <td>Grumpier Old Men (1995)</td>\n",
       "      <td>Comedy|Romance</td>\n",
       "    </tr>\n",
       "    <tr>\n",
       "      <th>3</th>\n",
       "      <td>4</td>\n",
       "      <td>Waiting to Exhale (1995)</td>\n",
       "      <td>Comedy|Drama</td>\n",
       "    </tr>\n",
       "    <tr>\n",
       "      <th>4</th>\n",
       "      <td>5</td>\n",
       "      <td>Father of the Bride Part II (1995)</td>\n",
       "      <td>Comedy</td>\n",
       "    </tr>\n",
       "  </tbody>\n",
       "</table>\n",
       "</div>"
      ],
      "text/plain": [
       "   movie_id                                name                      category\n",
       "0         1                    Toy Story (1995)   Animation|Children's|Comedy\n",
       "1         2                      Jumanji (1995)  Adventure|Children's|Fantasy\n",
       "2         3             Grumpier Old Men (1995)                Comedy|Romance\n",
       "3         4            Waiting to Exhale (1995)                  Comedy|Drama\n",
       "4         5  Father of the Bride Part II (1995)                        Comedy"
      ]
     },
     "execution_count": 11,
     "metadata": {},
     "output_type": "execute_result"
    }
   ],
   "source": [
    "movie_info.head(5)"
   ]
  },
  {
   "cell_type": "code",
   "execution_count": 12,
   "metadata": {
    "id": "cxq1dmk8uSMz"
   },
   "outputs": [],
   "source": [
    "get_similars = lambda item_id, model : [movie_info[movie_info[\"movie_id\"] == x[0]][\"name\"].to_string() \n",
    "                                        for x in model.similar_items(item_id)]"
   ]
  },
  {
   "cell_type": "markdown",
   "metadata": {
    "id": "BsWDYsiiuSMz"
   },
   "source": [
    "Как мы видим, симилары действительно оказались симиларами.\n",
    "\n",
    "Качество симиларов часто является хорошим способом проверить качество алгоритмов.\n",
    "\n",
    "P.S. Если хочется поглубже разобраться в том как разные алгоритмы формируют разные латентные пространства, рекомендую загружать полученные вектора в tensorBoard и смотреть на сформированное пространство"
   ]
  },
  {
   "cell_type": "code",
   "execution_count": 13,
   "metadata": {
    "id": "XG-KEUnGuSM0"
   },
   "outputs": [
    {
     "data": {
      "text/plain": [
       "['0    Toy Story (1995)',\n",
       " '3045    Toy Story 2 (1999)',\n",
       " \"2286    Bug's Life, A (1998)\",\n",
       " '33    Babe (1995)',\n",
       " '584    Aladdin (1992)',\n",
       " '2315    Babe: Pig in the City (1998)',\n",
       " '360    Lion King, The (1994)',\n",
       " '1838    Mulan (1998)',\n",
       " '2618    Tarzan (1999)',\n",
       " '1526    Hercules (1997)']"
      ]
     },
     "execution_count": 13,
     "metadata": {},
     "output_type": "execute_result"
    }
   ],
   "source": [
    "get_similars(1, model)"
   ]
  },
  {
   "cell_type": "markdown",
   "metadata": {
    "id": "d50ddheEuSM0"
   },
   "source": [
    "Давайте теперь построим рекомендации для юзеров\n",
    "\n",
    "Как мы видим юзеру нравится фантастика, значит и в рекомендациях ожидаем увидеть фантастику"
   ]
  },
  {
   "cell_type": "code",
   "execution_count": 8,
   "metadata": {
    "id": "XGshZYRHuSM1"
   },
   "outputs": [],
   "source": [
    "get_user_history = lambda user_id, implicit_ratings : [movie_info[movie_info[\"movie_id\"] == x][\"name\"].to_string() \n",
    "                                            for x in implicit_ratings[implicit_ratings[\"user_id\"] == user_id][\"movie_id\"]]"
   ]
  },
  {
   "cell_type": "code",
   "execution_count": 15,
   "metadata": {
    "id": "xJtJtFuquSM1"
   },
   "outputs": [
    {
     "data": {
      "text/plain": [
       "['3399    Hustler, The (1961)',\n",
       " '2882    Fistful of Dollars, A (1964)',\n",
       " '1196    Alien (1979)',\n",
       " '1023    Die Hard (1988)',\n",
       " '257    Star Wars: Episode IV - A New Hope (1977)',\n",
       " '1959    Saving Private Ryan (1998)',\n",
       " '476    Jurassic Park (1993)',\n",
       " '1180    Raiders of the Lost Ark (1981)',\n",
       " '1885    Rocky (1976)',\n",
       " '1081    E.T. the Extra-Terrestrial (1982)',\n",
       " '3349    Thelma & Louise (1991)',\n",
       " '3633    Mad Max (1979)',\n",
       " '2297    King Kong (1933)',\n",
       " '1366    Jaws (1975)',\n",
       " '1183    Good, The Bad and The Ugly, The (1966)',\n",
       " '2623    Run Lola Run (Lola rennt) (1998)',\n",
       " '2878    Goldfinger (1964)',\n",
       " '1220    Terminator, The (1984)']"
      ]
     },
     "execution_count": 15,
     "metadata": {},
     "output_type": "execute_result"
    }
   ],
   "source": [
    "get_user_history(4, implicit_ratings)"
   ]
  },
  {
   "cell_type": "markdown",
   "metadata": {
    "id": "oTah-XK2uSM2"
   },
   "source": [
    "Получилось! \n",
    "\n",
    "Мы действительно порекомендовали пользователю фантастику и боевики, более того встречаются продолжения тех фильмов, которые он высоко оценил"
   ]
  },
  {
   "cell_type": "code",
   "execution_count": 16,
   "metadata": {
    "id": "3a653ZMkuSM3"
   },
   "outputs": [],
   "source": [
    "get_recommendations = lambda user_id, model : [movie_info[movie_info[\"movie_id\"] == x[0]][\"name\"].to_string() \n",
    "                                               for x in model.recommend(user_id, user_item_csr)]"
   ]
  },
  {
   "cell_type": "code",
   "execution_count": 17,
   "metadata": {
    "id": "3pGX5qP6uSM4"
   },
   "outputs": [
    {
     "data": {
      "text/plain": [
       "['585    Terminator 2: Judgment Day (1991)',\n",
       " '1271    Indiana Jones and the Last Crusade (1989)',\n",
       " '2502    Matrix, The (1999)',\n",
       " '1182    Aliens (1986)',\n",
       " '1284    Butch Cassidy and the Sundance Kid (1969)',\n",
       " '1178    Star Wars: Episode V - The Empire Strikes Back...',\n",
       " '847    Godfather, The (1972)',\n",
       " '3402    Close Encounters of the Third Kind (1977)',\n",
       " '1892    Rain Man (1988)',\n",
       " '453    Fugitive, The (1993)']"
      ]
     },
     "execution_count": 17,
     "metadata": {},
     "output_type": "execute_result"
    }
   ],
   "source": [
    "get_recommendations(4, model)"
   ]
  },
  {
   "cell_type": "code",
   "execution_count": null,
   "metadata": {
    "id": "ScS4z4WIuSM5"
   },
   "outputs": [],
   "source": []
  },
  {
   "cell_type": "markdown",
   "metadata": {
    "id": "1_JgH1jwuSM6"
   },
   "source": [
    "Теперь ваша очередь реализовать самые популярные алгоритмы матричных разложений\n",
    "\n",
    "Что будет оцениваться:\n",
    "1. Корректность алгоритма\n",
    "2. Качество получившихся симиларов\n",
    "3. Качество итоговых рекомендаций для юзера"
   ]
  },
  {
   "cell_type": "markdown",
   "metadata": {
    "id": "_09e4MBfuSM7"
   },
   "source": [
    "Сделаем сначала с рейтингом тоже самое что и с implicit данными (для rmse)"
   ]
  },
  {
   "cell_type": "code",
   "execution_count": 9,
   "metadata": {
    "id": "VKGX36E5uSM8"
   },
   "outputs": [],
   "source": [
    "users = ratings[\"user_id\"]\n",
    "movies = ratings[\"movie_id\"]\n",
    "user_item_exp = sp.coo_matrix((ratings[\"rating\"], (users, movies)))"
   ]
  },
  {
   "cell_type": "markdown",
   "metadata": {
    "id": "IVJLwdSRuSM8"
   },
   "source": [
    "Задание состоит в разделении матрицы на две - юзеры и фильмы, чтобы рекомендовать и находить похожие, мне удобно будет сделать класс, от которого 4 раза можно отнаследоваться"
   ]
  },
  {
   "cell_type": "markdown",
   "metadata": {
    "id": "H6q2WljquSM9"
   },
   "source": [
    "Очевидно нам понадобится rmse и 2 предсказателя"
   ]
  },
  {
   "cell_type": "code",
   "execution_count": 10,
   "metadata": {
    "id": "DkYKRywEuSM-"
   },
   "outputs": [],
   "source": [
    "from tqdm import tqdm\n",
    "from sklearn import metrics\n",
    "from sklearn.metrics.pairwise import cosine_similarity\n",
    "import math\n",
    "class Base:\n",
    "    def __init__(self, matrix, ratings, k, amount_of_users, amount_of_movies, start):\n",
    "        self.ratings = ratings\n",
    "        self.amount_of_users = amount_of_users\n",
    "        self.amount_of_movies = amount_of_movies\n",
    "        self.matrix = matrix\n",
    "        self.k = k\n",
    "        self.U = np.random.uniform(0, start / math.sqrt(k), (amount_of_users, k))\n",
    "        self.M = np.random.uniform(0, start / math.sqrt(k), (k, amount_of_movies))\n",
    "        self.B_u = np.random.uniform(0, start / math.sqrt(k), (amount_of_users, 1))\n",
    "        self.B_m = np.random.uniform(0, start / math.sqrt(k), (1, amount_of_movies))\n",
    "        self.mu = ratings.rating.mean() \n",
    "    \n",
    "    def rmse(self):\n",
    "        ans = self.ratings\n",
    "        matr2 = (self.U @ self.M)[ans[\"user_id\"], ans[\"movie_id\"]]\n",
    "        return metrics.mean_squared_error(self.ratings[\"rating\"], matr2, squared=True)\n",
    "    def make_recomendation(self, u_id):\n",
    "        print('User films')\n",
    "        print()\n",
    "        u_films = get_user_history(u_id, ratings)[:10]\n",
    "        print(*u_films, sep='\\n')\n",
    "        print()\n",
    "        print('Recomendation')\n",
    "        print()\n",
    "        prediction = self.U @ self.M\n",
    "        rating = np.argsort(prediction[u_id])[::-1]\n",
    "        return rating\n",
    "        \n",
    "    \n",
    "    def make_recomendation(self, u_id):\n",
    "        print('User films')\n",
    "        print()\n",
    "        u_films = get_user_history(u_id, self.ratings)[:10]\n",
    "        print(*u_films, sep='\\n')\n",
    "        print()\n",
    "        print('Recomendation')\n",
    "        print()\n",
    "        prediction = self.U @ self.M\n",
    "        rating = np.argsort(prediction[u_id])[::-1]\n",
    "        for i in rating[:10]:\n",
    "            print(*movie_info[movie_info['movie_id'] == i][['name', 'category']].values)\n",
    "        return\n",
    "\n",
    "    def find_similar1(self, m_id):\n",
    "        print('Film', movie_info[movie_info['movie_id'] == m_id][['name', 'category']].to_string())\n",
    "        similarity = np.dot(self.M[:,m_id], self.M) / np.sqrt((self.M * self.M).sum(axis=0)) / np.sqrt((self.M[:,m_id] ** 2).sum())\n",
    "        recomend = np.argsort(similarity)[::-1]\n",
    "        for i in recomend[:10]:\n",
    "            print(movie_info[movie_info['movie_id'] == i][['name', 'category']].values)\n",
    "        return\n",
    "        \n",
    "    def find_similar2(self, m_id):\n",
    "        movies = self.M.T\n",
    "        print('Film', movie_info[movie_info['movie_id'] == m_id][['name', 'category']].to_string())\n",
    "        matr1 = movies[m_id]\n",
    "        matr2 = movies\n",
    "        similarity = cosine_similarity(np.expand_dims(matr1, axis=0), self.M.T)[0]\n",
    "        similarity = np.argsort(similarity)[::-1]\n",
    "        #similarity = np.dot(self.M[:,m_id], self.M) / np.sqrt((self.M * self.M).sum(axis=0)) / np.sqrt((self.M[:,m_id] ** 2).sum())\n",
    "        for i in similarity[:10]:\n",
    "            print(movie_info[movie_info['movie_id'] == i][['name', 'category']].values)\n",
    "        return"
   ]
  },
  {
   "cell_type": "markdown",
   "metadata": {
    "id": "ujQCY1vGuSNA"
   },
   "source": [
    "### Задание 1. Не использую готовые решения, реализовать SVD разложение используя SGD на explicit данных"
   ]
  },
  {
   "cell_type": "markdown",
   "metadata": {
    "id": "EnvbLuTzuSNB"
   },
   "source": [
    "Делаем все по презентации, добавляя Баеса"
   ]
  },
  {
   "cell_type": "code",
   "execution_count": 11,
   "metadata": {
    "id": "CpofjXlcuSNB"
   },
   "outputs": [],
   "source": [
    "class SVD(Base):\n",
    "    def __init__(self, matrix, ratings, k, amount_of_users, amount_of_movies, start):\n",
    "        super().__init__(matrix, ratings, k, amount_of_users, amount_of_movies, start)\n",
    "    def fit(self, ops, learning_rate = 0.01, regular = 0.001):\n",
    "        inds = [i for i in range(len(self.ratings))]\n",
    "        np.random.shuffle(inds)        \n",
    "        for i in range(ops):\n",
    "            ind = inds[i % len(self.ratings)]\n",
    "            u_id = self.ratings.loc[ind]['user_id']\n",
    "            m_id = self.ratings.loc[ind]['movie_id']\n",
    "            rat = self.ratings.loc[ind]['rating']\n",
    "            error = self.U[u_id] @ self.M[:,m_id] - rat #+ self.B_u[u_id] + self.B_m[:,m_id]\n",
    "            self.U[u_id], self.M[:,m_id] = self.U[u_id] - learning_rate * (error * (self.M[:,m_id]).T + regular * self.U[u_id]), self.M[:,m_id] - learning_rate * (error * (self.U[u_id]).T + regular * self.M[:,m_id]) \n",
    "            self.B_u[u_id] = self.B_u[u_id] - learning_rate * (error + regular * self.B_u[u_id])\n",
    "            self.B_m[:,m_id] = self.B_m[:,m_id] - learning_rate * (error + regular * self.B_m[:, m_id])\n",
    "            self.mu -= learning_rate * error\n",
    "            if (i % 100000 == 99999):\n",
    "                print(self.rmse())"
   ]
  },
  {
   "cell_type": "code",
   "execution_count": 302,
   "metadata": {
    "id": "ROvnnx64uSND"
   },
   "outputs": [
    {
     "name": "stdout",
     "output_type": "stream",
     "text": [
      "1.4128963404981347\n",
      "1.0868766707104816\n",
      "0.9775460609909443\n",
      "0.9275856565687423\n",
      "0.8986398142055274\n",
      "0.8792319339929933\n",
      "0.8677322446597712\n",
      "0.8581926130376459\n",
      "0.8525012260632937\n",
      "0.8450313521729542\n",
      "0.8420397953520407\n",
      "0.8394254121171557\n",
      "0.8337618316382864\n",
      "0.8318608394286806\n",
      "0.8287541845753974\n",
      "0.8251606270435216\n",
      "0.823212611841964\n",
      "0.8200079106385986\n",
      "0.8187264198032734\n",
      "0.8137080389456107\n",
      "0.811870070872488\n",
      "0.8097394786117421\n",
      "0.8037800580142801\n",
      "0.8013109202649075\n",
      "0.797141218441623\n",
      "0.792195974186747\n",
      "0.7882977429941315\n",
      "0.7834697484894592\n",
      "0.7802587371175377\n",
      "0.7732088675187098\n",
      "0.7688988314179441\n",
      "0.7643972575124304\n",
      "0.75660567133915\n",
      "0.7520774977256613\n",
      "0.7461186045957932\n",
      "0.7397728022053589\n",
      "0.7346449551586416\n",
      "0.7283286316091647\n",
      "0.724337824020763\n",
      "0.7164768617595103\n",
      "0.7114943922240705\n",
      "0.7062546983710112\n",
      "0.6983822668254513\n",
      "0.6937066968528035\n",
      "0.6872495449007521\n",
      "0.6811944827384131\n",
      "0.6761587252714077\n",
      "0.6697822122636249\n",
      "0.6657229753560518\n",
      "0.6580722641776798\n",
      "0.6530984726276434\n",
      "0.6480883585604486\n",
      "0.6407504864614714\n",
      "0.6362719312802515\n",
      "0.6302420501481573\n",
      "0.6248000425815542\n",
      "0.6205113703514357\n",
      "0.6147448548030803\n",
      "0.6107994098251994\n",
      "0.6037956416152209\n",
      "0.5993621325426589\n",
      "0.5950790566733766\n",
      "0.5885462512344429\n",
      "0.5845025895342696\n",
      "0.5794015595793773\n",
      "0.5747482630817833\n",
      "0.5709795028532503\n",
      "0.5662905860827578\n",
      "0.5627238174120549\n",
      "0.5567988281482802\n",
      "0.5527781249411813\n",
      "0.5493618054091155\n",
      "0.5437541978764455\n",
      "0.5404159297643998\n",
      "0.536086205677393\n",
      "0.5322526143200502\n",
      "0.5291161140094173\n",
      "0.5253341518295391\n",
      "0.5221307282378945\n",
      "0.517331709764611\n",
      "0.5138917565027281\n",
      "0.5112212844468337\n",
      "0.5064226775212789\n",
      "0.5036396879327089\n",
      "0.5002207355384044\n",
      "0.4971424064493539\n",
      "0.4945487990677355\n",
      "0.4914136219820011\n",
      "0.488727394527434\n",
      "0.4848292800061079\n",
      "0.4817639585022785\n",
      "0.47980225805989224\n",
      "0.4756415723250802\n",
      "0.47346979661279015\n",
      "0.47064591768145964\n",
      "0.4683180517189129\n",
      "0.4661564059701292\n",
      "0.4635185143939782\n",
      "0.46127151471500233\n",
      "0.45818025534665136\n",
      "0.4554079170574409\n",
      "0.45413265521874946\n",
      "0.45048809987336585\n",
      "0.4486683509817182\n",
      "0.4464912076696351\n",
      "0.44457048383187575\n",
      "0.4427396916621532\n",
      "0.4403995844464309\n",
      "0.43864633449498935\n",
      "0.4361826038922987\n",
      "0.4336600896599459\n",
      "0.43294305103297626\n",
      "0.4295379867182946\n",
      "0.42807753759046696\n",
      "0.4262169106244609\n",
      "0.4248111199625871\n",
      "0.4231665802118435\n",
      "0.4212885354732817\n",
      "0.4197217601757178\n",
      "0.4177035928084518\n",
      "0.4154338805893642\n",
      "0.4151393827986247\n",
      "0.4119595317102416\n",
      "0.41071249439949187\n",
      "0.40919862283609476\n",
      "0.4080816981382313\n",
      "0.40680787623023884\n",
      "0.4049981288937518\n",
      "0.40377619899592554\n",
      "0.4020531834887438\n",
      "0.39997720613154325\n",
      "0.4000158448442438\n",
      "0.39705524032152395\n",
      "0.395935771146817\n",
      "0.39475390711415886\n",
      "0.3938925988786115\n",
      "0.39270801740443856\n",
      "0.3911178580700292\n",
      "0.390101238847467\n",
      "0.38869071084814216\n",
      "0.3867557226706453\n",
      "0.3869773019938336\n",
      "0.3842816454991911\n",
      "0.38324497963698273\n",
      "0.3822424195968185\n",
      "0.3815941312133056\n",
      "0.38059181633932104\n",
      "0.37906205205119076\n",
      "0.3782757560010825\n",
      "0.37703815422766646\n",
      "0.3753362533472633\n",
      "0.37564825154502873\n",
      "0.3731395227681576\n",
      "0.3722001815956448\n",
      "0.37145466124454984\n",
      "0.3708916307541727\n",
      "0.37005486205057947\n",
      "0.36854368158531414\n",
      "0.3679592850264396\n",
      "0.3669424326904032\n",
      "0.3652747628987681\n",
      "0.3657806235162089\n",
      "0.3634009456384287\n",
      "0.36262874245885474\n",
      "0.3618670214142105\n",
      "0.36157119617874983\n",
      "0.3608670396431632\n",
      "0.35928487168045703\n",
      "0.3589623841416461\n",
      "0.35810113629724694\n",
      "0.356454030642155\n",
      "0.3570863298124755\n",
      "0.3547643351207479\n",
      "0.3542553993860372\n",
      "0.35344253024971944\n",
      "0.3532427324050655\n",
      "0.35277331176142884\n",
      "0.35111351531292323\n",
      "0.35093021569878136\n",
      "0.35025469866536185\n",
      "0.3487488073492849\n",
      "0.34938339925096845\n",
      "0.3471344780820898\n",
      "0.3466946268992813\n",
      "0.3459960027037521\n",
      "0.34589815776638183\n",
      "0.345565382170888\n",
      "0.3438698572844766\n",
      "0.34388845020720804\n",
      "0.34316440356331324\n",
      "0.34176412298419084\n",
      "0.3423702521035629\n",
      "0.3403853227889024\n",
      "0.33992144325731033\n",
      "0.3392821451352073\n",
      "0.33925869371531103\n",
      "0.3390288979252673\n",
      "0.33736779354686985\n",
      "0.33740076502780997\n",
      "0.3369747749515656\n",
      "0.3355796216494347\n",
      "0.33611317575644817\n",
      "0.3343639532673739\n",
      "0.3339273431392382\n",
      "0.333422569618755\n",
      "0.3334972754208405\n",
      "0.3332042231182425\n",
      "0.33157824752907394\n",
      "0.33165298991521863\n",
      "0.33130141284191883\n",
      "0.33003424472717\n",
      "0.3305142273168968\n",
      "0.3288179235225674\n",
      "0.3285191928360639\n",
      "0.32792973939986947\n",
      "0.3280850855613452\n",
      "0.32790908168006966\n",
      "0.3263516712495771\n",
      "0.3264078954092668\n",
      "0.3260812837236619\n",
      "0.32495719340016116\n",
      "0.3253219735420694\n",
      "0.32399353516245416\n",
      "0.32359447568589245\n",
      "0.32304216003373804\n",
      "0.3232932392243205\n",
      "0.32310778856762296\n",
      "0.3215830297804288\n",
      "0.3216398895928156\n",
      "0.32144790877264023\n",
      "0.3203595323235012\n",
      "0.3206497087896159\n",
      "0.31951729265402884\n",
      "0.3190497301389777\n",
      "0.3184548318622211\n",
      "0.31879464492279846\n",
      "0.31869649014189455\n",
      "0.31723000888339603\n",
      "0.3172965461226606\n",
      "0.31730481770870517\n",
      "0.31616224196419895\n",
      "0.31642211342683113\n",
      "0.3153397550623137\n",
      "0.31496499305032194\n",
      "0.31443244752402605\n",
      "0.31478614402617094\n",
      "0.31461336158867376\n",
      "0.3132916926716943\n",
      "0.31333905073018287\n",
      "0.3133310085876778\n",
      "0.3122579623488421\n",
      "0.31250438103845957\n",
      "0.31160801315976744\n",
      "0.31133832499357256\n",
      "0.3106400801941689\n",
      "0.3111902127966049\n",
      "0.31089252589527083\n",
      "0.3097120847462473\n",
      "0.30976336445562075\n",
      "0.3097349743251683\n",
      "0.3086854246286632\n",
      "0.3089560850876776\n",
      "0.3081878260282986\n",
      "0.30788633056643055\n",
      "0.30713877832061137\n",
      "0.307792818373097\n",
      "0.3074611144291308\n",
      "0.30643272981147723\n",
      "0.30642983682834346\n",
      "0.3064460605078191\n",
      "0.3055167631008928\n",
      "0.3056630269642757\n",
      "0.30497594448916593\n",
      "0.30470035099250287\n",
      "0.30397493310964446\n",
      "0.3046306320902197\n",
      "0.30440049122112567\n",
      "0.30334434112558134\n",
      "0.30331523390961534\n",
      "0.3034299156069549\n",
      "0.30249482185722465\n",
      "0.30256656351082944\n",
      "0.30196438405428827\n",
      "0.3017457131560353\n",
      "0.3010684067236805\n",
      "0.3017444733420242\n",
      "0.3015065371160476\n",
      "0.30047666697875863\n",
      "0.3004160877841908\n",
      "0.30060949653613867\n",
      "0.2996905128714629\n",
      "0.2997055940985573\n",
      "0.2992167274652044\n",
      "0.2989927000455818\n",
      "0.2983058748426952\n",
      "0.2990823685324973\n",
      "0.2987931303662068\n",
      "0.29781757725435926\n",
      "0.2977500210767538\n",
      "0.2979681500166876\n",
      "0.29704712300720865\n",
      "0.2970901242751899\n",
      "0.2967736155689967\n",
      "0.29630989882424413\n",
      "0.2956746556138613\n",
      "0.29666477250591383\n",
      "0.296209748411188\n",
      "0.29526875460581364\n",
      "0.2953336541517402\n",
      "0.29567087641768774\n",
      "0.29462801487908263\n",
      "0.2946331950043105\n",
      "0.29435583193163967\n",
      "0.2940104977957704\n",
      "0.29345979170176256\n",
      "0.29436597466014264\n",
      "0.29381857203290285\n",
      "0.2928761840157627\n",
      "0.29291503299097277\n",
      "0.2933367387109449\n",
      "0.29243348678608666\n",
      "0.2923972114399455\n",
      "0.2920755410737784\n",
      "0.29179312518493206\n",
      "0.29128903350535107\n",
      "0.29218161549344196\n",
      "0.2915607786756622\n",
      "0.2907030097630553\n",
      "0.29080346816479413\n",
      "0.2911890037625566\n",
      "0.2902836877673983\n",
      "0.29029879472415904\n",
      "0.2899925786973167\n",
      "0.2897428013912517\n",
      "0.2892473688483737\n",
      "0.2902212451993973\n",
      "0.2895367652354622\n",
      "0.2886521378757199\n",
      "0.2886746266141274\n",
      "0.28915436278322815\n",
      "0.2883376636640166\n",
      "0.28816694913391\n",
      "0.2880950445523359\n",
      "0.28785168096127933\n",
      "0.28729101401565127\n",
      "0.2882340908538401\n",
      "0.2876161894080345\n",
      "0.2868350149746985\n",
      "0.28666844069277725\n",
      "0.28727132510880077\n",
      "0.28633218237293045\n",
      "0.28623028853100996\n",
      "0.28625720818483474\n",
      "0.28616071567793233\n",
      "0.28545195956789593\n",
      "0.2864015701429457\n",
      "0.2857510894184488\n",
      "0.28501392553976035\n",
      "0.28494393263214324\n",
      "0.2854619236992154\n",
      "0.2845214936582152\n",
      "0.2844095658257983\n",
      "0.2846282957535879\n",
      "0.28438545885872374\n",
      "0.28366875420448034\n",
      "0.28467043987125557\n",
      "0.2840030419988524\n",
      "0.28335530764211264\n",
      "0.2833148290360725\n",
      "0.28385260146124147\n",
      "0.28286012620094775\n",
      "0.2827604024160153\n",
      "0.2830071488158908\n",
      "0.2828249085983294\n",
      "0.28194845162161414\n",
      "0.2830775498402224\n",
      "0.28242752841075613\n",
      "0.2817291117169323\n",
      "0.28170126555372704\n",
      "0.28221802134024604\n",
      "0.28131822703288967\n",
      "0.28123926974207425\n",
      "0.2814609793134368\n",
      "0.28120019203625235\n",
      "0.280472626792106\n",
      "0.2815547112656957\n",
      "0.28094438611007083\n",
      "0.28017700255136896\n",
      "0.28014526881961505\n",
      "0.2807451437153764\n",
      "0.27982620993306995\n",
      "0.2797088977205798\n",
      "0.27996961329613274\n",
      "0.27963465701357765\n",
      "0.27907315702451035\n",
      "0.2800203823384278\n",
      "0.279398133049854\n",
      "0.27872276459693524\n",
      "0.2786690282393167\n",
      "0.27929806986491673\n",
      "0.2783596617333377\n",
      "0.2782410059981931\n",
      "0.27860106495019893\n",
      "0.2782665997327945\n",
      "0.2776580282491349\n",
      "0.2785790521936024\n",
      "0.27805384936229943\n",
      "0.27734967790030873\n",
      "0.27731458799618214\n",
      "0.27805470937732024\n",
      "0.27699333348124744\n",
      "0.2767864953566614\n",
      "0.27724434593102565\n",
      "0.27695790150399674\n",
      "0.2763541666896801\n",
      "0.27723041823121775\n",
      "0.276757039908607\n",
      "0.2760310740618921\n",
      "0.2758913248724279\n",
      "0.27674162221807813\n",
      "0.27568772069606334\n",
      "0.2755200521296459\n",
      "0.2759590276812792\n",
      "0.27563457821250187\n",
      "0.2750896372403377\n"
     ]
    },
    {
     "name": "stdout",
     "output_type": "stream",
     "text": [
      "0.27590657307824673\n",
      "0.27549608664716413\n",
      "0.27484988230001944\n",
      "0.27455551141440915\n",
      "0.27551339000809266\n",
      "0.2745040328625396\n",
      "0.2742569531170587\n",
      "0.27471187075772696\n",
      "0.274430329558199\n",
      "0.27388882810400966\n",
      "0.27472197842972446\n",
      "0.27431656550123823\n",
      "0.2736024637351518\n",
      "0.2733244805851374\n",
      "0.274285475325391\n",
      "0.273245881233942\n",
      "0.273062765531401\n",
      "0.27356348969000616\n",
      "0.27330845185794167\n",
      "0.2726369022780409\n",
      "0.27359337923719956\n",
      "0.27311907726424006\n",
      "0.2724496625560224\n",
      "0.2721785368647946\n",
      "0.27320721560621475\n",
      "0.2720970474419242\n",
      "0.272006759162663\n",
      "0.2724317137680978\n",
      "0.2720489879124747\n",
      "0.2715771486490969\n",
      "0.2724613147060326\n",
      "0.27195631376010704\n",
      "0.2714028712499662\n",
      "0.2711449123362482\n",
      "0.27210494657275636\n",
      "0.2709908733783047\n",
      "0.2709452541138962\n",
      "0.2713291590680737\n",
      "0.2710056809190486\n",
      "0.270563981431629\n",
      "0.27134040775093765\n",
      "0.2709767196036578\n",
      "0.27035607410126766\n",
      "0.2700676777406297\n",
      "0.27100371288959896\n",
      "0.26996385227378844\n",
      "0.26991895893755713\n",
      "0.2702983665846162\n",
      "0.27001675092897953\n",
      "0.2695265031621916\n",
      "0.2703269640675227\n",
      "0.2699560582098764\n",
      "0.2693905110854263\n",
      "0.26902884787417647\n",
      "0.2699273589343914\n",
      "0.26905773975945696\n",
      "0.26894291054364644\n",
      "0.2693227359459114\n",
      "0.2691013537451729\n",
      "0.2685953712285768\n",
      "0.26939861303882057\n",
      "0.26897460750944374\n",
      "0.26846020327527226\n",
      "0.2680366219911217\n",
      "0.2688767468197454\n",
      "0.26809345632860476\n",
      "0.2681014969957934\n",
      "0.2683291741945962\n",
      "0.26805604273039074\n",
      "0.267611778664704\n",
      "0.2684526776957592\n",
      "0.2679751295448908\n",
      "0.26754458446774\n",
      "0.2670712140863237\n",
      "0.2679203680193562\n"
     ]
    }
   ],
   "source": [
    "model1 = SVD(user_item_exp, ratings, 64, max(np.unique(ratings['user_id'])) + 1, max(np.unique(ratings['movie_id'])) + 1, np.sqrt(5))\n",
    "model1.fit(50000000)"
   ]
  },
  {
   "cell_type": "markdown",
   "metadata": {
    "id": "uI1zC6rKbwoa"
   },
   "source": [
    "Пора получать рекомендации и находить похожее"
   ]
  },
  {
   "cell_type": "code",
   "execution_count": null,
   "metadata": {
    "id": "5JEqXrSkuSNF"
   },
   "outputs": [],
   "source": [
    "model1.fit(1000000)"
   ]
  },
  {
   "cell_type": "code",
   "execution_count": null,
   "metadata": {
    "id": "86QXivQxJyll"
   },
   "outputs": [],
   "source": []
  },
  {
   "cell_type": "code",
   "execution_count": 304,
   "metadata": {
    "id": "ZoQ4THe7uSNG"
   },
   "outputs": [
    {
     "name": "stdout",
     "output_type": "stream",
     "text": [
      "User films\n",
      "\n",
      "3399    Hustler, The (1961)\n",
      "1192    Star Wars: Episode VI - Return of the Jedi (1983)\n",
      "2882    Fistful of Dollars, A (1964)\n",
      "1196    Alien (1979)\n",
      "1023    Die Hard (1988)\n",
      "257    Star Wars: Episode IV - A New Hope (1977)\n",
      "1959    Saving Private Ryan (1998)\n",
      "476    Jurassic Park (1993)\n",
      "1178    Star Wars: Episode V - The Empire Strikes Back...\n",
      "1180    Raiders of the Lost Ark (1981)\n",
      "\n",
      "Recomendation\n",
      "\n",
      "['Gay Divorcee, The (1934)' 'Comedy|Musical|Romance']\n",
      "['Double Indemnity (1944)' 'Crime|Film-Noir']\n",
      "['Godfather, The (1972)' 'Action|Crime|Drama']\n",
      "['Next Stop, Wonderland (1998)' 'Comedy|Drama|Romance']\n",
      "['Citizen Kane (1941)' 'Drama']\n",
      "['Lone Star (1996)' 'Drama|Mystery']\n",
      "['Casablanca (1942)' 'Drama|Romance|War']\n",
      "['Lord of the Flies (1963)' 'Adventure|Drama|Thriller']\n",
      "['Life Is Beautiful (La Vita и bella) (1997)' 'Comedy|Drama']\n",
      "[\"One Flew Over the Cuckoo's Nest (1975)\" 'Drama']\n"
     ]
    }
   ],
   "source": [
    "model1.make_recomendation(4)"
   ]
  },
  {
   "cell_type": "markdown",
   "metadata": {},
   "source": []
  },
  {
   "cell_type": "code",
   "execution_count": 305,
   "metadata": {
    "id": "TG8sDKlEuSNH"
   },
   "outputs": [
    {
     "name": "stdout",
     "output_type": "stream",
     "text": [
      "Film                name                     category\n",
      "0  Toy Story (1995)  Animation|Children's|Comedy\n",
      "[['Toy Story (1995)' \"Animation|Children's|Comedy\"]]\n",
      "[['Toy Story 2 (1999)' \"Animation|Children's|Comedy\"]]\n",
      "[[\"Bug's Life, A (1998)\" \"Animation|Children's|Comedy\"]]\n",
      "[['Wrong Trousers, The (1993)' 'Animation|Comedy']]\n",
      "[['Apollo 13 (1995)' 'Drama']]\n",
      "[['Line King: Al Hirschfeld, The (1996)' 'Documentary']]\n",
      "[]\n",
      "[['Close Shave, A (1995)' 'Animation|Comedy|Thriller']]\n",
      "[['Gate of Heavenly Peace, The (1995)' 'Documentary']]\n",
      "[['Aladdin (1992)' \"Animation|Children's|Comedy|Musical\"]]\n"
     ]
    }
   ],
   "source": [
    "model1.find_similar1(1)"
   ]
  },
  {
   "cell_type": "markdown",
   "metadata": {},
   "source": [
    "Почти все мультики)"
   ]
  },
  {
   "cell_type": "code",
   "execution_count": 306,
   "metadata": {
    "id": "P5__P5A9uSNH"
   },
   "outputs": [
    {
     "name": "stdout",
     "output_type": "stream",
     "text": [
      "Film                name                   category\n",
      "9  GoldenEye (1995)  Action|Adventure|Thriller\n",
      "[['GoldenEye (1995)' 'Action|Adventure|Thriller']]\n",
      "[['Tomorrow Never Dies (1997)' 'Action|Romance|Thriller']]\n",
      "[['World Is Not Enough, The (1999)' 'Action|Thriller']]\n",
      "[['Man with the Golden Gun, The (1974)' 'Action']]\n",
      "[['Goldfinger (1964)' 'Action']]\n",
      "[['Spy Who Loved Me, The (1977)' 'Action']]\n",
      "[['Live and Let Die (1973)' 'Action']]\n",
      "[['For Your Eyes Only (1981)' 'Action']]\n",
      "[['View to a Kill, A (1985)' 'Action']]\n",
      "[['Dr. No (1962)' 'Action']]\n"
     ]
    }
   ],
   "source": [
    "model1.find_similar2(10)"
   ]
  },
  {
   "cell_type": "markdown",
   "metadata": {},
   "source": [
    "Мега крутые похожие фильмы (несколько бондиан и индиана джонс)"
   ]
  },
  {
   "cell_type": "markdown",
   "metadata": {
    "id": "b1-y0Jb5uSNI"
   },
   "source": [
    "### Задание 2. Не использую готовые решения, реализовать матричное разложение используя ALS на implicit данных"
   ]
  },
  {
   "cell_type": "markdown",
   "metadata": {},
   "source": [
    "Используем статью http://yifanhu.net/PUB/cf.pdf"
   ]
  },
  {
   "cell_type": "code",
   "execution_count": 11,
   "metadata": {
    "id": "WL6ghuiLuSNJ"
   },
   "outputs": [],
   "source": [
    "class ALS(Base):\n",
    "    def __init__(self, matrix, ratings, k, amount_of_users, amount_of_movies, start):\n",
    "        super().__init__(matrix, ratings, k, amount_of_users, amount_of_movies, start)\n",
    "        self.M = self.M.T\n",
    "        self.C = self.matrix.toarray() * 0.01\n",
    "        self.C = self.C + 1\n",
    "    def fit(self, ops):\n",
    "        for i in range(ops):\n",
    "            if (i % 2 == 0):\n",
    "                self.M = model.step(self.U, self.C.T, self.matrix.T)\n",
    "            else:\n",
    "                self.U = model.step(self.M, self.C, self.matrix)\n",
    "            print(self.my_rmse())\n",
    "    def step(self, matr, C_to_use, rate, learning_rate = 0.01):\n",
    "        ans = np.zeros((len(C_to_use), self.k))\n",
    "        for i in range(len(C_to_use)):\n",
    "            bracket = np.linalg.inv(matr.T @ np.diag(C_to_use[i]) @ matr + learning_rate * np.eye(matr.shape[1]))\n",
    "            #print(bracket.shape)\n",
    "            bracket = bracket @ matr.T @ np.diag(C_to_use[i])\n",
    "            ans[i] = (bracket @ rate[i].T).T\n",
    "        return ans\n",
    "        \n",
    "        \n",
    "    def my_rmse(self):\n",
    "        ans = ratings\n",
    "        matr2 = ((self.U @ self.M.T))[ans[\"user_id\"], ans[\"movie_id\"]]\n",
    "        matr1 = self.matrix[ans[\"user_id\"], ans[\"movie_id\"]]\n",
    "        matr1 = np.squeeze(np.asarray(matr1))\n",
    "        #print(matr1)\n",
    "        #print(matr2)\n",
    "        #print(np.squeeze(self.matrix[ans[\"user_id\"], ans[\"movie_id\"]]))\n",
    "        return metrics.mean_squared_error(matr1, matr2, squared=True)"
   ]
  },
  {
   "cell_type": "code",
   "execution_count": 283,
   "metadata": {
    "id": "zpWNaycjuSNK"
   },
   "outputs": [
    {
     "name": "stdout",
     "output_type": "stream",
     "text": [
      "0.455701184373924\n",
      "0.3189876222076632\n",
      "0.276442639871987\n",
      "0.26368995632453907\n",
      "0.2593893417743478\n",
      "0.2567223388694169\n",
      "0.2555222963371137\n",
      "0.25455406588747614\n",
      "0.25406650825405225\n",
      "0.25360578433482406\n",
      "0.25337037458614653\n",
      "0.253114626146948\n",
      "0.252989130716757\n",
      "0.2528317016296451\n",
      "0.2527591642380387\n",
      "0.25265454001304594\n",
      "0.2526091785070115\n",
      "0.25253542346448976\n",
      "0.2525049139341488\n",
      "0.2524504411880954\n"
     ]
    }
   ],
   "source": [
    "model2 = ALS(user_item_csr, implicit_ratings, 64, max(np.unique(ratings['user_id'])) + 1, max(np.unique(ratings['movie_id'])) + 1, 1)\n",
    "model2.fit(20)"
   ]
  },
  {
   "cell_type": "markdown",
   "metadata": {
    "id": "a1oUXDQEuSNM"
   },
   "source": [
    "Пора делать рекомендации (транспонируем так как в Базе другая размерность)"
   ]
  },
  {
   "cell_type": "code",
   "execution_count": 284,
   "metadata": {
    "id": "M5DSub3_uSNN"
   },
   "outputs": [
    {
     "name": "stdout",
     "output_type": "stream",
     "text": [
      "User films\n",
      "\n",
      "3399    Hustler, The (1961)\n",
      "2882    Fistful of Dollars, A (1964)\n",
      "1196    Alien (1979)\n",
      "1023    Die Hard (1988)\n",
      "257    Star Wars: Episode IV - A New Hope (1977)\n",
      "1959    Saving Private Ryan (1998)\n",
      "476    Jurassic Park (1993)\n",
      "1180    Raiders of the Lost Ark (1981)\n",
      "1885    Rocky (1976)\n",
      "1081    E.T. the Extra-Terrestrial (1982)\n",
      "\n",
      "Recomendation\n",
      "\n",
      "['Raiders of the Lost Ark (1981)' 'Action|Adventure']\n",
      "['Star Wars: Episode IV - A New Hope (1977)'\n",
      " 'Action|Adventure|Fantasy|Sci-Fi']\n",
      "['Jaws (1975)' 'Action|Horror']\n",
      "['E.T. the Extra-Terrestrial (1982)' \"Children's|Drama|Fantasy|Sci-Fi\"]\n",
      "['Saving Private Ryan (1998)' 'Action|Drama|War']\n",
      "['Terminator, The (1984)' 'Action|Sci-Fi|Thriller']\n",
      "['Alien (1979)' 'Action|Horror|Sci-Fi|Thriller']\n",
      "['Die Hard (1988)' 'Action|Thriller']\n",
      "['Terminator 2: Judgment Day (1991)' 'Action|Sci-Fi|Thriller']\n",
      "['Rocky (1976)' 'Action|Drama']\n"
     ]
    }
   ],
   "source": [
    "model2.M = model2.M.T\n",
    "model2.make_recomendation(4)\n",
    "model2.M = model2.M.T"
   ]
  },
  {
   "cell_type": "code",
   "execution_count": 285,
   "metadata": {
    "id": "g0GWyJUjuSNN"
   },
   "outputs": [
    {
     "name": "stdout",
     "output_type": "stream",
     "text": [
      "Film                name                     category\n",
      "0  Toy Story (1995)  Animation|Children's|Comedy\n",
      "[['Toy Story (1995)' \"Animation|Children's|Comedy\"]]\n",
      "[['Toy Story 2 (1999)' \"Animation|Children's|Comedy\"]]\n",
      "[['Babe (1995)' \"Children's|Comedy|Drama\"]]\n",
      "[[\"Bug's Life, A (1998)\" \"Animation|Children's|Comedy\"]]\n",
      "[['Aladdin (1992)' \"Animation|Children's|Comedy|Musical\"]]\n",
      "[['Babe: Pig in the City (1998)' \"Children's|Comedy\"]]\n",
      "[['Pleasantville (1998)' 'Comedy']]\n",
      "[['Tarzan (1999)' \"Animation|Children's\"]]\n",
      "[['Lion King, The (1994)' \"Animation|Children's|Musical\"]]\n",
      "[['Hercules (1997)' \"Adventure|Animation|Children's|Comedy|Musical\"]]\n"
     ]
    }
   ],
   "source": [
    "model2.M = model2.M.T\n",
    "model2.find_similar2(1)\n",
    "model2.M = model2.M.T"
   ]
  },
  {
   "cell_type": "code",
   "execution_count": 286,
   "metadata": {
    "id": "LAQkPC3LuSNO"
   },
   "outputs": [
    {
     "name": "stdout",
     "output_type": "stream",
     "text": [
      "Film                name                   category\n",
      "9  GoldenEye (1995)  Action|Adventure|Thriller\n",
      "[['GoldenEye (1995)' 'Action|Adventure|Thriller']]\n",
      "[['Tomorrow Never Dies (1997)' 'Action|Romance|Thriller']]\n",
      "[['World Is Not Enough, The (1999)' 'Action|Thriller']]\n",
      "[['Rush Hour (1998)' 'Action|Thriller']]\n",
      "[['Die Hard: With a Vengeance (1995)' 'Action|Thriller']]\n",
      "[['Licence to Kill (1989)' 'Action']]\n",
      "[['View to a Kill, A (1985)' 'Action']]\n",
      "[[\"Jackie Chan's First Strike (1996)\" 'Action']]\n",
      "[['Man with the Golden Gun, The (1974)' 'Action']]\n",
      "[['For Your Eyes Only (1981)' 'Action']]\n"
     ]
    }
   ],
   "source": [
    "model2.M = model2.M.T\n",
    "model2.find_similar2(10)\n",
    "model2.M = model2.M.T"
   ]
  },
  {
   "cell_type": "markdown",
   "metadata": {},
   "source": [
    "Получилось!!!"
   ]
  },
  {
   "cell_type": "markdown",
   "metadata": {
    "id": "yO2lIHA3uSNP"
   },
   "source": [
    "### Задание 3. Не использую готовые решения, реализовать матричное разложение BPR на implicit данных"
   ]
  },
  {
   "cell_type": "markdown",
   "metadata": {
    "id": "K9RtriWTuSNP"
   },
   "source": [
    "https://arxiv.org/ftp/arxiv/papers/1205/1205.2618.pdf"
   ]
  },
  {
   "cell_type": "code",
   "execution_count": null,
   "metadata": {},
   "outputs": [],
   "source": []
  },
  {
   "cell_type": "code",
   "execution_count": 33,
   "metadata": {},
   "outputs": [],
   "source": [
    "class BPR(ALS):\n",
    "    def __init__(self, matrix, ratings, k, amount_of_users, amount_of_movies, start):\n",
    "        super().__init__(matrix, ratings, k, amount_of_users, amount_of_movies, start)\n",
    "    def sigmoid(self, values):\n",
    "        return 1 / (1 + np.exp(-values))\n",
    "    def fit(self, ops, learning_rate=0.01):\n",
    "        ans = ratings\n",
    "        matr1 = self.matrix[ans[\"user_id\"], ans[\"movie_id\"]]\n",
    "        loss = []\n",
    "        for i in range(ops):\n",
    "            for u_id in range(self.amount_of_users):\n",
    "                all_rates = ratings[ratings[\"user_id\"] == u_id]\n",
    "                bad_rates = all_rates[all_rates[\"rating\"] < 4].values\n",
    "                good_rates = all_rates[all_rates[\"rating\"] > 3].values\n",
    "                if (bad_rates.shape[0] == 0 or good_rates.shape[0] == 0):\n",
    "                    continue\n",
    "                np.random.shuffle(good_rates)\n",
    "                np.random.shuffle(bad_rates)\n",
    "                bad_rates = bad_rates[:1][:, 1]\n",
    "                good_rate = good_rates[:1][:, 1]\n",
    "                bad_matrix = self.M[bad_rates]\n",
    "                good_matrix = self.M[good_rate]\n",
    "                values = self.U[u_id] @ good_matrix.T - self.U[u_id] @ bad_matrix.T\n",
    "                loss.append(values)\n",
    "                self.U[u_id] += ((self.sigmoid(values).sum() * (good_matrix * bad_matrix.shape[0] - bad_matrix.sum(axis=0)) - 0.001 * self.U[u_id]) * learning_rate)[0]\n",
    "                if (self.U[u_id].mean() > 10 ** 9):\n",
    "                    self.U[u_id] /= 2\n",
    "                self.M[good_rate] += (self.sigmoid(values).sum() * self.U[u_id] - 0.001 * self.M[good_rate]) * learning_rate\n",
    "                if (self.M[good_rate].mean() > 10 ** 9):\n",
    "                    self.M[good_rate] /= 2\n",
    "                self.M[good_rate] /= 2\n",
    "                for x in range(bad_rates.shape[0]):\n",
    "                    self.M[bad_rates[x]] -= (self.sigmoid(values)[x] * self.U[u_id] - 0.001 * self.M[bad_rates[x]]) * learning_rate\n",
    "                    if (self.M[bad_rates[x]] > 10 ** 9):\n",
    "                        self.M[bad_rates[x]] /= 2\n",
    "            print(np.mean(loss), i)\n",
    "            loss = []\n",
    "                "
   ]
  },
  {
   "cell_type": "code",
   "execution_count": 34,
   "metadata": {},
   "outputs": [
    {
     "name": "stdout",
     "output_type": "stream",
     "text": [
      "0.0015879783616565208\n",
      "0.006034267266995612\n",
      "0.011813033911742135\n",
      "0.016145112923516385\n",
      "0.021981461503256132\n",
      "0.026404372736667438\n",
      "0.03176072092587162\n",
      "0.03792123981507124\n",
      "0.04164573733353335\n",
      "0.04914388006165022\n",
      "0.0533834489621373\n",
      "0.05628904920992364\n",
      "0.06451351838679249\n",
      "0.07301575560056071\n",
      "0.07938017175208208\n",
      "0.08344784964683674\n",
      "0.09229986923694508\n",
      "0.09838649946485992\n",
      "0.09853992213892192\n",
      "0.11496978139625506\n",
      "0.12083412961557831\n",
      "0.13442829175160037\n",
      "0.14083356328596236\n",
      "0.14262828995651305\n",
      "0.15940153745048186\n",
      "0.16174803475259109\n",
      "0.17519537296334778\n",
      "0.19363678441956494\n",
      "0.1872352592151962\n",
      "0.2114226868656948\n",
      "0.232095567778106\n",
      "0.23465746627318293\n",
      "0.2451942687377855\n",
      "0.26613021700709677\n",
      "0.2581670401725988\n",
      "0.2847613159138688\n",
      "0.2969934008940484\n",
      "0.31728676793479776\n",
      "0.33317937417378196\n",
      "0.3487656652114631\n",
      "0.3717089704165872\n",
      "0.37916524852894007\n",
      "0.4004006495339755\n",
      "0.46639463691521765\n",
      "0.45698721931633873\n",
      "0.5104885905030322\n",
      "0.521502479858264\n",
      "0.5826181662220189\n",
      "0.5978354775921789\n",
      "0.5797037282878634\n",
      "0.6273155355774954\n",
      "0.6768408850848785\n",
      "0.7491218216105352\n",
      "0.7510431208581605\n",
      "0.8218843397081087\n",
      "0.8982416391863938\n",
      "0.9823011538806423\n",
      "1.0556847832659755\n",
      "1.0470592588800036\n",
      "1.1547650296533\n",
      "1.277644611051493\n",
      "1.2039424704077164\n",
      "1.3983964220699243\n",
      "1.4481287151690398\n",
      "1.5058406226275474\n",
      "1.5528156192016789\n",
      "1.8110232949121168\n",
      "1.8266181478916912\n",
      "2.0316154960541684\n",
      "2.0424718306237035\n",
      "2.1197536232453142\n",
      "2.2546056903556297\n",
      "2.446723750517668\n",
      "2.492053183499783\n",
      "2.7244352883403176\n",
      "3.10710085546478\n",
      "3.1264099983249696\n",
      "3.4017824438121727\n",
      "3.4943503634021535\n",
      "3.973131988061875\n",
      "3.964160906558334\n",
      "3.9813251286500946\n",
      "4.728491488968013\n",
      "5.0791164993616205\n",
      "5.046709255138857\n",
      "5.404402188796033\n",
      "6.015952972030698\n",
      "6.008222987951474\n",
      "7.001308159152442\n",
      "6.94700691846836\n",
      "8.09265242389468\n",
      "8.252121089740873\n",
      "8.944485758387328\n",
      "9.096976737915309\n",
      "9.334861177864934\n",
      "10.327971887867783\n",
      "11.07455808424303\n",
      "12.527552519588253\n",
      "12.677698676500503\n",
      "13.96461153520065\n",
      "13.063918080245951\n",
      "14.520856707021354\n",
      "17.07509422238813\n",
      "16.3212672142435\n",
      "18.20233090777019\n",
      "20.585053181706645\n",
      "21.787074261281074\n",
      "22.596925405023335\n",
      "24.427971031013556\n",
      "25.390585668323368\n",
      "28.465641403375948\n",
      "27.63274162731527\n",
      "30.020271648046123\n",
      "33.41007968755648\n",
      "36.124078387620735\n",
      "35.89271081442994\n"
     ]
    },
    {
     "name": "stderr",
     "output_type": "stream",
     "text": [
      "C:\\Users\\ASUS\\anaconda3\\lib\\site-packages\\ipykernel_launcher.py:5: RuntimeWarning: overflow encountered in exp\n",
      "  \"\"\"\n"
     ]
    },
    {
     "name": "stdout",
     "output_type": "stream",
     "text": [
      "41.75867724100831\n",
      "42.2250751170989\n",
      "42.90604062712375\n",
      "47.524294401254075\n",
      "51.423883335320376\n",
      "54.10847812682187\n",
      "57.430795615472675\n",
      "63.16383217321423\n",
      "68.41277964236775\n",
      "67.05725795160834\n",
      "77.22936642543841\n",
      "76.27521104695248\n",
      "87.21020115748539\n",
      "93.1825244568102\n",
      "97.44589605751472\n",
      "103.81131260621478\n",
      "113.05385517868474\n",
      "118.7137634129622\n",
      "130.89627652395635\n",
      "135.143039692307\n",
      "145.97479255976455\n",
      "162.7647202649382\n",
      "163.4203954343993\n",
      "164.27026420670148\n",
      "185.34359661225352\n",
      "195.9992984253547\n",
      "203.60013737583475\n",
      "244.28750741978138\n",
      "247.59645244889245\n",
      "252.31757818887993\n",
      "264.60024966504085\n",
      "282.61453225077565\n",
      "311.08103521922044\n",
      "339.2814256420694\n",
      "361.642570928692\n",
      "375.8434615877609\n",
      "394.22676099398575\n",
      "417.1123401864368\n",
      "465.39826701567404\n",
      "486.4151521066657\n",
      "529.4982126434761\n",
      "504.9154571996952\n",
      "602.3873479675794\n",
      "608.9352679690976\n",
      "650.1736075743739\n",
      "736.3719619989515\n",
      "744.5365882075869\n",
      "830.2869296933128\n",
      "895.2829171009666\n",
      "904.6018542663551\n",
      "990.9057737931445\n",
      "1027.1699246614335\n",
      "1124.3554597680059\n",
      "1207.8082038192838\n",
      "1220.9767194916164\n",
      "1327.9506110747252\n",
      "1427.461032658021\n",
      "1528.0721481711873\n",
      "1707.5287564787316\n",
      "1774.1289969818567\n",
      "1780.8476054690445\n",
      "1936.250846393563\n",
      "2270.756200375512\n",
      "2347.358786153059\n",
      "2340.6506272186516\n",
      "2688.295108876415\n",
      "2712.6042981084865\n",
      "2977.8290525332523\n",
      "3327.6215205175904\n",
      "3460.50063693388\n",
      "3531.4667464470876\n",
      "3971.3553214199956\n",
      "4060.0710193437835\n",
      "4137.229046956231\n",
      "4810.441040821627\n",
      "4893.940829752641\n",
      "5605.179348423076\n",
      "6109.587053062163\n",
      "6133.649632311717\n",
      "6676.815040253533\n",
      "6837.055620911899\n",
      "7670.671075337328\n",
      "8099.383121330113\n",
      "8490.820617323896\n",
      "9085.981214893167\n",
      "9661.96784818765\n",
      "10037.730676085057\n",
      "10850.83921619484\n",
      "11201.443028485915\n",
      "12170.240609432536\n",
      "13979.60840163183\n",
      "14600.518075808552\n",
      "14508.805042755597\n",
      "16016.156465767803\n",
      "17529.265287227692\n",
      "17585.505482595167\n",
      "18703.46056080392\n",
      "21510.825346129433\n",
      "21238.790928181264\n",
      "23848.977471217986\n",
      "25160.06266123311\n",
      "27128.88423531762\n",
      "30073.34635335627\n",
      "32172.85176352884\n",
      "34364.80207513036\n",
      "35847.322819667104\n",
      "38957.87746332696\n",
      "38907.861016195995\n",
      "41291.5835807556\n",
      "44275.12018862199\n",
      "48893.07136199603\n",
      "54100.63784782624\n",
      "55840.433786514346\n",
      "53483.20274349329\n",
      "59562.95082713402\n",
      "67995.55030243615\n",
      "68813.64891207445\n",
      "80223.2175350394\n",
      "80452.53441777309\n",
      "82163.2967251843\n",
      "86601.78551233096\n",
      "94669.66142528488\n",
      "104849.9194289343\n",
      "108074.36331324844\n",
      "115691.48183661523\n",
      "118758.12953048012\n",
      "132000.2967577622\n",
      "143296.60025211572\n",
      "161060.40058771588\n",
      "166574.17383390872\n",
      "166582.34423929543\n",
      "188475.0997355904\n",
      "198123.4165617474\n",
      "227012.64830578622\n",
      "222836.40001810147\n",
      "232300.3948690933\n",
      "239346.4566753214\n",
      "289932.76135700516\n",
      "300246.698666382\n",
      "302347.9079602801\n",
      "322264.15662436537\n",
      "336451.28592890094\n",
      "373094.7388804115\n",
      "420334.0080962194\n",
      "423541.7270020097\n",
      "451986.4114988257\n",
      "463165.60948774446\n",
      "474709.8594647452\n",
      "529626.37647615\n",
      "609132.8142966947\n",
      "626368.4826724088\n",
      "690180.6278154919\n",
      "732606.2703642427\n",
      "751471.4185295624\n",
      "797632.4545741011\n",
      "887814.2383072941\n",
      "917523.3319013264\n",
      "983546.5065872051\n",
      "1050318.135220976\n",
      "1121574.8716959802\n",
      "1186014.4376768544\n",
      "1292216.6766493677\n",
      "1410621.409443332\n",
      "1428270.0758272996\n",
      "1497048.7265244043\n",
      "1648508.7764680318\n",
      "1728934.1929455164\n",
      "1758616.6998883076\n",
      "2007134.8319061238\n",
      "2305396.9515479826\n",
      "2360059.575339532\n",
      "2331160.802031087\n",
      "2662942.006480182\n",
      "2799231.048997637\n",
      "2889821.137597271\n",
      "3376444.399100127\n",
      "3624432.2888959823\n",
      "3534429.993337536\n",
      "3800552.1117214025\n",
      "4214861.853025716\n",
      "4382602.338506255\n",
      "4599544.406827205\n",
      "5112807.986551594\n",
      "5158516.495704274\n",
      "6204745.524371936\n",
      "6214241.629121954\n",
      "6381339.364120392\n",
      "6792084.671940963\n",
      "7174943.301030545\n",
      "7453595.328541285\n",
      "7826238.742495825\n",
      "9623473.55861694\n",
      "10124559.161148915\n",
      "9839045.320712026\n",
      "10574116.403549837\n",
      "11231838.052538892\n",
      "11842822.886531781\n",
      "14139714.30536352\n",
      "14432171.65860766\n",
      "14885166.840369826\n",
      "14960239.196638076\n",
      "16151534.910403142\n",
      "19371665.41813796\n",
      "21249069.133263353\n",
      "19618075.359084956\n",
      "21110767.810864393\n",
      "23240239.264109924\n",
      "26074713.677869983\n",
      "25450124.362486593\n",
      "25301711.408806257\n",
      "31049490.18717235\n",
      "31462434.871061135\n",
      "33946056.257448696\n",
      "34787743.92169628\n",
      "39052569.882665955\n",
      "38229491.56510822\n",
      "43719007.00977552\n",
      "46972956.96113314\n",
      "51083497.96023537\n",
      "52915079.948831014\n",
      "58219349.663664944\n",
      "57811210.07617782\n",
      "62344191.17544731\n",
      "74374906.4404088\n",
      "79584708.63324188\n",
      "76976302.96133795\n",
      "89688497.65842547\n",
      "89431453.99030651\n",
      "104332604.26704383\n",
      "102879706.63436945\n",
      "109660717.0164071\n",
      "120353010.22789252\n",
      "123102636.03897919\n",
      "139577228.32529187\n",
      "152064625.8581846\n",
      "155223294.38296464\n",
      "163975963.95845538\n",
      "176958594.14248446\n",
      "180961216.4483605\n",
      "191677409.8950947\n",
      "203487292.22745848\n",
      "221781275.732477\n",
      "235921852.54355788\n",
      "280653521.31050515\n",
      "274695917.49353474\n",
      "295157327.51924205\n",
      "302287855.6834963\n",
      "341554676.74122953\n",
      "355407320.52810717\n",
      "381845057.93751764\n",
      "413409077.9841879\n",
      "425264469.0386573\n",
      "452649960.6431003\n",
      "489430901.8508923\n",
      "518969967.85838985\n",
      "544541769.555646\n",
      "598480850.488082\n",
      "612318873.9310284\n",
      "677113598.701383\n",
      "733818521.0585351\n",
      "772178183.1466866\n",
      "845066779.6157587\n",
      "832983624.5411193\n",
      "908407062.3072662\n",
      "993618734.2510242\n",
      "1071127331.6643819\n",
      "1146223454.311699\n",
      "1327539282.3616483\n",
      "1195741402.0703332\n",
      "1379796801.501296\n",
      "1342416672.4104826\n",
      "1531228680.0556335\n",
      "1628114966.931979\n",
      "1609361982.7610903\n",
      "1850603617.7467427\n",
      "2119295974.3812969\n",
      "2073956811.2037718\n",
      "2345527946.609232\n",
      "2482377159.592153\n",
      "2648425479.2448425\n",
      "2901880329.7488217\n",
      "3109684728.3161926\n",
      "3062531818.7832513\n",
      "3371559378.997199\n",
      "3703317247.395932\n",
      "3613566725.8624387\n",
      "4198332710.6650124\n",
      "4145860844.98145\n",
      "4691484376.98662\n",
      "5177304680.057725\n",
      "5309912791.417903\n",
      "5751206953.503615\n",
      "5942809778.604253\n",
      "6616643168.521908\n",
      "6940016550.760837\n",
      "7819731267.145909\n",
      "7447774509.960266\n",
      "8182981896.130853\n",
      "9227041926.777504\n",
      "10077242758.559296\n",
      "10545984275.428282\n",
      "11249681614.775272\n",
      "11540195746.918299\n",
      "12154806632.199522\n",
      "13850615538.282381\n",
      "14088741728.531029\n",
      "15265397878.394285\n",
      "16056226133.473373\n",
      "17409968926.753376\n",
      "18482491520.945312\n",
      "20274572257.02768\n",
      "20739674851.413944\n",
      "23139795699.49027\n",
      "25959804286.02176\n",
      "26197215447.241\n",
      "27197372720.370735\n",
      "28714828564.03124\n",
      "31838168554.058178\n",
      "34760707886.26269\n",
      "34243582133.323044\n",
      "38487977016.231514\n",
      "41892251831.896194\n",
      "42582966444.942245\n",
      "42316724862.287\n",
      "47613699655.72883\n",
      "52932486674.60361\n",
      "51157389449.02209\n",
      "60093080445.6019\n",
      "63107826690.72683\n",
      "65155831522.37954\n",
      "72320848623.10017\n",
      "78336431633.5957\n",
      "76521954629.76353\n",
      "85559765863.9235\n",
      "97298075780.08289\n",
      "95029748442.67448\n",
      "107772863526.7157\n",
      "105676356034.23071\n",
      "116721414090.46141\n",
      "118422173007.50203\n",
      "128023964878.97107\n",
      "143726251228.53055\n",
      "150433956183.51407\n",
      "151466609866.84406\n",
      "179540471289.82587\n",
      "170570672281.902\n",
      "199643088447.28268\n",
      "219444603551.31122\n",
      "239449694071.08868\n",
      "238033299783.22437\n",
      "249100350118.55798\n",
      "286316731869.66315\n",
      "286389602973.1147\n",
      "293225756531.29596\n",
      "347820939772.87335\n",
      "363447067409.4806\n",
      "387960879040.09735\n",
      "396320752631.9709\n",
      "425254173676.32263\n",
      "448563780252.06036\n",
      "495887295450.52203\n",
      "544183489630.5109\n",
      "522345838295.71515\n",
      "549428455234.45154\n",
      "611051673008.7742\n",
      "679566599690.3724\n",
      "707850033032.3125\n",
      "729737623177.7993\n",
      "818766670458.0521\n",
      "874140452228.4393\n",
      "951651181408.2568\n",
      "1029574230304.175\n",
      "1057145057892.4528\n",
      "1167504301044.422\n",
      "1212770768865.974\n",
      "1302848725749.5923\n",
      "1361918219087.6074\n",
      "1479578369431.5962\n",
      "1509501328472.075\n",
      "1724710600011.46\n",
      "1912114176491.3186\n",
      "1921605141338.5674\n",
      "2138934640924.063\n",
      "2193042465916.7107\n"
     ]
    }
   ],
   "source": [
    "model3 = BPR(user_item_csr, implicit_ratings, 64, max(np.unique(ratings['user_id'])) + 1, max(np.unique(ratings['movie_id'])) + 1, 1)\n",
    "model3.fit(500)"
   ]
  },
  {
   "cell_type": "code",
   "execution_count": 38,
   "metadata": {},
   "outputs": [
    {
     "name": "stderr",
     "output_type": "stream",
     "text": [
      "C:\\Users\\ASUS\\anaconda3\\lib\\site-packages\\ipykernel_launcher.py:5: RuntimeWarning: overflow encountered in exp\n",
      "  \"\"\"\n"
     ]
    },
    {
     "name": "stdout",
     "output_type": "stream",
     "text": [
      "2334445334118.527\n",
      "2521754459858.701\n",
      "2833664462523.7466\n",
      "2688193313539.568\n",
      "2912714221570.138\n",
      "3148779055133.677\n",
      "3535411322427.869\n",
      "3629984913735.8467\n",
      "3955388816724.9014\n",
      "4102956058614.396\n",
      "4529926765816.821\n",
      "4462990169968.186\n",
      "5053022788251.837\n",
      "5275781832735.949\n",
      "5584060201836.762\n",
      "6453924826088.626\n",
      "6359593506642.1875\n",
      "6801367799248.79\n",
      "7561965215271.36\n",
      "7690510204165.683\n",
      "8294547596649.635\n",
      "8593485689953.395\n",
      "9287898151031.68\n",
      "10670682439762.264\n",
      "10344699895813.547\n",
      "11790791143640.785\n",
      "12369966195369.008\n",
      "12697074152446.55\n",
      "14325203335634.453\n",
      "14227715315406.291\n",
      "15337496408579.406\n",
      "17485406143392.842\n",
      "18965438055989.152\n",
      "18835817474294.273\n",
      "21792807277432.215\n",
      "21578299055706.48\n",
      "22083952244346.2\n",
      "24705174240016.49\n",
      "24477818648747.09\n",
      "27112303147443.375\n",
      "31122661995643.54\n",
      "33950552254127.36\n",
      "34128482703431.36\n",
      "40036479660146.86\n",
      "39757579598935.71\n",
      "42149489889806.53\n",
      "45032193035687.87\n",
      "45750307285558.586\n",
      "50834668920343.84\n",
      "54021766810447.35\n",
      "58257395993534.49\n",
      "63239648787464.92\n",
      "69309522663188.63\n",
      "70672153834599.95\n",
      "76617018141339.38\n",
      "78319680139546.36\n",
      "80205899478639.73\n",
      "93105886784846.1\n",
      "100655836445632.81\n",
      "97989634457640.4\n",
      "110661813886352.44\n",
      "111518658247483.08\n",
      "118345129058366.11\n",
      "137972127038387.05\n",
      "140874389830820.16\n",
      "140770480446445.97\n",
      "159679757419977.62\n",
      "185589883420321.7\n",
      "192262984459048.84\n",
      "197769260839579.78\n",
      "200781817311445.03\n",
      "205916338518673.72\n",
      "241627326506904.8\n",
      "251997914314495.84\n",
      "258947886165454.16\n",
      "307706013195870.25\n",
      "315218991327346.0\n",
      "329184877714119.3\n",
      "366825623461525.75\n",
      "364938054025683.7\n",
      "380267872358301.6\n",
      "433540295989169.06\n",
      "417402483279675.1\n",
      "480515876416374.56\n",
      "502509453298383.94\n",
      "531995671877117.9\n",
      "573983562253262.6\n",
      "602185371994573.8\n",
      "652737982925032.1\n",
      "724605546693138.9\n",
      "761434594814164.1\n",
      "867457534146879.8\n",
      "838565792589283.5\n",
      "975372896397767.6\n",
      "1016897426456940.5\n",
      "992337056851741.4\n",
      "1072379094423784.2\n",
      "1130009784912512.0\n",
      "1186671103940634.0\n",
      "1319478710532262.5\n"
     ]
    }
   ],
   "source": [
    "model3.fit(100)"
   ]
  },
  {
   "cell_type": "code",
   "execution_count": 39,
   "metadata": {
    "scrolled": false
   },
   "outputs": [
    {
     "name": "stdout",
     "output_type": "stream",
     "text": [
      "User films\n",
      "\n",
      "3399    Hustler, The (1961)\n",
      "2882    Fistful of Dollars, A (1964)\n",
      "1196    Alien (1979)\n",
      "1023    Die Hard (1988)\n",
      "257    Star Wars: Episode IV - A New Hope (1977)\n",
      "1959    Saving Private Ryan (1998)\n",
      "476    Jurassic Park (1993)\n",
      "1180    Raiders of the Lost Ark (1981)\n",
      "1885    Rocky (1976)\n",
      "1081    E.T. the Extra-Terrestrial (1982)\n",
      "\n",
      "Recomendation\n",
      "\n",
      "['American Beauty (1999)' 'Comedy|Drama']\n",
      "['Star Wars: Episode IV - A New Hope (1977)'\n",
      " 'Action|Adventure|Fantasy|Sci-Fi']\n",
      "['Saving Private Ryan (1998)' 'Action|Drama|War']\n",
      "['Star Wars: Episode V - The Empire Strikes Back (1980)'\n",
      " 'Action|Adventure|Drama|Sci-Fi|War']\n",
      "['Star Wars: Episode VI - Return of the Jedi (1983)'\n",
      " 'Action|Adventure|Romance|Sci-Fi|War']\n",
      "['Sixth Sense, The (1999)' 'Thriller']\n",
      "['Silence of the Lambs, The (1991)' 'Drama|Thriller']\n",
      "['Braveheart (1995)' 'Action|Drama|War']\n",
      "['Being John Malkovich (1999)' 'Comedy']\n",
      "[\"Schindler's List (1993)\" 'Drama|War']\n"
     ]
    }
   ],
   "source": [
    "model3.M = model3.M.T\n",
    "model3.make_recomendation(4)\n",
    "model3.M = model3.M.T"
   ]
  },
  {
   "cell_type": "code",
   "execution_count": 40,
   "metadata": {},
   "outputs": [
    {
     "name": "stdout",
     "output_type": "stream",
     "text": [
      "Film                name                     category\n",
      "0  Toy Story (1995)  Animation|Children's|Comedy\n",
      "[['Toy Story (1995)' \"Animation|Children's|Comedy\"]]\n",
      "[['Deer Hunter, The (1978)' 'Drama|War']]\n",
      "[['Dave (1993)' 'Comedy|Romance']]\n",
      "[['My Fair Lady (1964)' 'Musical|Romance']]\n",
      "[['Vertigo (1958)' 'Mystery|Thriller']]\n",
      "[['Some Like It Hot (1959)' 'Comedy|Crime']]\n",
      "[['Close Shave, A (1995)' 'Animation|Comedy|Thriller']]\n",
      "[['Apollo 13 (1995)' 'Drama']]\n",
      "[['Blazing Saddles (1974)' 'Comedy|Western']]\n",
      "[['Fish Called Wanda, A (1988)' 'Comedy']]\n"
     ]
    }
   ],
   "source": [
    "model3.M = model3.M.T\n",
    "model3.find_similar2(1)\n",
    "model3.M = model3.M.T"
   ]
  },
  {
   "cell_type": "code",
   "execution_count": 41,
   "metadata": {},
   "outputs": [
    {
     "name": "stdout",
     "output_type": "stream",
     "text": [
      "Film                name                   category\n",
      "9  GoldenEye (1995)  Action|Adventure|Thriller\n",
      "[['GoldenEye (1995)' 'Action|Adventure|Thriller']]\n",
      "[['Analyze This (1999)' 'Comedy']]\n",
      "[['Airport 1975 (1974)' 'Drama']]\n",
      "[['Addiction, The (1995)' 'Horror']]\n",
      "[['Bulworth (1998)' 'Comedy']]\n",
      "[['Wild Things (1998)' 'Crime|Drama|Mystery|Thriller']]\n",
      "[['Bridges of Madison County, The (1995)' 'Drama|Romance']]\n",
      "[['Rules of Engagement (2000)' 'Drama|Thriller']]\n",
      "[['Clueless (1995)' 'Comedy|Romance']]\n",
      "[['Beautician and the Beast, The (1997)' 'Comedy|Romance']]\n"
     ]
    }
   ],
   "source": [
    "model3.M = model3.M.T\n",
    "model3.find_similar2(10)\n",
    "model3.M = model3.M.T"
   ]
  },
  {
   "cell_type": "code",
   "execution_count": null,
   "metadata": {
    "scrolled": false
   },
   "outputs": [],
   "source": []
  },
  {
   "cell_type": "markdown",
   "metadata": {
    "id": "JKO9lc9NuSNQ"
   },
   "source": [
    "### Задание 4. Не использую готовые решения, реализовать матричное разложение WARP на implicit данных"
   ]
  },
  {
   "cell_type": "code",
   "execution_count": null,
   "metadata": {
    "id": "TvUgcm0FuSNQ"
   },
   "outputs": [],
   "source": []
  }
 ],
 "metadata": {
  "accelerator": "GPU",
  "colab": {
   "collapsed_sections": [],
   "name": "Rec.ipynb",
   "provenance": []
  },
  "kernelspec": {
   "display_name": "Python 3",
   "language": "python",
   "name": "python3"
  },
  "language_info": {
   "codemirror_mode": {
    "name": "ipython",
    "version": 3
   },
   "file_extension": ".py",
   "mimetype": "text/x-python",
   "name": "python",
   "nbconvert_exporter": "python",
   "pygments_lexer": "ipython3",
   "version": "3.7.6"
  }
 },
 "nbformat": 4,
 "nbformat_minor": 1
}
