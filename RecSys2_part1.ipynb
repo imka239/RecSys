{
 "cells": [
  {
   "cell_type": "code",
   "execution_count": 1,
   "metadata": {
    "colab": {
     "base_uri": "https://localhost:8080/"
    },
    "id": "5iU_ZZRgRRKQ",
    "outputId": "1ca66462-56de-4acd-ca64-bc427b75807a"
   },
   "outputs": [],
   "source": [
    "#from google.colab import drive\n",
    "#import os\n",
    "\n",
    "#drive.mount('/content/drive')"
   ]
  },
  {
   "cell_type": "code",
   "execution_count": 2,
   "metadata": {
    "colab": {
     "base_uri": "https://localhost:8080/"
    },
    "id": "TKgu8xBzYEfU",
    "outputId": "f284b03f-8493-4da0-a69c-2f806c938b77"
   },
   "outputs": [],
   "source": [
    "#cd drive/MyDrive"
   ]
  },
  {
   "cell_type": "code",
   "execution_count": 3,
   "metadata": {
    "id": "QCsE1aRyXJIX"
   },
   "outputs": [],
   "source": [
    "import pandas as pd\n",
    "import numpy as np\n",
    "from numpy import nan"
   ]
  },
  {
   "cell_type": "code",
   "execution_count": null,
   "metadata": {
    "id": "ISZ89mNkXOvB"
   },
   "outputs": [],
   "source": [
    "members = pd.read_csv('members.csv')\n",
    "songs = pd.read_csv('songs.csv')\n",
    "train = pd.read_csv('train.csv')\n",
    "test = pd.read_csv('test.csv')\n",
    "songs_extra = pd.read_csv('song_extra_info.csv')\n",
    "sample = pd.read_csv('sample_submission.csv')"
   ]
  },
  {
   "cell_type": "markdown",
   "metadata": {
    "id": "nz1ZDaI2pTzm"
   },
   "source": [
    "Первым делом кастанем все в нормальное время"
   ]
  },
  {
   "cell_type": "code",
   "execution_count": null,
   "metadata": {
    "id": "4diziVpCkHqL"
   },
   "outputs": [],
   "source": [
    "import datetime, time\n",
    "\n",
    "def to_time(elem):\n",
    "  elem = str(elem)\n",
    "  t = datetime.datetime(int(elem[:4]), int(elem[4:6]), int(elem[6:]))\n",
    "  return t.year * 365 + t.month * 30 + t.day"
   ]
  },
  {
   "cell_type": "code",
   "execution_count": null,
   "metadata": {
    "id": "Pl-TUroxYpeV"
   },
   "outputs": [],
   "source": [
    "members['registration_init_time'] = members['registration_init_time'].map(lambda elem : to_time(elem))\n",
    "members['expiration_date'] = members['expiration_date'].map(lambda elem : to_time(elem))\n",
    "members.head()"
   ]
  },
  {
   "cell_type": "code",
   "execution_count": null,
   "metadata": {
    "id": "nOfgfudTkEnx"
   },
   "outputs": [],
   "source": [
    "def nan(df):\n",
    "  for col in df.columns:\n",
    "    print(df[col].isna().sum()) \n",
    "nan(songs)\n",
    "songs.head()"
   ]
  },
  {
   "cell_type": "code",
   "execution_count": null,
   "metadata": {
    "id": "vvrxmZjECO_D"
   },
   "outputs": [],
   "source": [
    "members['gender'] = members['gender'].fillna('Ungender')\n",
    "members.head()"
   ]
  },
  {
   "cell_type": "code",
   "execution_count": null,
   "metadata": {},
   "outputs": [],
   "source": [
    "songs = pd.read_csv('songs.csv')\n",
    "songs['genre_ids'] = songs['genre_ids'].fillna(0)\n",
    "songs['composer'] = songs['composer'].fillna('Unknown')\n",
    "songs['lyricist'] = songs['lyricist'].fillna('Unknown')\n",
    "songs['language'] = songs['language'].fillna(0)\n",
    "def genre_dev(genre, ind):\n",
    "    splitted = str(genre).split('|')\n",
    "    if (len(splitted) <= ind):\n",
    "        return 'na'\n",
    "    else:\n",
    "        return splitted[ind]\n",
    "songs['g1'] = songs['genre_ids'].map(lambda g: genre_dev(g, 0))\n",
    "songs['g2'] = songs['genre_ids'].map(lambda g: genre_dev(g, 1))\n",
    "songs['g3'] = songs['genre_ids'].map(lambda g: genre_dev(g, 2))\n",
    "songs = songs.drop(['genre_ids'], axis=1)\n"
   ]
  },
  {
   "cell_type": "code",
   "execution_count": null,
   "metadata": {
    "id": "GcFZLStuGVfy"
   },
   "outputs": [],
   "source": [
    "train.head()\n",
    "merged_train = train.merge(members, on='msno').merge(songs, on='song_id')\n",
    "merged_train.dropna(inplace=True)\n",
    "merged_train.reset_index(drop=True, inplace=True)\n",
    "Y = merged_train['target']\n",
    "X = merged_train.drop(['target'], axis=1)"
   ]
  },
  {
   "cell_type": "code",
   "execution_count": null,
   "metadata": {},
   "outputs": [],
   "source": []
  },
  {
   "cell_type": "code",
   "execution_count": null,
   "metadata": {
    "id": "_XXGVfwwGs4y"
   },
   "outputs": [],
   "source": [
    "#from category_encoders import TargetEncoder\n",
    "#X_encoded = X.copy()\n",
    "#for col in ['msno', 'song_id', 'source_system_tab', 'source_screen_name', 'source_type', 'city', 'bd', 'gender', 'registered_via', 'g1', 'g2', 'g3', 'artist_name', 'composer', 'lyricist', 'language']:\n",
    "#  encoder = TargetEncoder()\n",
    "#  X_encoded[col] = encoder.fit_transform(X_encoded[col].astype('category'), Y)\n",
    "#X_encoded.head()\n",
    "X"
   ]
  },
  {
   "cell_type": "code",
   "execution_count": null,
   "metadata": {
    "id": "2FLdKciERusH"
   },
   "outputs": [],
   "source": [
    "from catboost import CatBoostRegressor, Pool, cv\n",
    "from sklearn.model_selection import cross_val_score, cross_validate\n",
    "\n",
    "paramparam = ['msno', 'song_id', 'source_system_tab', 'source_screen_name', 'source_type', 'city', 'bd', 'gender', 'registered_via', 'artist_name', 'composer', 'lyricist','g1', 'g2', 'g3']\n",
    "\n",
    "cv_dataset = Pool(data=X,\n",
    "                  label=Y,\n",
    "                  cat_features = paramparam)\n",
    "\n",
    "model = CatBoostRegressor(task_type='CPU', loss_function='RMSE', iterations=100)\n",
    "model.fit(cv_dataset)\n",
    "#model = CatBoostClassifier(iterations=1000, learning_rate=1e-5, depth=4, cat_features = [\"msno\", \"song_id\", \"source_system_tab\", \"source_screen_name\", \"source_type\", \"gender\"])\n",
    "#model.fit(X, Y)\n",
    "\n",
    "params = {\"iterations\": 100,\n",
    "          \"depth\": 2,\n",
    "          \"loss_function\": \"RMSE\",\n",
    "          \"verbose\": False,\n",
    "          \"custom_metric\": 'AUC'}\n",
    "\n",
    "\n",
    "scores = cv(cv_dataset,\n",
    "            params,\n",
    "            fold_count=4,\n",
    "            shuffle=True, \n",
    "            plot=True)\n",
    "\n",
    "scores"
   ]
  },
  {
   "cell_type": "code",
   "execution_count": null,
   "metadata": {
    "id": "aoXEcirxUrFD"
   },
   "outputs": [],
   "source": [
    "scores.iloc[-1]['test-AUC-mean']"
   ]
  },
  {
   "cell_type": "code",
   "execution_count": null,
   "metadata": {},
   "outputs": [],
   "source": []
  },
  {
   "cell_type": "code",
   "execution_count": null,
   "metadata": {},
   "outputs": [],
   "source": [
    "X"
   ]
  },
  {
   "cell_type": "code",
   "execution_count": null,
   "metadata": {},
   "outputs": [],
   "source": []
  }
 ],
 "metadata": {
  "accelerator": "GPU",
  "colab": {
   "name": "RecSys2.ipynb",
   "provenance": []
  },
  "kernelspec": {
   "display_name": "Python 3",
   "language": "python",
   "name": "python3"
  },
  "language_info": {
   "codemirror_mode": {
    "name": "ipython",
    "version": 3
   },
   "file_extension": ".py",
   "mimetype": "text/x-python",
   "name": "python",
   "nbconvert_exporter": "python",
   "pygments_lexer": "ipython3",
   "version": "3.7.0"
  }
 },
 "nbformat": 4,
 "nbformat_minor": 1
}
