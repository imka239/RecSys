{
 "cells": [
  {
   "cell_type": "markdown",
   "metadata": {
    "id": "vwb3uQUnuSMg"
   },
   "source": [
    "### Матричные факторизации"
   ]
  },
  {
   "cell_type": "code",
   "execution_count": 1,
   "metadata": {
    "colab": {
     "base_uri": "https://localhost:8080/"
    },
    "id": "6vBXBHckuSMl",
    "outputId": "6eec6114-1600-442f-fc2c-99ca5fe0b0eb"
   },
   "outputs": [
    {
     "name": "stdout",
     "output_type": "stream",
     "text": [
      "\n",
      "Note: you may need to restart the kernel to use updated packages.\n"
     ]
    },
    {
     "name": "stderr",
     "output_type": "stream",
     "text": [
      "ЌҐ г¤ Ґвбп ­ ©вЁ гЄ § ­­л© д ©«.\n"
     ]
    }
   ],
   "source": []
  },
  {
   "cell_type": "markdown",
   "metadata": {
    "id": "NFWgFw5OuSMm"
   },
   "source": [
    "В данной работе вам предстоит познакомиться с практической стороной матричных разложений.\n",
    "Работа поделена на 4 задания:\n",
    "1. Вам необходимо реализовать SVD разложения используя SGD на explicit данных\n",
    "2. Вам необходимо реализовать матричное разложения используя ALS на implicit данных\n",
    "3. Вам необходимо реализовать матричное разложения используя BPR(pair-wise loss) на implicit данных\n",
    "4. Вам необходимо реализовать матричное разложения используя WARP(list-wise loss) на implicit данных\n"
   ]
  },
  {
   "cell_type": "code",
   "execution_count": 2,
   "metadata": {
    "colab": {
     "base_uri": "https://localhost:8080/",
     "height": 381
    },
    "id": "cP4dc6IhuSMo",
    "outputId": "2ea34361-9540-47bc-95c4-a4bb39894cd2"
   },
   "outputs": [
    {
     "name": "stderr",
     "output_type": "stream",
     "text": [
      "C:\\Users\\ASUS\\anaconda3\\lib\\site-packages\\lightfm\\_lightfm_fast.py:10: UserWarning: LightFM was compiled without OpenMP support. Only a single thread will be used.\n",
      "  \"LightFM was compiled without OpenMP support. \"\n"
     ]
    }
   ],
   "source": [
    "\n",
    "import implicit\n",
    "import pandas as pd\n",
    "import numpy as np\n",
    "import scipy.sparse as sp\n",
    "\n",
    "from lightfm.datasets import fetch_movielens"
   ]
  },
  {
   "cell_type": "markdown",
   "metadata": {
    "id": "eFhlgsQ8uSMp"
   },
   "source": [
    "В данной работе мы будем работать с explicit датасетом movieLens, в котором представленны пары user_id movie_id и rating выставленный пользователем фильму\n",
    "\n",
    "Скачать датасет можно по ссылке https://grouplens.org/datasets/movielens/1m/"
   ]
  },
  {
   "cell_type": "code",
   "execution_count": 3,
   "metadata": {
    "colab": {
     "base_uri": "https://localhost:8080/",
     "height": 221
    },
    "id": "0aDnNnsQuSMq",
    "outputId": "cb4546f3-46b8-42eb-f94a-0a9a9146061f"
   },
   "outputs": [
    {
     "data": {
      "text/html": [
       "<div>\n",
       "<style scoped>\n",
       "    .dataframe tbody tr th:only-of-type {\n",
       "        vertical-align: middle;\n",
       "    }\n",
       "\n",
       "    .dataframe tbody tr th {\n",
       "        vertical-align: top;\n",
       "    }\n",
       "\n",
       "    .dataframe thead th {\n",
       "        text-align: right;\n",
       "    }\n",
       "</style>\n",
       "<table border=\"1\" class=\"dataframe\">\n",
       "  <thead>\n",
       "    <tr style=\"text-align: right;\">\n",
       "      <th></th>\n",
       "      <th>user_id</th>\n",
       "      <th>movie_id</th>\n",
       "      <th>rating</th>\n",
       "    </tr>\n",
       "  </thead>\n",
       "  <tbody>\n",
       "    <tr>\n",
       "      <th>0</th>\n",
       "      <td>1</td>\n",
       "      <td>1193</td>\n",
       "      <td>5</td>\n",
       "    </tr>\n",
       "    <tr>\n",
       "      <th>1</th>\n",
       "      <td>1</td>\n",
       "      <td>661</td>\n",
       "      <td>3</td>\n",
       "    </tr>\n",
       "    <tr>\n",
       "      <th>2</th>\n",
       "      <td>1</td>\n",
       "      <td>914</td>\n",
       "      <td>3</td>\n",
       "    </tr>\n",
       "    <tr>\n",
       "      <th>3</th>\n",
       "      <td>1</td>\n",
       "      <td>3408</td>\n",
       "      <td>4</td>\n",
       "    </tr>\n",
       "    <tr>\n",
       "      <th>4</th>\n",
       "      <td>1</td>\n",
       "      <td>2355</td>\n",
       "      <td>5</td>\n",
       "    </tr>\n",
       "    <tr>\n",
       "      <th>...</th>\n",
       "      <td>...</td>\n",
       "      <td>...</td>\n",
       "      <td>...</td>\n",
       "    </tr>\n",
       "    <tr>\n",
       "      <th>1000204</th>\n",
       "      <td>6040</td>\n",
       "      <td>1091</td>\n",
       "      <td>1</td>\n",
       "    </tr>\n",
       "    <tr>\n",
       "      <th>1000205</th>\n",
       "      <td>6040</td>\n",
       "      <td>1094</td>\n",
       "      <td>5</td>\n",
       "    </tr>\n",
       "    <tr>\n",
       "      <th>1000206</th>\n",
       "      <td>6040</td>\n",
       "      <td>562</td>\n",
       "      <td>5</td>\n",
       "    </tr>\n",
       "    <tr>\n",
       "      <th>1000207</th>\n",
       "      <td>6040</td>\n",
       "      <td>1096</td>\n",
       "      <td>4</td>\n",
       "    </tr>\n",
       "    <tr>\n",
       "      <th>1000208</th>\n",
       "      <td>6040</td>\n",
       "      <td>1097</td>\n",
       "      <td>4</td>\n",
       "    </tr>\n",
       "  </tbody>\n",
       "</table>\n",
       "<p>1000209 rows × 3 columns</p>\n",
       "</div>"
      ],
      "text/plain": [
       "         user_id  movie_id  rating\n",
       "0              1      1193       5\n",
       "1              1       661       3\n",
       "2              1       914       3\n",
       "3              1      3408       4\n",
       "4              1      2355       5\n",
       "...          ...       ...     ...\n",
       "1000204     6040      1091       1\n",
       "1000205     6040      1094       5\n",
       "1000206     6040       562       5\n",
       "1000207     6040      1096       4\n",
       "1000208     6040      1097       4\n",
       "\n",
       "[1000209 rows x 3 columns]"
      ]
     },
     "execution_count": 3,
     "metadata": {},
     "output_type": "execute_result"
    }
   ],
   "source": [
    "ratings = pd.read_csv('ratings.dat', delimiter='::', header=None, \n",
    "        names=['user_id', 'movie_id', 'rating', 'timestamp'], \n",
    "        usecols=['user_id', 'movie_id', 'rating'], engine='python')\n",
    "ratings"
   ]
  },
  {
   "cell_type": "code",
   "execution_count": 4,
   "metadata": {
    "id": "AxlkI6gYuSMr"
   },
   "outputs": [],
   "source": [
    "movie_info = pd.read_csv('movies.dat', delimiter='::', header=None, \n",
    "        names=['movie_id', 'name', 'category'], engine='python')"
   ]
  },
  {
   "cell_type": "markdown",
   "metadata": {
    "id": "QFeD-DwHuSMr"
   },
   "source": [
    "Explicit данные"
   ]
  },
  {
   "cell_type": "code",
   "execution_count": 5,
   "metadata": {
    "id": "P3P-T0B-uSMs"
   },
   "outputs": [
    {
     "data": {
      "text/html": [
       "<div>\n",
       "<style scoped>\n",
       "    .dataframe tbody tr th:only-of-type {\n",
       "        vertical-align: middle;\n",
       "    }\n",
       "\n",
       "    .dataframe tbody tr th {\n",
       "        vertical-align: top;\n",
       "    }\n",
       "\n",
       "    .dataframe thead th {\n",
       "        text-align: right;\n",
       "    }\n",
       "</style>\n",
       "<table border=\"1\" class=\"dataframe\">\n",
       "  <thead>\n",
       "    <tr style=\"text-align: right;\">\n",
       "      <th></th>\n",
       "      <th>user_id</th>\n",
       "      <th>movie_id</th>\n",
       "      <th>rating</th>\n",
       "    </tr>\n",
       "  </thead>\n",
       "  <tbody>\n",
       "    <tr>\n",
       "      <th>0</th>\n",
       "      <td>1</td>\n",
       "      <td>1193</td>\n",
       "      <td>5</td>\n",
       "    </tr>\n",
       "    <tr>\n",
       "      <th>1</th>\n",
       "      <td>1</td>\n",
       "      <td>661</td>\n",
       "      <td>3</td>\n",
       "    </tr>\n",
       "    <tr>\n",
       "      <th>2</th>\n",
       "      <td>1</td>\n",
       "      <td>914</td>\n",
       "      <td>3</td>\n",
       "    </tr>\n",
       "    <tr>\n",
       "      <th>3</th>\n",
       "      <td>1</td>\n",
       "      <td>3408</td>\n",
       "      <td>4</td>\n",
       "    </tr>\n",
       "    <tr>\n",
       "      <th>4</th>\n",
       "      <td>1</td>\n",
       "      <td>2355</td>\n",
       "      <td>5</td>\n",
       "    </tr>\n",
       "    <tr>\n",
       "      <th>5</th>\n",
       "      <td>1</td>\n",
       "      <td>1197</td>\n",
       "      <td>3</td>\n",
       "    </tr>\n",
       "    <tr>\n",
       "      <th>6</th>\n",
       "      <td>1</td>\n",
       "      <td>1287</td>\n",
       "      <td>5</td>\n",
       "    </tr>\n",
       "    <tr>\n",
       "      <th>7</th>\n",
       "      <td>1</td>\n",
       "      <td>2804</td>\n",
       "      <td>5</td>\n",
       "    </tr>\n",
       "    <tr>\n",
       "      <th>8</th>\n",
       "      <td>1</td>\n",
       "      <td>594</td>\n",
       "      <td>4</td>\n",
       "    </tr>\n",
       "    <tr>\n",
       "      <th>9</th>\n",
       "      <td>1</td>\n",
       "      <td>919</td>\n",
       "      <td>4</td>\n",
       "    </tr>\n",
       "  </tbody>\n",
       "</table>\n",
       "</div>"
      ],
      "text/plain": [
       "   user_id  movie_id  rating\n",
       "0        1      1193       5\n",
       "1        1       661       3\n",
       "2        1       914       3\n",
       "3        1      3408       4\n",
       "4        1      2355       5\n",
       "5        1      1197       3\n",
       "6        1      1287       5\n",
       "7        1      2804       5\n",
       "8        1       594       4\n",
       "9        1       919       4"
      ]
     },
     "execution_count": 5,
     "metadata": {},
     "output_type": "execute_result"
    }
   ],
   "source": [
    "ratings.head(10)"
   ]
  },
  {
   "cell_type": "markdown",
   "metadata": {
    "id": "7Fs78gm3uSMt"
   },
   "source": [
    "Для того, чтобы преобразовать текущий датасет в Implicit, давайте считать что позитивная оценка это оценка >=4"
   ]
  },
  {
   "cell_type": "code",
   "execution_count": 6,
   "metadata": {
    "id": "0jmZqLAzuSMt"
   },
   "outputs": [],
   "source": [
    "implicit_ratings = ratings.loc[(ratings['rating'] >= 4)]"
   ]
  },
  {
   "cell_type": "code",
   "execution_count": 7,
   "metadata": {
    "id": "PCiDOfMpuSMu"
   },
   "outputs": [
    {
     "data": {
      "text/html": [
       "<div>\n",
       "<style scoped>\n",
       "    .dataframe tbody tr th:only-of-type {\n",
       "        vertical-align: middle;\n",
       "    }\n",
       "\n",
       "    .dataframe tbody tr th {\n",
       "        vertical-align: top;\n",
       "    }\n",
       "\n",
       "    .dataframe thead th {\n",
       "        text-align: right;\n",
       "    }\n",
       "</style>\n",
       "<table border=\"1\" class=\"dataframe\">\n",
       "  <thead>\n",
       "    <tr style=\"text-align: right;\">\n",
       "      <th></th>\n",
       "      <th>user_id</th>\n",
       "      <th>movie_id</th>\n",
       "      <th>rating</th>\n",
       "    </tr>\n",
       "  </thead>\n",
       "  <tbody>\n",
       "    <tr>\n",
       "      <th>0</th>\n",
       "      <td>1</td>\n",
       "      <td>1193</td>\n",
       "      <td>5</td>\n",
       "    </tr>\n",
       "    <tr>\n",
       "      <th>3</th>\n",
       "      <td>1</td>\n",
       "      <td>3408</td>\n",
       "      <td>4</td>\n",
       "    </tr>\n",
       "    <tr>\n",
       "      <th>4</th>\n",
       "      <td>1</td>\n",
       "      <td>2355</td>\n",
       "      <td>5</td>\n",
       "    </tr>\n",
       "    <tr>\n",
       "      <th>6</th>\n",
       "      <td>1</td>\n",
       "      <td>1287</td>\n",
       "      <td>5</td>\n",
       "    </tr>\n",
       "    <tr>\n",
       "      <th>7</th>\n",
       "      <td>1</td>\n",
       "      <td>2804</td>\n",
       "      <td>5</td>\n",
       "    </tr>\n",
       "    <tr>\n",
       "      <th>8</th>\n",
       "      <td>1</td>\n",
       "      <td>594</td>\n",
       "      <td>4</td>\n",
       "    </tr>\n",
       "    <tr>\n",
       "      <th>9</th>\n",
       "      <td>1</td>\n",
       "      <td>919</td>\n",
       "      <td>4</td>\n",
       "    </tr>\n",
       "    <tr>\n",
       "      <th>10</th>\n",
       "      <td>1</td>\n",
       "      <td>595</td>\n",
       "      <td>5</td>\n",
       "    </tr>\n",
       "    <tr>\n",
       "      <th>11</th>\n",
       "      <td>1</td>\n",
       "      <td>938</td>\n",
       "      <td>4</td>\n",
       "    </tr>\n",
       "    <tr>\n",
       "      <th>12</th>\n",
       "      <td>1</td>\n",
       "      <td>2398</td>\n",
       "      <td>4</td>\n",
       "    </tr>\n",
       "  </tbody>\n",
       "</table>\n",
       "</div>"
      ],
      "text/plain": [
       "    user_id  movie_id  rating\n",
       "0         1      1193       5\n",
       "3         1      3408       4\n",
       "4         1      2355       5\n",
       "6         1      1287       5\n",
       "7         1      2804       5\n",
       "8         1       594       4\n",
       "9         1       919       4\n",
       "10        1       595       5\n",
       "11        1       938       4\n",
       "12        1      2398       4"
      ]
     },
     "execution_count": 7,
     "metadata": {},
     "output_type": "execute_result"
    }
   ],
   "source": [
    "implicit_ratings.head(10)"
   ]
  },
  {
   "cell_type": "markdown",
   "metadata": {
    "id": "QRMA1PeTuSMv"
   },
   "source": [
    "Удобнее работать с sparse матричками, давайте преобразуем DataFrame в CSR матрицы"
   ]
  },
  {
   "cell_type": "code",
   "execution_count": 8,
   "metadata": {
    "id": "uWexXohMuSMv"
   },
   "outputs": [],
   "source": [
    "users = implicit_ratings[\"user_id\"]\n",
    "movies = implicit_ratings[\"movie_id\"]\n",
    "user_item = sp.coo_matrix((np.ones_like(users), (users, movies)))\n",
    "user_item_t_csr = user_item.T.tocsr()\n",
    "user_item_csr = user_item.tocsr()"
   ]
  },
  {
   "cell_type": "markdown",
   "metadata": {
    "id": "oBE9FRzOuSMw"
   },
   "source": [
    "В качестве примера воспользуемся ALS разложением из библиотеки implicit\n",
    "\n",
    "Зададим размерность латентного пространства равным 64, это же определяет размер user/item эмбедингов"
   ]
  },
  {
   "cell_type": "code",
   "execution_count": 9,
   "metadata": {
    "id": "KKfXUy3_uSMw"
   },
   "outputs": [
    {
     "name": "stderr",
     "output_type": "stream",
     "text": [
      "WARNING:root:OpenBLAS detected. Its highly recommend to set the environment variable 'export OPENBLAS_NUM_THREADS=1' to disable its internal multithreading\n"
     ]
    }
   ],
   "source": [
    "model = implicit.als.AlternatingLeastSquares(factors=64, iterations=100, calculate_training_loss=True)"
   ]
  },
  {
   "cell_type": "markdown",
   "metadata": {
    "id": "jRBJ6t-PuSMx"
   },
   "source": [
    "В качестве loss здесь всеми любимый RMSE"
   ]
  },
  {
   "cell_type": "code",
   "execution_count": 10,
   "metadata": {
    "id": "VBXoHxM-uSMx"
   },
   "outputs": [
    {
     "data": {
      "application/vnd.jupyter.widget-view+json": {
       "model_id": "643f68343ff5405197df1a1d597becfb",
       "version_major": 2,
       "version_minor": 0
      },
      "text/plain": [
       "HBox(children=(FloatProgress(value=0.0), HTML(value='')))"
      ]
     },
     "metadata": {},
     "output_type": "display_data"
    },
    {
     "name": "stdout",
     "output_type": "stream",
     "text": [
      "\n"
     ]
    }
   ],
   "source": [
    "model.fit(user_item_t_csr)"
   ]
  },
  {
   "cell_type": "markdown",
   "metadata": {
    "id": "G1Xc5AmTuSMy"
   },
   "source": [
    "Построим похожие фильмы по 1 movie_id = Истории игрушек"
   ]
  },
  {
   "cell_type": "code",
   "execution_count": 11,
   "metadata": {
    "id": "PFB6JDXzuSMy"
   },
   "outputs": [
    {
     "data": {
      "text/html": [
       "<div>\n",
       "<style scoped>\n",
       "    .dataframe tbody tr th:only-of-type {\n",
       "        vertical-align: middle;\n",
       "    }\n",
       "\n",
       "    .dataframe tbody tr th {\n",
       "        vertical-align: top;\n",
       "    }\n",
       "\n",
       "    .dataframe thead th {\n",
       "        text-align: right;\n",
       "    }\n",
       "</style>\n",
       "<table border=\"1\" class=\"dataframe\">\n",
       "  <thead>\n",
       "    <tr style=\"text-align: right;\">\n",
       "      <th></th>\n",
       "      <th>movie_id</th>\n",
       "      <th>name</th>\n",
       "      <th>category</th>\n",
       "    </tr>\n",
       "  </thead>\n",
       "  <tbody>\n",
       "    <tr>\n",
       "      <th>0</th>\n",
       "      <td>1</td>\n",
       "      <td>Toy Story (1995)</td>\n",
       "      <td>Animation|Children's|Comedy</td>\n",
       "    </tr>\n",
       "    <tr>\n",
       "      <th>1</th>\n",
       "      <td>2</td>\n",
       "      <td>Jumanji (1995)</td>\n",
       "      <td>Adventure|Children's|Fantasy</td>\n",
       "    </tr>\n",
       "    <tr>\n",
       "      <th>2</th>\n",
       "      <td>3</td>\n",
       "      <td>Grumpier Old Men (1995)</td>\n",
       "      <td>Comedy|Romance</td>\n",
       "    </tr>\n",
       "    <tr>\n",
       "      <th>3</th>\n",
       "      <td>4</td>\n",
       "      <td>Waiting to Exhale (1995)</td>\n",
       "      <td>Comedy|Drama</td>\n",
       "    </tr>\n",
       "    <tr>\n",
       "      <th>4</th>\n",
       "      <td>5</td>\n",
       "      <td>Father of the Bride Part II (1995)</td>\n",
       "      <td>Comedy</td>\n",
       "    </tr>\n",
       "  </tbody>\n",
       "</table>\n",
       "</div>"
      ],
      "text/plain": [
       "   movie_id                                name                      category\n",
       "0         1                    Toy Story (1995)   Animation|Children's|Comedy\n",
       "1         2                      Jumanji (1995)  Adventure|Children's|Fantasy\n",
       "2         3             Grumpier Old Men (1995)                Comedy|Romance\n",
       "3         4            Waiting to Exhale (1995)                  Comedy|Drama\n",
       "4         5  Father of the Bride Part II (1995)                        Comedy"
      ]
     },
     "execution_count": 11,
     "metadata": {},
     "output_type": "execute_result"
    }
   ],
   "source": [
    "movie_info.head(5)"
   ]
  },
  {
   "cell_type": "code",
   "execution_count": 12,
   "metadata": {
    "id": "cxq1dmk8uSMz"
   },
   "outputs": [],
   "source": [
    "get_similars = lambda item_id, model : [movie_info[movie_info[\"movie_id\"] == x[0]][\"name\"].to_string() \n",
    "                                        for x in model.similar_items(item_id)]"
   ]
  },
  {
   "cell_type": "markdown",
   "metadata": {
    "id": "BsWDYsiiuSMz"
   },
   "source": [
    "Как мы видим, симилары действительно оказались симиларами.\n",
    "\n",
    "Качество симиларов часто является хорошим способом проверить качество алгоритмов.\n",
    "\n",
    "P.S. Если хочется поглубже разобраться в том как разные алгоритмы формируют разные латентные пространства, рекомендую загружать полученные вектора в tensorBoard и смотреть на сформированное пространство"
   ]
  },
  {
   "cell_type": "code",
   "execution_count": 13,
   "metadata": {
    "id": "XG-KEUnGuSM0"
   },
   "outputs": [
    {
     "data": {
      "text/plain": [
       "['0    Toy Story (1995)',\n",
       " '3045    Toy Story 2 (1999)',\n",
       " \"2286    Bug's Life, A (1998)\",\n",
       " '33    Babe (1995)',\n",
       " '584    Aladdin (1992)',\n",
       " '2315    Babe: Pig in the City (1998)',\n",
       " '360    Lion King, The (1994)',\n",
       " '1838    Mulan (1998)',\n",
       " '2618    Tarzan (1999)',\n",
       " '1526    Hercules (1997)']"
      ]
     },
     "execution_count": 13,
     "metadata": {},
     "output_type": "execute_result"
    }
   ],
   "source": [
    "get_similars(1, model)"
   ]
  },
  {
   "cell_type": "markdown",
   "metadata": {
    "id": "d50ddheEuSM0"
   },
   "source": [
    "Давайте теперь построим рекомендации для юзеров\n",
    "\n",
    "Как мы видим юзеру нравится фантастика, значит и в рекомендациях ожидаем увидеть фантастику"
   ]
  },
  {
   "cell_type": "code",
   "execution_count": 14,
   "metadata": {
    "id": "XGshZYRHuSM1"
   },
   "outputs": [],
   "source": [
    "get_user_history = lambda user_id, implicit_ratings : [movie_info[movie_info[\"movie_id\"] == x][\"name\"].to_string() \n",
    "                                            for x in implicit_ratings[implicit_ratings[\"user_id\"] == user_id][\"movie_id\"]]"
   ]
  },
  {
   "cell_type": "code",
   "execution_count": 15,
   "metadata": {
    "id": "xJtJtFuquSM1"
   },
   "outputs": [
    {
     "data": {
      "text/plain": [
       "['3399    Hustler, The (1961)',\n",
       " '2882    Fistful of Dollars, A (1964)',\n",
       " '1196    Alien (1979)',\n",
       " '1023    Die Hard (1988)',\n",
       " '257    Star Wars: Episode IV - A New Hope (1977)',\n",
       " '1959    Saving Private Ryan (1998)',\n",
       " '476    Jurassic Park (1993)',\n",
       " '1180    Raiders of the Lost Ark (1981)',\n",
       " '1885    Rocky (1976)',\n",
       " '1081    E.T. the Extra-Terrestrial (1982)',\n",
       " '3349    Thelma & Louise (1991)',\n",
       " '3633    Mad Max (1979)',\n",
       " '2297    King Kong (1933)',\n",
       " '1366    Jaws (1975)',\n",
       " '1183    Good, The Bad and The Ugly, The (1966)',\n",
       " '2623    Run Lola Run (Lola rennt) (1998)',\n",
       " '2878    Goldfinger (1964)',\n",
       " '1220    Terminator, The (1984)']"
      ]
     },
     "execution_count": 15,
     "metadata": {},
     "output_type": "execute_result"
    }
   ],
   "source": [
    "get_user_history(4, implicit_ratings)"
   ]
  },
  {
   "cell_type": "markdown",
   "metadata": {
    "id": "oTah-XK2uSM2"
   },
   "source": [
    "Получилось! \n",
    "\n",
    "Мы действительно порекомендовали пользователю фантастику и боевики, более того встречаются продолжения тех фильмов, которые он высоко оценил"
   ]
  },
  {
   "cell_type": "code",
   "execution_count": 16,
   "metadata": {
    "id": "3a653ZMkuSM3"
   },
   "outputs": [],
   "source": [
    "get_recommendations = lambda user_id, model : [movie_info[movie_info[\"movie_id\"] == x[0]][\"name\"].to_string() \n",
    "                                               for x in model.recommend(user_id, user_item_csr)]"
   ]
  },
  {
   "cell_type": "code",
   "execution_count": 17,
   "metadata": {
    "id": "3pGX5qP6uSM4"
   },
   "outputs": [
    {
     "data": {
      "text/plain": [
       "['585    Terminator 2: Judgment Day (1991)',\n",
       " '1271    Indiana Jones and the Last Crusade (1989)',\n",
       " '2502    Matrix, The (1999)',\n",
       " '1182    Aliens (1986)',\n",
       " '1284    Butch Cassidy and the Sundance Kid (1969)',\n",
       " '1178    Star Wars: Episode V - The Empire Strikes Back...',\n",
       " '847    Godfather, The (1972)',\n",
       " '3402    Close Encounters of the Third Kind (1977)',\n",
       " '1892    Rain Man (1988)',\n",
       " '453    Fugitive, The (1993)']"
      ]
     },
     "execution_count": 17,
     "metadata": {},
     "output_type": "execute_result"
    }
   ],
   "source": [
    "get_recommendations(4, model)"
   ]
  },
  {
   "cell_type": "code",
   "execution_count": null,
   "metadata": {
    "id": "ScS4z4WIuSM5"
   },
   "outputs": [],
   "source": []
  },
  {
   "cell_type": "markdown",
   "metadata": {
    "id": "1_JgH1jwuSM6"
   },
   "source": [
    "Теперь ваша очередь реализовать самые популярные алгоритмы матричных разложений\n",
    "\n",
    "Что будет оцениваться:\n",
    "1. Корректность алгоритма\n",
    "2. Качество получившихся симиларов\n",
    "3. Качество итоговых рекомендаций для юзера"
   ]
  },
  {
   "cell_type": "markdown",
   "metadata": {
    "id": "_09e4MBfuSM7"
   },
   "source": [
    "Сделаем сначала с рейтингом тоже самое что и с implicit данными (для rmse)"
   ]
  },
  {
   "cell_type": "code",
   "execution_count": 18,
   "metadata": {
    "id": "VKGX36E5uSM8"
   },
   "outputs": [],
   "source": [
    "users = ratings[\"user_id\"]\n",
    "movies = ratings[\"movie_id\"]\n",
    "user_item_exp = sp.coo_matrix((ratings[\"rating\"], (users, movies)))"
   ]
  },
  {
   "cell_type": "markdown",
   "metadata": {
    "id": "IVJLwdSRuSM8"
   },
   "source": [
    "Задание состоит в разделении матрицы на две - юзеры и фильмы, чтобы рекомендовать и находить похожие, мне удобно будет сделать класс, от которого 4 раза можно отнаследоваться"
   ]
  },
  {
   "cell_type": "markdown",
   "metadata": {
    "id": "H6q2WljquSM9"
   },
   "source": [
    "Очевидно нам понадобится rmse и 2 предсказателя"
   ]
  },
  {
   "cell_type": "code",
   "execution_count": 19,
   "metadata": {
    "id": "DkYKRywEuSM-"
   },
   "outputs": [],
   "source": [
    "from tqdm import tqdm\n",
    "from sklearn import metrics\n",
    "from sklearn.metrics.pairwise import cosine_similarity\n",
    "import math\n",
    "class Base:\n",
    "    def __init__(self, matrix, ratings, k, amount_of_users, amount_of_movies, start):\n",
    "        self.ratings = ratings\n",
    "        self.matrix = matrix\n",
    "        self.k = k\n",
    "        self.U = np.random.uniform(0, start / math.sqrt(k), (amount_of_users, k))\n",
    "        self.M = np.random.uniform(0, start / math.sqrt(k), (k, amount_of_movies))\n",
    "        self.B_u = np.zeros((amount_of_users, 1))\n",
    "        self.B_m = np.zeros((1, amount_of_movies))\n",
    "        self.mu = ratings.rating.mean() \n",
    "    \n",
    "    def rmse(self):\n",
    "        ans = self.ratings\n",
    "        matr2 = (self.U @ self.M)[ans[\"user_id\"], ans[\"movie_id\"]]\n",
    "        return metrics.mean_squared_error(self.ratings[\"rating\"], matr2, squared=True)\n",
    "    def make_recomendation(self, u_id):\n",
    "        print('User films')\n",
    "        print()\n",
    "        u_films = get_user_history(u_id, ratings)[:10]\n",
    "        print(*u_films, sep='\\n')\n",
    "        print()\n",
    "        print('Recomendation')\n",
    "        print()\n",
    "        prediction = self.U @ self.M\n",
    "        rating = np.argsort(prediction[u_id])[::-1]\n",
    "        return rating\n",
    "        \n",
    "    \n",
    "    def make_recomendation(self, u_id):\n",
    "        print('User films')\n",
    "        print()\n",
    "        u_films = get_user_history(u_id, self.ratings)[:10]\n",
    "        print(*u_films, sep='\\n')\n",
    "        print()\n",
    "        print('Recomendation')\n",
    "        print()\n",
    "        prediction = self.U @ self.M\n",
    "        rating = np.argsort(prediction[u_id])[::-1]\n",
    "        for i in rating[:10]:\n",
    "            print(*movie_info[movie_info['movie_id'] == i][['name', 'category']].values)\n",
    "        return\n",
    "\n",
    "    def find_similar1(self, m_id):\n",
    "        print('Film', movie_info[movie_info['movie_id'] == m_id][['name', 'category']].to_string())\n",
    "        similarity = np.dot(self.M[:,m_id], self.M) / np.sqrt((self.M * self.M).sum(axis=0)) / np.sqrt((self.M[:,m_id] ** 2).sum())\n",
    "        recomend = np.argsort(similarity)[::-1]\n",
    "        for i in recomend[:10]:\n",
    "            print(movie_info[movie_info['movie_id'] == i][['name', 'category']].values)\n",
    "        return\n",
    "        \n",
    "    def find_similar2(self, m_id):\n",
    "        movies = self.M.T\n",
    "        print('Film', movie_info[movie_info['movie_id'] == m_id][['name', 'category']].to_string())\n",
    "        matr1 = movies[m_id]\n",
    "        matr2 = movies\n",
    "        similarity = cosine_similarity(np.expand_dims(matr1, axis=0), self.M.T)[0]\n",
    "        similarity = np.argsort(similarity)[::-1]\n",
    "        #similarity = np.dot(self.M[:,m_id], self.M) / np.sqrt((self.M * self.M).sum(axis=0)) / np.sqrt((self.M[:,m_id] ** 2).sum())\n",
    "        for i in similarity[:10]:\n",
    "            print(movie_info[movie_info['movie_id'] == i][['name', 'category']].values)\n",
    "        return"
   ]
  },
  {
   "cell_type": "markdown",
   "metadata": {
    "id": "ujQCY1vGuSNA"
   },
   "source": [
    "### Задание 1. Не использую готовые решения, реализовать SVD разложение используя SGD на explicit данных"
   ]
  },
  {
   "cell_type": "markdown",
   "metadata": {
    "id": "EnvbLuTzuSNB"
   },
   "source": [
    "Делаем все по презентации, добавляя Баеса"
   ]
  },
  {
   "cell_type": "code",
   "execution_count": 20,
   "metadata": {
    "id": "CpofjXlcuSNB"
   },
   "outputs": [],
   "source": [
    "class SVD(Base):\n",
    "    def __init__(self, matrix, ratings, k, amount_of_users, amount_of_movies, start):\n",
    "        super().__init__(matrix, ratings, k, amount_of_users, amount_of_movies, start)\n",
    "    def fit(self, ops, learning_rate = 0.01, regular = 0.001):\n",
    "        inds = [i for i in range(len(self.ratings))]\n",
    "        np.random.shuffle(inds)        \n",
    "        for i in range(ops):\n",
    "            ind = inds[i % len(self.ratings)]\n",
    "            u_id = self.ratings.loc[ind]['user_id']\n",
    "            m_id = self.ratings.loc[ind]['movie_id']\n",
    "            rat = self.ratings.loc[ind]['rating']\n",
    "            error = self.U[u_id] @ self.M[:,m_id] - rat #+ self.B_u[u_id] + self.B_m[:,m_id] + self.mu\n",
    "            self.U[u_id], self.M[:,m_id] = self.U[u_id] - learning_rate * (error * (self.M[:,m_id]).T + regular * self.U[u_id]), self.M[:,m_id] - learning_rate * (error * (self.U[u_id]).T + regular * self.M[:,m_id]) \n",
    "            #self.B_u[u_id] = self.B_u[u_id] - learning_rate * (error + regular * self.B_u[u_id])\n",
    "            #self.B_m[:,m_id] = self.B_m[:,m_id] - learning_rate * (error + regular * self.B_m[:, m_id])\n",
    "            #self.mu -= learning_rate * error\n",
    "            if (i % 100000 == 99999):\n",
    "                print(self.rmse())"
   ]
  },
  {
   "cell_type": "code",
   "execution_count": 21,
   "metadata": {
    "id": "ROvnnx64uSND"
   },
   "outputs": [
    {
     "name": "stdout",
     "output_type": "stream",
     "text": [
      "1.4179336403245346\n",
      "1.0826416840449478\n",
      "0.9767049625648012\n",
      "0.9266625624962188\n",
      "0.8968629515676552\n",
      "0.8802534058685242\n",
      "0.8679174748681324\n",
      "0.8585981805776317\n",
      "0.8515954937348734\n",
      "0.8451935544039382\n",
      "0.8421826087761396\n",
      "0.8382493717958327\n",
      "0.834755198983399\n",
      "0.8325736444645291\n",
      "0.8280625078677111\n",
      "0.8267478045267093\n",
      "0.8238135086376697\n",
      "0.8204708824832811\n",
      "0.817778965720124\n",
      "0.8140809787805837\n",
      "0.812197209327838\n",
      "0.8086219432528677\n",
      "0.8048198288034484\n",
      "0.8021484242946485\n",
      "0.7966805512663256\n",
      "0.793935738628228\n",
      "0.7893788907621084\n",
      "0.7841072555735213\n",
      "0.7793526199050635\n",
      "0.7734752045870481\n",
      "0.7697989297678024\n",
      "0.7638172277619504\n",
      "0.7580549634291401\n",
      "0.7532518906854005\n",
      "0.7463418131395286\n",
      "0.7414577701084257\n",
      "0.7361796019673915\n",
      "0.7295845734837918\n",
      "0.7238247060479683\n",
      "0.7173440890281692\n",
      "0.7130868905641812\n",
      "0.7063513309829934\n",
      "0.7003158663311325\n",
      "0.6953808355926823\n",
      "0.6882875308901187\n",
      "0.6830403879156141\n",
      "0.6777766017524983\n",
      "0.6710096507761328\n",
      "0.6653758715780038\n",
      "0.6590772984140165\n",
      "0.6547052184140981\n",
      "0.6482489470317624\n",
      "0.6423712083744547\n",
      "0.6377015965305598\n",
      "0.6310976598703386\n",
      "0.6260508303677529\n",
      "0.6212302067482466\n",
      "0.6152621642308967\n",
      "0.6098733003997074\n",
      "0.6043629457400652\n",
      "0.60063648278153\n",
      "0.5944372038740786\n",
      "0.5894683063422339\n",
      "0.5854700081023527\n",
      "0.5796345540972548\n",
      "0.5752354116553893\n",
      "0.5711709737333261\n",
      "0.5661032927289156\n",
      "0.5612326342311132\n",
      "0.5565801480321275\n",
      "0.553844517649973\n",
      "0.5481410568916745\n",
      "0.5442569377426518\n",
      "0.5411059978997451\n",
      "0.5358667346340925\n",
      "0.5322211207672178\n",
      "0.5289917436215787\n",
      "0.5247064435953654\n",
      "0.5209007647407037\n",
      "0.5167959117118847\n",
      "0.5147794199414153\n",
      "0.5098946653129931\n",
      "0.5068682714112136\n",
      "0.5044793450368557\n",
      "0.49979801590431155\n",
      "0.49703588863196535\n",
      "0.49436912280353484\n",
      "0.4908685233313884\n",
      "0.48771441339544025\n",
      "0.4842859925780635\n",
      "0.48274673870485785\n",
      "0.4787053806616115\n",
      "0.4763878184784127\n",
      "0.4744613613666616\n",
      "0.47035807224486753\n",
      "0.4681976185609485\n",
      "0.4659545636730396\n",
      "0.46311813333129903\n",
      "0.4604563989622954\n",
      "0.457675292655232\n",
      "0.45644188887951803\n",
      "0.4531251148428498\n",
      "0.45140975345809603\n",
      "0.44968537584055723\n",
      "0.4460990680584185\n",
      "0.4445278385558817\n",
      "0.44263026693632285\n",
      "0.44026910081428616\n",
      "0.4380379645116551\n",
      "0.43557858594091037\n",
      "0.4347011132047457\n",
      "0.43201754696604966\n",
      "0.43055360107575114\n",
      "0.4291946906882257\n",
      "0.42591338092635633\n",
      "0.4246976694128556\n",
      "0.42321091204047245\n",
      "0.4211864497842298\n",
      "0.4192867387446477\n",
      "0.41726896864548324\n",
      "0.4164747014525113\n",
      "0.4143353795276875\n",
      "0.41307006737441904\n",
      "0.41200880423159053\n",
      "0.40891903391778317\n",
      "0.40794758962509764\n",
      "0.40673528587897484\n",
      "0.40498424947063233\n",
      "0.40335119078929293\n",
      "0.4017286043198711\n",
      "0.4010323540933349\n",
      "0.3992555751759935\n",
      "0.3981115559380255\n",
      "0.3974242379866491\n",
      "0.3944788438833081\n",
      "0.39376402735611044\n",
      "0.3926034624873875\n",
      "0.3911932194583602\n",
      "0.38968506659907154\n",
      "0.3883230954906251\n",
      "0.3879348478603094\n",
      "0.38635155953508443\n",
      "0.3851493216984939\n",
      "0.3847755193262949\n",
      "0.3819696013899406\n",
      "0.38149598681809366\n",
      "0.3804494602841046\n",
      "0.3792526468709018\n",
      "0.3779054817690774\n",
      "0.3768182044379796\n",
      "0.37655927966171737\n",
      "0.3750544495559839\n",
      "0.37403138071375336\n",
      "0.3738439223622159\n",
      "0.3711116846760738\n",
      "0.37090972116191845\n",
      "0.3698141919587813\n",
      "0.3687524152338923\n",
      "0.36765000735552666\n",
      "0.3666749762210973\n",
      "0.3665704610964469\n",
      "0.365214018485137\n",
      "0.36430702503029005\n",
      "0.3642128554893955\n",
      "0.36160689472148183\n",
      "0.36155309329459673\n",
      "0.3605686206505651\n",
      "0.3596146165451355\n",
      "0.3586533252644262\n",
      "0.3578358281198142\n",
      "0.3577796510828409\n",
      "0.35659365580558755\n",
      "0.35558919153993795\n",
      "0.35570855209049873\n",
      "0.353205837326352\n",
      "0.3532097247526092\n",
      "0.35241337878022133\n",
      "0.35159924712438456\n",
      "0.3505593778471423\n",
      "0.3500056437275519\n",
      "0.3500588788165013\n",
      "0.3488969616529578\n",
      "0.34796173808293235\n",
      "0.34815056374015896\n",
      "0.3457379317205723\n",
      "0.3458691430829008\n",
      "0.34515591149824804\n",
      "0.3443995762743978\n",
      "0.3434657502662833\n",
      "0.3428576418108176\n",
      "0.3431653069223634\n",
      "0.3420012094529714\n",
      "0.34105831778977047\n",
      "0.34149024195976574\n",
      "0.3392459116837802\n",
      "0.33936559439613084\n",
      "0.33861843343193987\n",
      "0.3380019978774758\n",
      "0.33702748251128245\n",
      "0.33647215020891114\n",
      "0.33698853226900183\n",
      "0.33587374196906317\n",
      "0.33503669316485074\n",
      "0.3354540993134049\n",
      "0.33325817968393673\n",
      "0.33338111077352056\n",
      "0.33266533205358606\n",
      "0.3322641653501396\n",
      "0.33129205339344364\n",
      "0.33084581307507693\n",
      "0.3313101132742931\n",
      "0.3303927153910725\n",
      "0.329572849482469\n",
      "0.3299066565279608\n",
      "0.3279010091647204\n",
      "0.32803743496543214\n",
      "0.32740752274575635\n",
      "0.3270740244290731\n",
      "0.32611530794512006\n",
      "0.3256776561624217\n",
      "0.3263581624134124\n",
      "0.32536126275250266\n",
      "0.32470111096263754\n",
      "0.32498212431093826\n",
      "0.32302059786069837\n",
      "0.32318088398772155\n",
      "0.3226526665633274\n",
      "0.32231757604275135\n",
      "0.3212753751413283\n",
      "0.32098939568927015\n",
      "0.32161431524059003\n",
      "0.3207106536234625\n",
      "0.32018383964327235\n",
      "0.32037648589429424\n",
      "0.31853984531341395\n",
      "0.3187645798000855\n",
      "0.31812178566083976\n",
      "0.31803650224963625\n",
      "0.31694613654127124\n",
      "0.3166937495587386\n",
      "0.31732445681848215\n",
      "0.3165866230134755\n",
      "0.3160678131231399\n",
      "0.31611260371344874\n",
      "0.314557056781449\n",
      "0.3147537751279853\n",
      "0.31407987612479005\n",
      "0.3141506505102516\n",
      "0.3130192028752791\n",
      "0.3127161833467327\n",
      "0.31343157415555767\n",
      "0.3126282303259066\n",
      "0.31231471227100593\n",
      "0.3123196647442227\n",
      "0.3108322094131971\n",
      "0.3110762836781418\n",
      "0.3103635733025856\n",
      "0.31048296338475473\n",
      "0.3094696147454081\n",
      "0.309128421976634\n",
      "0.3099391160681896\n",
      "0.30912443177537624\n",
      "0.30873721358166095\n",
      "0.3087746166446589\n",
      "0.3073357377332715\n",
      "0.30756710958494315\n",
      "0.30687432501290496\n",
      "0.30706902235368955\n",
      "0.30606849429612576\n",
      "0.30590571028177016\n",
      "0.306723129887421\n",
      "0.30583952941893355\n",
      "0.30557681777476353\n",
      "0.3054509740279808\n",
      "0.30421091889163293\n",
      "0.3044193572600396\n",
      "0.3036256978705528\n",
      "0.3039704614381235\n",
      "0.30299046600318313\n",
      "0.3027832559589844\n",
      "0.3036565566903745\n",
      "0.3029020594527323\n",
      "0.3026141011593029\n",
      "0.30245941469196924\n",
      "0.30129696900516667\n",
      "0.3014907802667134\n",
      "0.30069394026077734\n",
      "0.30109996280702944\n",
      "0.3001022603953726\n",
      "0.3000322694809235\n",
      "0.30082184654710387\n",
      "0.300081991614392\n",
      "0.2999116868904125\n",
      "0.29969236790995024\n",
      "0.2986269315065608\n",
      "0.298875061178478\n",
      "0.2978952542716488\n",
      "0.2983873300616624\n",
      "0.2975090492978301\n",
      "0.2973749006174566\n",
      "0.298191672792004\n",
      "0.2974472077588201\n",
      "0.2973325022143829\n",
      "0.29705464546289156\n",
      "0.2960953797525287\n",
      "0.2962671106634823\n",
      "0.295396533039722\n",
      "0.2958942999891792\n",
      "0.2950675190682057\n",
      "0.2950098548648729\n",
      "0.2955997280090448\n",
      "0.29513647139351107\n",
      "0.2950450566017771\n",
      "0.2946233461138489\n",
      "0.2936953290905872\n",
      "0.2939335753324266\n",
      "0.29291848818229543\n",
      "0.2935592203021468\n",
      "0.2928157615826231\n",
      "0.2927996111249389\n",
      "0.29322951661413166\n",
      "0.2927622399963108\n",
      "0.2928587349646648\n",
      "0.2923363491623412\n",
      "0.29159275714132377\n",
      "0.29166411208594734\n",
      "0.2907094486358581\n",
      "0.2914103158830402\n",
      "0.2907155947985856\n",
      "0.290659101194929\n",
      "0.29109332247332453\n",
      "0.29066811121798936\n",
      "0.29078060490494795\n",
      "0.2901989143413189\n",
      "0.28948838308146446\n",
      "0.2895762018291186\n",
      "0.2885825678876661\n",
      "0.28937940559038366\n",
      "0.28867009625735784\n",
      "0.2886606072613457\n",
      "0.2890570562300593\n",
      "0.2886681514266187\n",
      "0.2887915717261096\n",
      "0.28810689087020835\n",
      "0.28759997256353803\n",
      "0.2876465116445077\n",
      "0.2866086006239575\n",
      "0.2874307406005549\n",
      "0.2868457853833436\n",
      "0.2867216636445842\n",
      "0.2871376636593345\n",
      "0.28673481110242316\n",
      "0.2869051548557474\n",
      "0.28626772797130245\n",
      "0.2858420000062359\n",
      "0.28577786603075606\n",
      "0.2848239405741178\n",
      "0.28568194341185305\n",
      "0.28514413029551017\n",
      "0.28492413917762116\n",
      "0.2853500505193793\n",
      "0.28493798855890284\n",
      "0.285252653878952\n",
      "0.2844691018558421\n",
      "0.2840646276847961\n",
      "0.28405936115310704\n",
      "0.28313425376899715\n",
      "0.2840557111107295\n",
      "0.2834088596509815\n",
      "0.28324310473031594\n",
      "0.2835005523892224\n",
      "0.28327392358270054\n",
      "0.283546898206022\n",
      "0.2828380429637929\n",
      "0.28242097100071345\n",
      "0.2823949809980976\n",
      "0.2815423767399704\n",
      "0.28245480880829865\n",
      "0.2817083326387209\n",
      "0.28160198047053336\n",
      "0.28186408229184134\n",
      "0.2816739288883393\n",
      "0.2820223892273846\n",
      "0.2812154214393964\n",
      "0.28073982916448864\n",
      "0.28077734615783084\n",
      "0.2799434542932256\n",
      "0.2807891483910987\n",
      "0.280166457870607\n",
      "0.2800064646002008\n",
      "0.2802520028403378\n",
      "0.2801305763521838\n",
      "0.2805095509177342\n",
      "0.27958851268424734\n",
      "0.27932073908506216\n",
      "0.2793251483871977\n",
      "0.2784473613517958\n",
      "0.2793101331967795\n",
      "0.27872915808782733\n",
      "0.2784926322813101\n",
      "0.27880678445031304\n",
      "0.2786259809572742\n",
      "0.27911377942106874\n",
      "0.278152525235605\n",
      "0.277889998382799\n",
      "0.27796935144367646\n",
      "0.2770629375075615\n",
      "0.2779450771799601\n",
      "0.27738935705455486\n",
      "0.27714958959435854\n",
      "0.27743284430637877\n",
      "0.2771101209064198\n",
      "0.27775332715610596\n",
      "0.2768568913195886\n",
      "0.2765698142612591\n",
      "0.2766198837300736\n",
      "0.2757340207493751\n",
      "0.2766654899780258\n",
      "0.27605870456794407\n",
      "0.27582302127569325\n",
      "0.27608969308175335\n",
      "0.2757644831980844\n",
      "0.27636718171529995\n",
      "0.2755329270478239\n",
      "0.27532524483355847\n"
     ]
    },
    {
     "name": "stdout",
     "output_type": "stream",
     "text": [
      "0.27530610145567014\n",
      "0.27448378747657126\n",
      "0.2754982222609808\n",
      "0.27490308596281793\n",
      "0.27457409906666413\n",
      "0.27484713665405675\n",
      "0.27458502972821097\n",
      "0.2751637205601568\n",
      "0.27428089061560207\n",
      "0.274117145619832\n",
      "0.2739814780962666\n",
      "0.2733375436640005\n",
      "0.2742728739042617\n",
      "0.2736853090789028\n",
      "0.2734479786190569\n",
      "0.27374486058807934\n",
      "0.27340669151287544\n",
      "0.27397980431906577\n",
      "0.27311595340521744\n",
      "0.27285773786298495\n",
      "0.2727869830568699\n",
      "0.27225063039783176\n",
      "0.2730680671236802\n",
      "0.27254904020554066\n",
      "0.2723363350440423\n",
      "0.27268466754590776\n",
      "0.27228137462321667\n",
      "0.27286081276315965\n",
      "0.2720145001762435\n",
      "0.271677766275433\n",
      "0.2716072891576212\n",
      "0.2711775851962021\n",
      "0.271990186644265\n",
      "0.27148031210963514\n",
      "0.2712206970653837\n",
      "0.27164744836776944\n",
      "0.2711871053239348\n",
      "0.27171276746115375\n",
      "0.27093732307285745\n",
      "0.270564327116661\n",
      "0.2705021628378133\n",
      "0.2701739082105919\n",
      "0.27094436754721446\n",
      "0.2704314042511989\n",
      "0.27029387332484195\n",
      "0.27057363537885504\n",
      "0.2701118015295759\n",
      "0.2707103052507983\n",
      "0.2699924772088211\n",
      "0.269492598257\n",
      "0.26946362227502735\n",
      "0.26921861414548104\n",
      "0.2699677910709244\n",
      "0.26940063018010124\n",
      "0.2693306270347632\n",
      "0.2696004926157505\n",
      "0.26922536360172367\n",
      "0.2697829563405575\n",
      "0.2690782173161322\n",
      "0.2685623042575597\n",
      "0.2685101169764952\n",
      "0.26819013337932424\n",
      "0.26903196149235814\n",
      "0.2685081857313353\n",
      "0.26837537960612523\n",
      "0.26864200275108857\n",
      "0.26831728251211484\n",
      "0.26872564335783455\n",
      "0.26815810605921403\n",
      "0.2676911905446218\n",
      "0.2676015341367216\n",
      "0.26734847277644536\n",
      "0.2680735952121535\n",
      "0.2676792248226367\n",
      "0.2674798828138861\n"
     ]
    }
   ],
   "source": [
    "model = SVD(user_item_exp, ratings, 64, max(np.unique(ratings['user_id'])) + 1, max(np.unique(ratings['movie_id'])) + 1, np.sqrt(5))\n",
    "model.fit(50000000)"
   ]
  },
  {
   "cell_type": "markdown",
   "metadata": {
    "id": "uI1zC6rKbwoa"
   },
   "source": [
    "Пора получать рекомендации и находить похожее"
   ]
  },
  {
   "cell_type": "code",
   "execution_count": null,
   "metadata": {
    "id": "5JEqXrSkuSNF"
   },
   "outputs": [],
   "source": []
  },
  {
   "cell_type": "code",
   "execution_count": null,
   "metadata": {
    "id": "86QXivQxJyll"
   },
   "outputs": [],
   "source": []
  },
  {
   "cell_type": "code",
   "execution_count": 30,
   "metadata": {
    "id": "ZoQ4THe7uSNG"
   },
   "outputs": [
    {
     "name": "stdout",
     "output_type": "stream",
     "text": [
      "User films\n",
      "\n",
      "3399    Hustler, The (1961)\n",
      "1192    Star Wars: Episode VI - Return of the Jedi (1983)\n",
      "2882    Fistful of Dollars, A (1964)\n",
      "1196    Alien (1979)\n",
      "1023    Die Hard (1988)\n",
      "257    Star Wars: Episode IV - A New Hope (1977)\n",
      "1959    Saving Private Ryan (1998)\n",
      "476    Jurassic Park (1993)\n",
      "1178    Star Wars: Episode V - The Empire Strikes Back...\n",
      "1180    Raiders of the Lost Ark (1981)\n",
      "\n",
      "Recomendation\n",
      "\n",
      "['Goodbye Girl, The (1977)' 'Comedy|Romance']\n",
      "['American Movie (1999)' 'Documentary']\n",
      "['To Kill a Mockingbird (1962)' 'Drama']\n",
      "['Fitzcarraldo (1982)' 'Adventure|Drama']\n",
      "['Fargo (1996)' 'Crime|Drama|Thriller']\n",
      "['Annie Hall (1977)' 'Comedy|Romance']\n",
      "['Killer, The (Die xue shuang xiong) (1989)' 'Action|Thriller']\n",
      "['Hoop Dreams (1994)' 'Documentary']\n",
      "['Sling Blade (1996)' 'Drama|Thriller']\n",
      "['Winslow Boy, The (1998)' 'Drama']\n"
     ]
    }
   ],
   "source": [
    "model.make_recomendation(4)"
   ]
  },
  {
   "cell_type": "markdown",
   "metadata": {},
   "source": []
  },
  {
   "cell_type": "code",
   "execution_count": 28,
   "metadata": {
    "id": "TG8sDKlEuSNH"
   },
   "outputs": [
    {
     "name": "stdout",
     "output_type": "stream",
     "text": [
      "Film                name                     category\n",
      "0  Toy Story (1995)  Animation|Children's|Comedy\n",
      "[['Toy Story (1995)' \"Animation|Children's|Comedy\"]]\n",
      "[['Toy Story 2 (1999)' \"Animation|Children's|Comedy\"]]\n",
      "[[\"Bug's Life, A (1998)\" \"Animation|Children's|Comedy\"]]\n",
      "[['Aladdin (1992)' \"Animation|Children's|Comedy|Musical\"]]\n",
      "[['Battle of the Sexes, The (1959)' 'Comedy']]\n",
      "[['Scorta, La (1993)' 'Thriller']]\n",
      "[['Rear Window (1954)' 'Mystery|Thriller']]\n",
      "[['Cabinet of Dr. Ramirez, The (1991)' 'Comedy']]\n",
      "[[\"Pharaoh's Army (1995)\" 'War']]\n",
      "[['Of Love and Shadows (1994)' 'Drama']]\n"
     ]
    }
   ],
   "source": [
    "model.find_similar1(1)"
   ]
  },
  {
   "cell_type": "markdown",
   "metadata": {},
   "source": [
    "Почти все мультики)"
   ]
  },
  {
   "cell_type": "code",
   "execution_count": 29,
   "metadata": {
    "id": "P5__P5A9uSNH"
   },
   "outputs": [
    {
     "name": "stdout",
     "output_type": "stream",
     "text": [
      "Film                name                   category\n",
      "9  GoldenEye (1995)  Action|Adventure|Thriller\n",
      "[['GoldenEye (1995)' 'Action|Adventure|Thriller']]\n",
      "[['Tomorrow Never Dies (1997)' 'Action|Romance|Thriller']]\n",
      "[['World Is Not Enough, The (1999)' 'Action|Thriller']]\n",
      "[['For Your Eyes Only (1981)' 'Action']]\n",
      "[['From Russia with Love (1963)' 'Action']]\n",
      "[['Dr. No (1962)' 'Action']]\n",
      "[['Live and Let Die (1973)' 'Action']]\n",
      "[['Indiana Jones and the Last Crusade (1989)' 'Action|Adventure']]\n",
      "[['Project Moon Base (1953)' 'Sci-Fi']]\n",
      "[['Spy Who Loved Me, The (1977)' 'Action']]\n"
     ]
    }
   ],
   "source": [
    "model.find_similar2(10)"
   ]
  },
  {
   "cell_type": "markdown",
   "metadata": {},
   "source": [
    "Мега крутые похожие фильмы (несколько бондиан и индиана джонс)"
   ]
  },
  {
   "cell_type": "markdown",
   "metadata": {
    "id": "b1-y0Jb5uSNI"
   },
   "source": [
    "### Задание 2. Не использую готовые решения, реализовать матричное разложение используя ALS на implicit данных"
   ]
  },
  {
   "cell_type": "markdown",
   "metadata": {},
   "source": [
    "Используем статью http://yifanhu.net/PUB/cf.pdf"
   ]
  },
  {
   "cell_type": "code",
   "execution_count": 275,
   "metadata": {
    "id": "WL6ghuiLuSNJ"
   },
   "outputs": [],
   "source": [
    "class ALS(Base):\n",
    "    def __init__(self, matrix, ratings, k, amount_of_users, amount_of_movies, start):\n",
    "        super().__init__(matrix, ratings, k, amount_of_users, amount_of_movies, start)\n",
    "        self.M = self.M.T\n",
    "        self.C = self.matrix.toarray() * 0.01\n",
    "        self.C = self.C + 1\n",
    "    def fit(self, ops):\n",
    "        for i in range(ops):\n",
    "            if (i % 2 == 0):\n",
    "                self.M = model.step(self.U, self.C.T, self.matrix.T)\n",
    "            else:\n",
    "                self.U = model.step(self.M, self.C, self.matrix)\n",
    "            print(self.my_rmse())\n",
    "    def step(self, matr, C_to_use, rate, learning_rate = 0.01):\n",
    "        ans = np.zeros((len(C_to_use), self.k))\n",
    "        for i in range(len(C_to_use)):\n",
    "            bracket = np.linalg.inv(matr.T @ np.diag(C_to_use[i]) @ matr + learning_rate * np.eye(matr.shape[1]))\n",
    "            #print(bracket.shape)\n",
    "            bracket = bracket @ matr.T @ np.diag(C_to_use[i])\n",
    "            ans[i] = (bracket @ rate[i].T).T\n",
    "        return ans\n",
    "        \n",
    "        \n",
    "    def my_rmse(self):\n",
    "        ans = ratings\n",
    "        matr2 = ((self.U @ self.M.T))[ans[\"user_id\"], ans[\"movie_id\"]]\n",
    "        matr1 = self.matrix[ans[\"user_id\"], ans[\"movie_id\"]]\n",
    "        matr1 = np.squeeze(np.asarray(matr1))\n",
    "        #print(matr1)\n",
    "        #print(matr2)\n",
    "        #print(np.squeeze(self.matrix[ans[\"user_id\"], ans[\"movie_id\"]]))\n",
    "        return metrics.mean_squared_error(matr1, matr2, squared=True)"
   ]
  },
  {
   "cell_type": "code",
   "execution_count": 283,
   "metadata": {
    "id": "zpWNaycjuSNK"
   },
   "outputs": [
    {
     "name": "stdout",
     "output_type": "stream",
     "text": [
      "0.455701184373924\n",
      "0.3189876222076632\n",
      "0.276442639871987\n",
      "0.26368995632453907\n",
      "0.2593893417743478\n",
      "0.2567223388694169\n",
      "0.2555222963371137\n",
      "0.25455406588747614\n",
      "0.25406650825405225\n",
      "0.25360578433482406\n",
      "0.25337037458614653\n",
      "0.253114626146948\n",
      "0.252989130716757\n",
      "0.2528317016296451\n",
      "0.2527591642380387\n",
      "0.25265454001304594\n",
      "0.2526091785070115\n",
      "0.25253542346448976\n",
      "0.2525049139341488\n",
      "0.2524504411880954\n"
     ]
    }
   ],
   "source": [
    "model = ALS(user_item_csr, implicit_ratings, 64, max(np.unique(ratings['user_id'])) + 1, max(np.unique(ratings['movie_id'])) + 1, 1)\n",
    "model.fit(20)"
   ]
  },
  {
   "cell_type": "markdown",
   "metadata": {
    "id": "a1oUXDQEuSNM"
   },
   "source": [
    "Пора делать рекомендации (транспонируем так как в Базе другая размерность)"
   ]
  },
  {
   "cell_type": "code",
   "execution_count": 284,
   "metadata": {
    "id": "M5DSub3_uSNN"
   },
   "outputs": [
    {
     "name": "stdout",
     "output_type": "stream",
     "text": [
      "User films\n",
      "\n",
      "3399    Hustler, The (1961)\n",
      "2882    Fistful of Dollars, A (1964)\n",
      "1196    Alien (1979)\n",
      "1023    Die Hard (1988)\n",
      "257    Star Wars: Episode IV - A New Hope (1977)\n",
      "1959    Saving Private Ryan (1998)\n",
      "476    Jurassic Park (1993)\n",
      "1180    Raiders of the Lost Ark (1981)\n",
      "1885    Rocky (1976)\n",
      "1081    E.T. the Extra-Terrestrial (1982)\n",
      "\n",
      "Recomendation\n",
      "\n",
      "['Raiders of the Lost Ark (1981)' 'Action|Adventure']\n",
      "['Star Wars: Episode IV - A New Hope (1977)'\n",
      " 'Action|Adventure|Fantasy|Sci-Fi']\n",
      "['Jaws (1975)' 'Action|Horror']\n",
      "['E.T. the Extra-Terrestrial (1982)' \"Children's|Drama|Fantasy|Sci-Fi\"]\n",
      "['Saving Private Ryan (1998)' 'Action|Drama|War']\n",
      "['Terminator, The (1984)' 'Action|Sci-Fi|Thriller']\n",
      "['Alien (1979)' 'Action|Horror|Sci-Fi|Thriller']\n",
      "['Die Hard (1988)' 'Action|Thriller']\n",
      "['Terminator 2: Judgment Day (1991)' 'Action|Sci-Fi|Thriller']\n",
      "['Rocky (1976)' 'Action|Drama']\n"
     ]
    }
   ],
   "source": [
    "model.M = model.M.T\n",
    "model.make_recomendation(4)\n",
    "model.M = model.M.T"
   ]
  },
  {
   "cell_type": "code",
   "execution_count": 285,
   "metadata": {
    "id": "g0GWyJUjuSNN"
   },
   "outputs": [
    {
     "name": "stdout",
     "output_type": "stream",
     "text": [
      "Film                name                     category\n",
      "0  Toy Story (1995)  Animation|Children's|Comedy\n",
      "[['Toy Story (1995)' \"Animation|Children's|Comedy\"]]\n",
      "[['Toy Story 2 (1999)' \"Animation|Children's|Comedy\"]]\n",
      "[['Babe (1995)' \"Children's|Comedy|Drama\"]]\n",
      "[[\"Bug's Life, A (1998)\" \"Animation|Children's|Comedy\"]]\n",
      "[['Aladdin (1992)' \"Animation|Children's|Comedy|Musical\"]]\n",
      "[['Babe: Pig in the City (1998)' \"Children's|Comedy\"]]\n",
      "[['Pleasantville (1998)' 'Comedy']]\n",
      "[['Tarzan (1999)' \"Animation|Children's\"]]\n",
      "[['Lion King, The (1994)' \"Animation|Children's|Musical\"]]\n",
      "[['Hercules (1997)' \"Adventure|Animation|Children's|Comedy|Musical\"]]\n"
     ]
    }
   ],
   "source": [
    "model.M = model.M.T\n",
    "model.find_similar2(1)\n",
    "model.M = model.M.T"
   ]
  },
  {
   "cell_type": "code",
   "execution_count": 286,
   "metadata": {
    "id": "LAQkPC3LuSNO"
   },
   "outputs": [
    {
     "name": "stdout",
     "output_type": "stream",
     "text": [
      "Film                name                   category\n",
      "9  GoldenEye (1995)  Action|Adventure|Thriller\n",
      "[['GoldenEye (1995)' 'Action|Adventure|Thriller']]\n",
      "[['Tomorrow Never Dies (1997)' 'Action|Romance|Thriller']]\n",
      "[['World Is Not Enough, The (1999)' 'Action|Thriller']]\n",
      "[['Rush Hour (1998)' 'Action|Thriller']]\n",
      "[['Die Hard: With a Vengeance (1995)' 'Action|Thriller']]\n",
      "[['Licence to Kill (1989)' 'Action']]\n",
      "[['View to a Kill, A (1985)' 'Action']]\n",
      "[[\"Jackie Chan's First Strike (1996)\" 'Action']]\n",
      "[['Man with the Golden Gun, The (1974)' 'Action']]\n",
      "[['For Your Eyes Only (1981)' 'Action']]\n"
     ]
    }
   ],
   "source": [
    "model.M = model.M.T\n",
    "model.find_similar2(10)\n",
    "model.M = model.M.T"
   ]
  },
  {
   "cell_type": "markdown",
   "metadata": {},
   "source": [
    "Получилось!!!"
   ]
  },
  {
   "cell_type": "markdown",
   "metadata": {
    "id": "yO2lIHA3uSNP"
   },
   "source": [
    "### Задание 3. Не использую готовые решения, реализовать матричное разложение BPR на implicit данных"
   ]
  },
  {
   "cell_type": "markdown",
   "metadata": {
    "id": "K9RtriWTuSNP"
   },
   "source": [
    "TODO https://arxiv.org/ftp/arxiv/papers/1205/1205.2618.pdf"
   ]
  },
  {
   "cell_type": "markdown",
   "metadata": {
    "id": "JKO9lc9NuSNQ"
   },
   "source": [
    "### Задание 4. Не использую готовые решения, реализовать матричное разложение WARP на implicit данных"
   ]
  },
  {
   "cell_type": "code",
   "execution_count": null,
   "metadata": {
    "id": "TvUgcm0FuSNQ"
   },
   "outputs": [],
   "source": []
  }
 ],
 "metadata": {
  "accelerator": "GPU",
  "colab": {
   "collapsed_sections": [],
   "name": "Rec.ipynb",
   "provenance": []
  },
  "kernelspec": {
   "display_name": "Python 3",
   "language": "python",
   "name": "python3"
  },
  "language_info": {
   "codemirror_mode": {
    "name": "ipython",
    "version": 3
   },
   "file_extension": ".py",
   "mimetype": "text/x-python",
   "name": "python",
   "nbconvert_exporter": "python",
   "pygments_lexer": "ipython3",
   "version": "3.7.6"
  }
 },
 "nbformat": 4,
 "nbformat_minor": 1
}
